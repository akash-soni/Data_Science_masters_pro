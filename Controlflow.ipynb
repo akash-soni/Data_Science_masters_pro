{
  "nbformat": 4,
  "nbformat_minor": 0,
  "metadata": {
    "colab": {
      "provenance": [],
      "authorship_tag": "ABX9TyM4HKXuifScENznMU/+R+hk",
      "include_colab_link": true
    },
    "kernelspec": {
      "name": "python3",
      "display_name": "Python 3"
    },
    "language_info": {
      "name": "python"
    }
  },
  "cells": [
    {
      "cell_type": "markdown",
      "metadata": {
        "id": "view-in-github",
        "colab_type": "text"
      },
      "source": [
        "<a href=\"https://colab.research.google.com/github/akash-soni/Data_Science_masters_pro/blob/python/Controlflow.ipynb\" target=\"_parent\"><img src=\"https://colab.research.google.com/assets/colab-badge.svg\" alt=\"Open In Colab\"/></a>"
      ]
    },
    {
      "cell_type": "markdown",
      "source": [
        "Basic If-Else Statements:\n",
        "1. Write a Python program to check if a given number is positive or negative.\n",
        "\n",
        "\n"
      ],
      "metadata": {
        "id": "9dW-fZI53Cnr"
      }
    },
    {
      "cell_type": "code",
      "source": [
        "input_num = eval(input(\"input number: \"))\n",
        "if input_num > 0 :\n",
        "  print(\"number is +ve\")\n",
        "else:\n",
        "  print(\"number is -ve\")"
      ],
      "metadata": {
        "colab": {
          "base_uri": "https://localhost:8080/"
        },
        "id": "YjGxPVDd6mDD",
        "outputId": "c6471165-cd22-41f5-bf7f-e9dc8fb31029"
      },
      "execution_count": 1,
      "outputs": [
        {
          "output_type": "stream",
          "name": "stdout",
          "text": [
            "input number: -6\n",
            "number is -ve\n"
          ]
        }
      ]
    },
    {
      "cell_type": "markdown",
      "source": [
        "2. Create a program that determines if a person is eligible to vote based on their age.\n"
      ],
      "metadata": {
        "id": "YuH7qwh_4FYE"
      }
    },
    {
      "cell_type": "code",
      "source": [
        "age = eval(input(\"enter your age: \"))\n",
        "if age >= 18:\n",
        "  print(\"elgible to vote\")\n",
        "else:\n",
        "  print(\"not eligible to vote\")"
      ],
      "metadata": {
        "colab": {
          "base_uri": "https://localhost:8080/"
        },
        "id": "xrIgiPU_7PHz",
        "outputId": "9900e6fd-1f4b-4de2-f59c-094ae0612ca7"
      },
      "execution_count": 2,
      "outputs": [
        {
          "output_type": "stream",
          "name": "stdout",
          "text": [
            "enter your age: 12\n",
            "not eligible to vote\n"
          ]
        }
      ]
    },
    {
      "cell_type": "markdown",
      "source": [
        "3. Develop a program to find the maximum of two numbers using if-else statements.\n"
      ],
      "metadata": {
        "id": "-qN6ZYox4Hes"
      }
    },
    {
      "cell_type": "code",
      "source": [
        "num1 = eval(input(\"enter number1: \"))\n",
        "num2 = eval(input(\"enter number2: \"))\n",
        "\n",
        "if num1 > num2:\n",
        "  print(f\"{num1} is greater \")\n",
        "elif num1 == num2:\n",
        "  print(f\"{num1} is equal to {num2}\")\n",
        "else:\n",
        "  print(f\"{num2} is greater\")"
      ],
      "metadata": {
        "colab": {
          "base_uri": "https://localhost:8080/"
        },
        "id": "EhIT8jc_7nti",
        "outputId": "3d25e427-19f2-4e48-e014-d52260b98262"
      },
      "execution_count": 4,
      "outputs": [
        {
          "output_type": "stream",
          "name": "stdout",
          "text": [
            "enter number1: 45\n",
            "enter number2: 46\n",
            "46 is greater\n"
          ]
        }
      ]
    },
    {
      "cell_type": "markdown",
      "source": [
        "4. Write a Python script to classify a given year as a leap year or not.\n"
      ],
      "metadata": {
        "id": "iloyXZNz4KwJ"
      }
    },
    {
      "cell_type": "code",
      "source": [
        "year=int(input(\"Enter year to be checked:\"))\n",
        "if(year%4==0 and year%100!=0 or year%400==0):\n",
        "    print(\"The year is a leap year!\")\n",
        "else:\n",
        "    print(\"The year isn't a leap year!\")"
      ],
      "metadata": {
        "colab": {
          "base_uri": "https://localhost:8080/"
        },
        "id": "V7V4y56b9s8Z",
        "outputId": "f8c1ea5a-0562-42ba-8d0b-5023406ad799"
      },
      "execution_count": 5,
      "outputs": [
        {
          "output_type": "stream",
          "name": "stdout",
          "text": [
            "Enter year to be checked:1994\n",
            "The year isn't a leap year!\n"
          ]
        }
      ]
    },
    {
      "cell_type": "markdown",
      "source": [
        "5. Create a program that checks whether a character is a vowel or a consonant.\n"
      ],
      "metadata": {
        "id": "XfQtGMpN4L_3"
      }
    },
    {
      "cell_type": "code",
      "source": [
        "vowels = ['a','e','i','o','u']\n",
        "input_char = str(input(\"enter character: \"))\n",
        "if input_char.lower() in vowels:\n",
        "  print(\"entered character is vowel\")\n",
        "else:\n",
        "  print(\"entered character is consonent\")"
      ],
      "metadata": {
        "colab": {
          "base_uri": "https://localhost:8080/"
        },
        "id": "YrHQwUFU-CfX",
        "outputId": "3b01b133-bb73-46ef-d258-164e90e9ac65"
      },
      "execution_count": 7,
      "outputs": [
        {
          "output_type": "stream",
          "name": "stdout",
          "text": [
            "enter character: g\n",
            "entered character is consonent\n"
          ]
        }
      ]
    },
    {
      "cell_type": "markdown",
      "source": [
        "6. Implement a program to determine whether a given number is even or odd.\n"
      ],
      "metadata": {
        "id": "sUHqhicQ4NkV"
      }
    },
    {
      "cell_type": "code",
      "source": [
        "number=int(input(\"Enter number: \"))\n",
        "if number%2==0:\n",
        "  print(f\"{number} is even\")\n",
        "else:\n",
        "  print(f\"{number} is odd\")"
      ],
      "metadata": {
        "colab": {
          "base_uri": "https://localhost:8080/"
        },
        "id": "RBSfc4I3_4xh",
        "outputId": "44a537d4-ea90-4615-cbcc-eb66455c9e41"
      },
      "execution_count": 8,
      "outputs": [
        {
          "output_type": "stream",
          "name": "stdout",
          "text": [
            "Enter number: 43\n",
            "43 is odd\n"
          ]
        }
      ]
    },
    {
      "cell_type": "markdown",
      "source": [
        "7. Write a Python function to calculate the absolute value of a number without using the `abs()` function.\n"
      ],
      "metadata": {
        "id": "7Bw1LShb4PDn"
      }
    },
    {
      "cell_type": "code",
      "source": [
        "a = 5\n",
        "b = 7\n",
        "sub = a - b\n",
        "if sub < 0:\n",
        "  sub = -1 * sub\n",
        "\n",
        "print(f\"absolute value of |{a} - {b}| = {sub}\")"
      ],
      "metadata": {
        "colab": {
          "base_uri": "https://localhost:8080/"
        },
        "id": "ZqYBamrBAiWe",
        "outputId": "cfae14ad-9aed-4855-d06e-8b0d706565f3"
      },
      "execution_count": 10,
      "outputs": [
        {
          "output_type": "stream",
          "name": "stdout",
          "text": [
            "absolute value of |5 - 7| = 2\n"
          ]
        }
      ]
    },
    {
      "cell_type": "markdown",
      "source": [
        "8. Develop a program that determines the largest of three given numbers using if-else statements.\n"
      ],
      "metadata": {
        "id": "OqJD0WXq4QTv"
      }
    },
    {
      "cell_type": "code",
      "source": [
        "a = 5\n",
        "b = 4\n",
        "c = 7\n",
        "\n",
        "largest = 0\n",
        "\n",
        "if a > b and a > c:\n",
        "    largest = a\n",
        "if b > a and b > c:\n",
        "    largest = b\n",
        "if c > a and c > b:\n",
        "    largest = c\n",
        "\n",
        "print(largest, \"is the largest of three numbers.\")"
      ],
      "metadata": {
        "colab": {
          "base_uri": "https://localhost:8080/"
        },
        "id": "zIkayF4JBSie",
        "outputId": "db0ec73f-f695-423a-dee3-9ec91e2a51f2"
      },
      "execution_count": 11,
      "outputs": [
        {
          "output_type": "stream",
          "name": "stdout",
          "text": [
            "7 is the largest of three numbers.\n"
          ]
        }
      ]
    },
    {
      "cell_type": "markdown",
      "source": [
        "9. Create a program that checks if a given string is a palindrome.\n"
      ],
      "metadata": {
        "id": "-ebZE4-Y4R79"
      }
    },
    {
      "cell_type": "code",
      "source": [
        "input_string = \"madam\"\n",
        "\n",
        "if input_string == input_string[::-1]:\n",
        "  print(\"string is palindrome\")\n",
        "else:\n",
        "  print(\"string is not palindrome\")"
      ],
      "metadata": {
        "colab": {
          "base_uri": "https://localhost:8080/"
        },
        "id": "U3LliDk7BmPf",
        "outputId": "7eccb7a8-1e69-4ebe-ec5a-81302bca9480"
      },
      "execution_count": 12,
      "outputs": [
        {
          "output_type": "stream",
          "name": "stdout",
          "text": [
            "string is palindrome\n"
          ]
        }
      ]
    },
    {
      "cell_type": "markdown",
      "source": [
        "10. Write a Python program to calculate the grade based on a student's score.\n",
        "Nested If-Else Statements:\n"
      ],
      "metadata": {
        "id": "zTUSbVEM4TcU"
      }
    },
    {
      "cell_type": "code",
      "source": [
        "score = 13\n",
        "\n",
        "if score >= 90:\n",
        "    print(\"Grade: A\")\n",
        "else:\n",
        "    if score >= 70:\n",
        "        print(\"Grade: B\")\n",
        "    else:\n",
        "        if score >= 50:\n",
        "            print(\"Grade: C\")\n",
        "        else:\n",
        "            if score >= 40:\n",
        "                print(\"Grade: D\")\n",
        "            else:\n",
        "                print(\"Grade: Fail\")"
      ],
      "metadata": {
        "colab": {
          "base_uri": "https://localhost:8080/"
        },
        "id": "elpCfPKcCU2R",
        "outputId": "01dc36ee-ab4c-4745-b054-9656a1815124"
      },
      "execution_count": 14,
      "outputs": [
        {
          "output_type": "stream",
          "name": "stdout",
          "text": [
            "Grade: Fail\n"
          ]
        }
      ]
    },
    {
      "cell_type": "markdown",
      "source": [
        "11. Write a program to find the largest among three numbers using nested if-else statements.\n"
      ],
      "metadata": {
        "id": "qPo6RJE84UxU"
      }
    },
    {
      "cell_type": "code",
      "source": [
        "a = 5\n",
        "b = 4\n",
        "c = 7\n",
        "\n",
        "largest = 0\n",
        "\n",
        "if a > b and a > c:\n",
        "    largest = a\n",
        "if b > a and b > c:\n",
        "    largest = b\n",
        "if c > a and c > b:\n",
        "    largest = c\n",
        "\n",
        "print(largest, \"is the largest of three numbers.\")"
      ],
      "metadata": {
        "colab": {
          "base_uri": "https://localhost:8080/"
        },
        "id": "BTtdH8O8GuQS",
        "outputId": "2e3ac7d8-309e-4be4-bf16-7ede138156c5"
      },
      "execution_count": 17,
      "outputs": [
        {
          "output_type": "stream",
          "name": "stdout",
          "text": [
            "7 is the largest of three numbers.\n"
          ]
        }
      ]
    },
    {
      "cell_type": "markdown",
      "source": [
        "12. Implement a program to determine if a triangle is equilateral, isosceles, or scalene.\n"
      ],
      "metadata": {
        "id": "yN4JHA0n4V1h"
      }
    },
    {
      "cell_type": "code",
      "source": [
        "x = 8\n",
        "y = 7\n",
        "z = 9\n",
        "\n",
        "# _Check for equilateral triangle\n",
        "if x == y == z:\n",
        "    print(\"Equilateral Triangle\")\n",
        "\n",
        "# Check for isosceles triangle\n",
        "elif x == y or y == z or z == x:\n",
        "    print(\"Isosceles Triangle\")\n",
        "\n",
        "# Otherwise scalene triangle\n",
        "else:\n",
        "    print(\"Scalene Triangle\")\n"
      ],
      "metadata": {
        "colab": {
          "base_uri": "https://localhost:8080/"
        },
        "id": "roAP0DyGG2av",
        "outputId": "618ecba8-35ba-4293-8d42-a863190ab844"
      },
      "execution_count": 18,
      "outputs": [
        {
          "output_type": "stream",
          "name": "stdout",
          "text": [
            "Scalene Triangle\n"
          ]
        }
      ]
    },
    {
      "cell_type": "markdown",
      "source": [
        "13. Develop a program that checks if a year is a leap year and also if it is a century year.\n"
      ],
      "metadata": {
        "id": "WvfUP03E4W7o"
      }
    },
    {
      "cell_type": "code",
      "source": [
        "def is_leap_year(year):\n",
        "    # Check if the year is divisible by 4 and not divisible by 100\n",
        "    # or it is divisible by 400\n",
        "    if (year % 4 == 0 and year % 100 != 0) or (year % 400 == 0):\n",
        "        return True\n",
        "    else:\n",
        "        return False\n",
        "\n",
        "def is_century_year(year):\n",
        "    # Check if the year is divisible by 100\n",
        "    if year % 100 == 0:\n",
        "        return True\n",
        "    else:\n",
        "        return False\n",
        "\n",
        "# Input year from the user\n",
        "try:\n",
        "    year = int(input(\"Enter a year: \"))\n",
        "\n",
        "    if is_leap_year(year):\n",
        "        print(f\"{year} is a leap year.\")\n",
        "    else:\n",
        "        print(f\"{year} is not a leap year.\")\n",
        "\n",
        "    if is_century_year(year):\n",
        "        print(f\"{year} is a century year.\")\n",
        "    else:\n",
        "        print(f\"{year} is not a century year.\")\n",
        "except ValueError:\n",
        "    print(\"Invalid input. Please enter a valid year (integer).\")"
      ],
      "metadata": {
        "colab": {
          "base_uri": "https://localhost:8080/"
        },
        "id": "pLk6Bph5cjBq",
        "outputId": "8426a59b-dac4-4b15-b390-cda16adee53f"
      },
      "execution_count": 1,
      "outputs": [
        {
          "output_type": "stream",
          "name": "stdout",
          "text": [
            "Enter a year: 2000\n",
            "2000 is a leap year.\n",
            "2000 is a century year.\n"
          ]
        }
      ]
    },
    {
      "cell_type": "markdown",
      "source": [
        "14. Write a Python script to determine if a number is positive, negative, or zero.\n"
      ],
      "metadata": {
        "id": "xVxVc0f_4YFT"
      }
    },
    {
      "cell_type": "code",
      "source": [
        "number = int(input(\"Enter a number: \"))\n",
        "\n",
        "if number > 0:\n",
        "    print(f\"{number} is positive\")\n",
        "else:\n",
        "    if number == 0:\n",
        "        print(f\"{number} is zero\")\n",
        "    else:\n",
        "        print(f\"{number} is negative\")"
      ],
      "metadata": {
        "colab": {
          "base_uri": "https://localhost:8080/"
        },
        "id": "S4RpFi5seIaK",
        "outputId": "f39bb712-023f-4f9c-90f5-69034ed43d7a"
      },
      "execution_count": 27,
      "outputs": [
        {
          "output_type": "stream",
          "name": "stdout",
          "text": [
            "Enter a number: -8\n",
            "-8 is negative\n"
          ]
        }
      ]
    },
    {
      "cell_type": "markdown",
      "source": [
        "15. Create a program to check if a person is a teenager (between 13 and 19 years old).\n"
      ],
      "metadata": {
        "id": "UUpByI_w4ZXj"
      }
    },
    {
      "cell_type": "code",
      "source": [
        "age = int(input(\"Enter a age: \"))\n",
        "if (age>=13 and age<=19):\n",
        "  print(\"teenger\")\n",
        "else:\n",
        "  print(\"not teengager\")"
      ],
      "metadata": {
        "colab": {
          "base_uri": "https://localhost:8080/"
        },
        "id": "KlMAsrOIfJHe",
        "outputId": "85fc8e1c-765b-4beb-f71c-a907b4aca482"
      },
      "execution_count": 3,
      "outputs": [
        {
          "output_type": "stream",
          "name": "stdout",
          "text": [
            "Enter a age: 54\n",
            "not teengager\n"
          ]
        }
      ]
    },
    {
      "cell_type": "markdown",
      "source": [
        "16. Develop a program that determines the type of angle based on its measure (acute, obtuse, or right).\n"
      ],
      "metadata": {
        "id": "oYzjE4Mp4aqc"
      }
    },
    {
      "cell_type": "code",
      "source": [
        "def angle_type(angle):\n",
        "    if angle < 90:\n",
        "        return \"Acute Angle\"\n",
        "    elif angle == 90:\n",
        "        return \"Right Angle\"\n",
        "    else:\n",
        "        return \"Obtuse Angle\"\n",
        "\n",
        "try:\n",
        "    angle = float(input(\"Enter the angle measure in degrees: \"))\n",
        "\n",
        "    if angle >= 0 and angle < 180:\n",
        "        angle_classification = angle_type(angle)\n",
        "        print(f\"The angle with measure {angle} degrees is classified as a {angle_classification}.\")\n",
        "    else:\n",
        "        print(\"Invalid input. Please enter an angle measure between 0 and 180 degrees.\")\n",
        "except ValueError:\n",
        "    print(\"Invalid input. Please enter a valid angle measure (numeric).\")"
      ],
      "metadata": {
        "colab": {
          "base_uri": "https://localhost:8080/"
        },
        "id": "AQ9ohNpMgX8Z",
        "outputId": "8bef52f2-ee9f-477d-c79f-4b4e99eaf7ff"
      },
      "execution_count": 4,
      "outputs": [
        {
          "output_type": "stream",
          "name": "stdout",
          "text": [
            "Enter the angle measure in degrees: 54\n",
            "The angle with measure 54.0 degrees is classified as a Acute Angle.\n"
          ]
        }
      ]
    },
    {
      "cell_type": "code",
      "source": [],
      "metadata": {
        "id": "VB_MhVDGgSz4"
      },
      "execution_count": null,
      "outputs": []
    },
    {
      "cell_type": "markdown",
      "source": [
        "17. Write a Python program to calculate the roots of a quadratic equation.\n"
      ],
      "metadata": {
        "id": "j-vw_YfK4b3E"
      }
    },
    {
      "cell_type": "markdown",
      "source": [
        "**Roots**\n",
        "x = (-b ± sqrt(b^2 - 4ac)) / (2a)"
      ],
      "metadata": {
        "id": "a5o9cRoqhEUa"
      }
    },
    {
      "cell_type": "code",
      "source": [
        "import math\n",
        "\n",
        "def quad_roots(a,b,c):\n",
        "  val = (b**2)- (4*a*c)\n",
        "  if val > 0:\n",
        "    # Two distinct real roots\n",
        "    pos_root = ((-1*b) + math.sqrt(val))/(2*a)\n",
        "    neg_root = ((-1*b) - math.sqrt(val))/(2*a)\n",
        "    print(f\"The roots are real and distinct: {pos_root} and {neg_root}\")\n",
        "  elif ValueError == 0:\n",
        "    # One real root (a repeated root)\n",
        "    root = -b / (2*a)\n",
        "    print(f\"The root is real and repeated: {root}\")\n",
        "  else:\n",
        "    # Complex roots\n",
        "    real_part = -b / (2*a)\n",
        "    imaginary_part = math.sqrt(abs(val)) / (2*a)\n",
        "    print(f\"The roots are complex: {real_part} + {imaginary_part}i and {real_part} - {imaginary_part}i\")\n",
        "\n"
      ],
      "metadata": {
        "id": "wp9IF2Tvg0Rc"
      },
      "execution_count": 6,
      "outputs": []
    },
    {
      "cell_type": "code",
      "source": [
        "\n",
        "a = float(input(\"Enter the coefficient 'a': \"))\n",
        "b = float(input(\"Enter the coefficient 'b': \"))\n",
        "c = float(input(\"Enter the coefficient 'c': \"))\n",
        "\n",
        "quad_roots(a,b,c)"
      ],
      "metadata": {
        "colab": {
          "base_uri": "https://localhost:8080/"
        },
        "id": "X6VVzv_BjHAn",
        "outputId": "020bba5c-58dc-4aab-de75-560d9478766b"
      },
      "execution_count": 7,
      "outputs": [
        {
          "output_type": "stream",
          "name": "stdout",
          "text": [
            "Enter the coefficient 'a': 1\n",
            "Enter the coefficient 'b': 2\n",
            "Enter the coefficient 'c': 4\n",
            "The roots are complex: -1.0 + 1.7320508075688772i and -1.0 - 1.7320508075688772i\n"
          ]
        }
      ]
    },
    {
      "cell_type": "code",
      "source": [
        "\n",
        "a = float(input(\"Enter the coefficient 'a': \"))\n",
        "b = float(input(\"Enter the coefficient 'b': \"))\n",
        "c = float(input(\"Enter the coefficient 'c': \"))\n",
        "\n",
        "quad_roots(a,b,c)"
      ],
      "metadata": {
        "colab": {
          "base_uri": "https://localhost:8080/"
        },
        "id": "bdPZZclCjICW",
        "outputId": "41424cf3-fdf2-4505-d729-ae67a031956b"
      },
      "execution_count": 8,
      "outputs": [
        {
          "output_type": "stream",
          "name": "stdout",
          "text": [
            "Enter the coefficient 'a': 1\n",
            "Enter the coefficient 'b': 3\n",
            "Enter the coefficient 'c': -2\n",
            "The roots are real and distinct: 0.5615528128088303 and -3.5615528128088303\n"
          ]
        }
      ]
    },
    {
      "cell_type": "code",
      "source": [
        "\n",
        "a = float(input(\"Enter the coefficient 'a': \"))\n",
        "b = float(input(\"Enter the coefficient 'b': \"))\n",
        "c = float(input(\"Enter the coefficient 'c': \"))\n",
        "\n",
        "quad_roots(a,b,c)"
      ],
      "metadata": {
        "colab": {
          "base_uri": "https://localhost:8080/"
        },
        "id": "F8u_FMdRjIo5",
        "outputId": "40391c6f-8acf-4cc1-83af-38b97fbb0307"
      },
      "execution_count": 9,
      "outputs": [
        {
          "output_type": "stream",
          "name": "stdout",
          "text": [
            "Enter the coefficient 'a': 3\n",
            "Enter the coefficient 'b': 1\n",
            "Enter the coefficient 'c': 5\n",
            "The roots are complex: -0.16666666666666666 + 1.2801909579781012i and -0.16666666666666666 - 1.2801909579781012i\n"
          ]
        }
      ]
    },
    {
      "cell_type": "markdown",
      "source": [
        "18. Implement a program to determine the day of the week based on a user-provided number (1 for Monday, 2 for Tuesday, etc.).\n"
      ],
      "metadata": {
        "id": "deX8bwAx4dQk"
      }
    },
    {
      "cell_type": "code",
      "source": [
        "weekdays = [\"Monday\", \"Tuesday\", \"Wednesday\", \"Thursday\", \"Friday\", \"Saturday\", \"Sunday\"]\n",
        "number = int(input(\"Enter a number: \"))\n",
        "\n",
        "if number>=1 and number<=7:\n",
        "  day = weekdays[number-1]\n",
        "  print(f\"{number} day of week is {day}\")\n",
        "else:\n",
        "  print(\"entered number is incorrect\")"
      ],
      "metadata": {
        "colab": {
          "base_uri": "https://localhost:8080/"
        },
        "id": "DQnydMPYjmMj",
        "outputId": "b9b66f82-ee02-4f3f-950f-316f4c010c97"
      },
      "execution_count": 10,
      "outputs": [
        {
          "output_type": "stream",
          "name": "stdout",
          "text": [
            "Enter a number: 4\n",
            "4 day of week is Thursday\n"
          ]
        }
      ]
    },
    {
      "cell_type": "markdown",
      "source": [
        "19. Create a program that determines if a year is a leap year and also if it is evenly divisible by 400.\n"
      ],
      "metadata": {
        "id": "gja9OlV06jKS"
      }
    },
    {
      "cell_type": "code",
      "source": [
        "def is_leap_year(year):\n",
        "    # Check if the year is divisible by 4 and not divisible by 100\n",
        "    # or it is divisible by 400\n",
        "    if (year % 4 == 0 and year % 100 != 0) or (year % 400 == 0):\n",
        "        return True\n",
        "    else:\n",
        "        return False\n",
        "\n",
        "year = int(input(\"Enter a year: \"))\n",
        "\n",
        "if is_leap_year(year):\n",
        "    print(f\"{year} is a leap year.\")\n",
        "else:\n",
        "    print(f\"{year} is not a leap year.\")"
      ],
      "metadata": {
        "colab": {
          "base_uri": "https://localhost:8080/"
        },
        "id": "O-_CO6dwkx26",
        "outputId": "6ae9270f-8576-49f2-f617-bfaaca417b4b"
      },
      "execution_count": 11,
      "outputs": [
        {
          "output_type": "stream",
          "name": "stdout",
          "text": [
            "Enter a year: 2004\n",
            "2004 is a leap year.\n"
          ]
        }
      ]
    },
    {
      "cell_type": "code",
      "source": [],
      "metadata": {
        "id": "IgN2marMk6x1"
      },
      "execution_count": null,
      "outputs": []
    },
    {
      "cell_type": "markdown",
      "source": [
        "20. Develop a program that checks if a given number is prime or not using nested if-else statements."
      ],
      "metadata": {
        "id": "dd8drDor6knY"
      }
    },
    {
      "cell_type": "code",
      "source": [
        "try:\n",
        "    num = int(input(\"Enter a number: \"))\n",
        "\n",
        "    if num <= 1:\n",
        "        print(f\"{num} is not a prime number.\")\n",
        "    elif num == 2:\n",
        "        print(f\"{num} is a prime number.\")\n",
        "    else:\n",
        "        is_prime = True\n",
        "        for i in range(2, int(num ** 0.5) + 1):\n",
        "            if num % i == 0:\n",
        "                is_prime = False\n",
        "                break\n",
        "\n",
        "        if is_prime:\n",
        "            print(f\"{num} is a prime number.\")\n",
        "        else:\n",
        "            print(f\"{num} is not a prime number.\")\n",
        "except ValueError:\n",
        "    print(\"Invalid input. Please enter a valid integer.\")"
      ],
      "metadata": {
        "colab": {
          "base_uri": "https://localhost:8080/"
        },
        "id": "GbrZkJV9lL6r",
        "outputId": "58a08a08-3f53-4815-a022-e22d381b161e"
      },
      "execution_count": 12,
      "outputs": [
        {
          "output_type": "stream",
          "name": "stdout",
          "text": [
            "Enter a number: 7\n",
            "7 is a prime number.\n"
          ]
        }
      ]
    },
    {
      "cell_type": "markdown",
      "source": [
        "Elif Statements:\n",
        "\n",
        "\n"
      ],
      "metadata": {
        "id": "gDpab1bq32Zm"
      }
    },
    {
      "cell_type": "markdown",
      "source": [
        "21. Write a Python program to assign grades based on different ranges of scores using elif statements.\n"
      ],
      "metadata": {
        "id": "tS8oCU6Ql1n2"
      }
    },
    {
      "cell_type": "code",
      "source": [
        "score = 13\n",
        "if(score>=90):\n",
        "    print(\"Grade: A\")\n",
        "elif(score>=70 and score<90):\n",
        "    print(\"Grade: B\")\n",
        "elif(score>=50 and score<70):\n",
        "    print(\"Grade: C\")\n",
        "elif(score>=40 and score<50):\n",
        "    print(\"Grade: D\")\n",
        "else:\n",
        "    print(\"Grade: Fail\")"
      ],
      "metadata": {
        "colab": {
          "base_uri": "https://localhost:8080/"
        },
        "id": "zeviS8QJmElu",
        "outputId": "b2cc4e42-a37e-4e44-986e-39f56e3d65e8"
      },
      "execution_count": 13,
      "outputs": [
        {
          "output_type": "stream",
          "name": "stdout",
          "text": [
            "Grade: Fail\n"
          ]
        }
      ]
    },
    {
      "cell_type": "markdown",
      "source": [
        "22. Implement a program to determine the type of a triangle based on its angles.\n"
      ],
      "metadata": {
        "id": "pWwEciTZl3g2"
      }
    },
    {
      "cell_type": "code",
      "source": [
        "angle1 = float(input(\"Enter the measure of the first angle: \"))\n",
        "angle2 = float(input(\"Enter the measure of the second angle: \"))\n",
        "angle3 = float(input(\"Enter the measure of the third angle: \"))\n",
        "\n",
        "# Check if the angles form a valid triangle (sum of angles equals 180 degrees)\n",
        "if angle1 + angle2 + angle3 == 180:\n",
        "    # Check the type of triangle based on angle measures\n",
        "    if angle1 < 90 and angle2 < 90 and angle3 < 90:\n",
        "        print(\"It's an Acute Triangle.\")\n",
        "    elif angle1 == 90 or angle2 == 90 or angle3 == 90:\n",
        "        print(\"It's a Right Triangle.\")\n",
        "    else:\n",
        "        print(\"It's an Obtuse Triangle.\")\n",
        "else:\n",
        "    print(\"These angles do not form a valid triangle.\")"
      ],
      "metadata": {
        "colab": {
          "base_uri": "https://localhost:8080/"
        },
        "id": "23eDoDJWmjjY",
        "outputId": "6b89b9ed-f49c-4d4f-d5bb-2a711e2f62e6"
      },
      "execution_count": 16,
      "outputs": [
        {
          "output_type": "stream",
          "name": "stdout",
          "text": [
            "Enter the measure of the first angle: 20\n",
            "Enter the measure of the second angle: 120\n",
            "Enter the measure of the third angle: 40\n",
            "It's an Obtuse Triangle.\n"
          ]
        }
      ]
    },
    {
      "cell_type": "markdown",
      "source": [
        "23. Develop a program to categorize a given person's BMI into underweight, normal, overweight, or obese using elif statements.\n"
      ],
      "metadata": {
        "id": "hUxFc_KEl4--"
      }
    },
    {
      "cell_type": "code",
      "source": [
        "def weight_cal(weight):\n",
        "  if weight > 0 and weight <= 200:\n",
        "      if weight >= 100:\n",
        "          print(\"Obese\")\n",
        "      elif weight >= 90:\n",
        "          print(\"Overweight\")\n",
        "      elif weight >= 60:\n",
        "          print(\"Normal\")\n",
        "      else:\n",
        "          print(\"Underweight\")\n",
        "  else:\n",
        "      print(\"Wrong data entered\")"
      ],
      "metadata": {
        "id": "33VKmqwynMFs"
      },
      "execution_count": 21,
      "outputs": []
    },
    {
      "cell_type": "code",
      "source": [
        "weight = float(input(\"Enter weight in kgs: \"))\n",
        "weight_cal(weight)"
      ],
      "metadata": {
        "colab": {
          "base_uri": "https://localhost:8080/"
        },
        "id": "95NhHoF4pBJ4",
        "outputId": "d650e425-b1a4-4246-b742-c413e9adb492"
      },
      "execution_count": 22,
      "outputs": [
        {
          "output_type": "stream",
          "name": "stdout",
          "text": [
            "Enter weight in kgs: 0\n",
            "Wrong data entered\n"
          ]
        }
      ]
    },
    {
      "cell_type": "code",
      "source": [
        "weight = float(input(\"Enter weight in kgs: \"))\n",
        "weight_cal(weight)"
      ],
      "metadata": {
        "colab": {
          "base_uri": "https://localhost:8080/"
        },
        "id": "whIiCbcBosnT",
        "outputId": "7e691095-6a50-47d8-d571-01a62901ac89"
      },
      "execution_count": 23,
      "outputs": [
        {
          "output_type": "stream",
          "name": "stdout",
          "text": [
            "Enter weight in kgs: 130\n",
            "Obese\n"
          ]
        }
      ]
    },
    {
      "cell_type": "code",
      "source": [
        "weight = float(input(\"Enter weight in kgs: \"))\n",
        "weight_cal(weight)"
      ],
      "metadata": {
        "colab": {
          "base_uri": "https://localhost:8080/"
        },
        "id": "TbbecLV-pIKr",
        "outputId": "4909db95-276a-45b8-90e3-a16b67bec491"
      },
      "execution_count": 24,
      "outputs": [
        {
          "output_type": "stream",
          "name": "stdout",
          "text": [
            "Enter weight in kgs: 98\n",
            "Overweight\n"
          ]
        }
      ]
    },
    {
      "cell_type": "code",
      "source": [
        "weight = float(input(\"Enter weight in kgs: \"))\n",
        "weight_cal(weight)"
      ],
      "metadata": {
        "colab": {
          "base_uri": "https://localhost:8080/"
        },
        "id": "X0LVbaBApIUB",
        "outputId": "06d600bf-5ee3-4eaa-8193-2a1d81eff012"
      },
      "execution_count": 25,
      "outputs": [
        {
          "output_type": "stream",
          "name": "stdout",
          "text": [
            "Enter weight in kgs: 36\n",
            "Underweight\n"
          ]
        }
      ]
    },
    {
      "cell_type": "markdown",
      "source": [
        "24. Create a program that determines whether a given number is positive, negative, or zero using elif statements.\n"
      ],
      "metadata": {
        "id": "Vh2OW_8Jl6JO"
      }
    },
    {
      "cell_type": "code",
      "source": [
        "number = int(input(\"Enter a number: \"))\n",
        "\n",
        "if number > 0:\n",
        "  print(f\"{number} is positive\")\n",
        "elif number == 0:\n",
        "  print(f\"{number} is zero\")\n",
        "else:\n",
        "  print(f\"{number} is negative\")"
      ],
      "metadata": {
        "colab": {
          "base_uri": "https://localhost:8080/"
        },
        "id": "_J-Ws62TpSnw",
        "outputId": "8833bf8a-585e-4f3d-ab86-14ae07db3232"
      },
      "execution_count": 26,
      "outputs": [
        {
          "output_type": "stream",
          "name": "stdout",
          "text": [
            "Enter a number: 9\n",
            "9 is positive\n"
          ]
        }
      ]
    },
    {
      "cell_type": "markdown",
      "source": [
        "25. Write a Python script to determine the type of a character (uppercase, lowercase, or special) using elif statements.\n"
      ],
      "metadata": {
        "id": "5qHZrVQCl7hi"
      }
    },
    {
      "cell_type": "code",
      "source": [
        "# Input a character from the user\n",
        "char = input(\"Enter a character: \")\n",
        "\n",
        "# Check the type of character using elif statements\n",
        "if char.isalpha():\n",
        "    if char.islower():\n",
        "        print(f\"{char} is a lowercase letter.\")\n",
        "    elif char.isupper():\n",
        "        print(f\"{char} is an uppercase letter.\")\n",
        "else:\n",
        "    print(f\"{char} is a special character or digit.\")"
      ],
      "metadata": {
        "colab": {
          "base_uri": "https://localhost:8080/"
        },
        "id": "1mgSEzGhp6Kp",
        "outputId": "ee359b7a-3c39-4fcc-b101-50e6f4d9bf59"
      },
      "execution_count": 28,
      "outputs": [
        {
          "output_type": "stream",
          "name": "stdout",
          "text": [
            "Enter a character: A\n",
            "A is an uppercase letter.\n"
          ]
        }
      ]
    },
    {
      "cell_type": "markdown",
      "source": [
        "26. Implement a program to calculate the discounted price based on different purchase amounts using elif statements.\n"
      ],
      "metadata": {
        "id": "Kw-EEVuXl9Ii"
      }
    },
    {
      "cell_type": "code",
      "source": [
        "def discount_calculate(item_price):\n",
        "  if item_price<0:\n",
        "    print(\"wrong price entered\")\n",
        "  elif item_price<500:\n",
        "    discount = 0\n",
        "  elif item_price<1000:\n",
        "    discount = 0.10\n",
        "  elif item_price<2000:\n",
        "    discount = 0.15\n",
        "  else:\n",
        "    discount = 0.20\n",
        "  # Calculate the discounted price\n",
        "  discounted_price = item_price - (item_price * discount)\n",
        "\n",
        "  if discount == 0:\n",
        "      print(f\"No discount applied. Total price: Rs{item_price:.2f}\")\n",
        "  else:\n",
        "      print(f\"Discounted price: Rs{discounted_price:.2f} (You saved Rs{item_price - discounted_price:.2f})\")"
      ],
      "metadata": {
        "id": "fnY0YSQvqnCF"
      },
      "execution_count": 29,
      "outputs": []
    },
    {
      "cell_type": "code",
      "source": [
        "item_price = float(input(\"Enter item_price: \"))\n",
        "discount_calculate(item_price)"
      ],
      "metadata": {
        "colab": {
          "base_uri": "https://localhost:8080/"
        },
        "id": "y2F8F-wIqM3g",
        "outputId": "ed41b6b5-aeb0-4c06-d09d-c7a27dd8a36a"
      },
      "execution_count": 31,
      "outputs": [
        {
          "output_type": "stream",
          "name": "stdout",
          "text": [
            "Enter item_price: 75.6\n",
            "No discount applied. Total price: $75.60\n"
          ]
        }
      ]
    },
    {
      "cell_type": "code",
      "source": [
        "item_price = float(input(\"Enter item_price: \"))\n",
        "discount_calculate(item_price)"
      ],
      "metadata": {
        "colab": {
          "base_uri": "https://localhost:8080/"
        },
        "id": "TcJpGpvHsQqW",
        "outputId": "a2697ce6-cb91-4112-b0b0-2783e6c5f29c"
      },
      "execution_count": 32,
      "outputs": [
        {
          "output_type": "stream",
          "name": "stdout",
          "text": [
            "Enter item_price: 6100\n",
            "Discounted price: $4880.00 (You saved $1220.00)\n"
          ]
        }
      ]
    },
    {
      "cell_type": "markdown",
      "source": [
        "27. Develop a program to calculate the electricity bill based on different consumption slabs using elif statements.\n"
      ],
      "metadata": {
        "id": "IysMu7JZl-OB"
      }
    },
    {
      "cell_type": "code",
      "source": [
        "def electric_bill(units):\n",
        "  #program for calculating electricity bill in Python\n",
        "\n",
        "  if(units<=100):\n",
        "      payAmount=units*1.5\n",
        "      fixedcharge=25.00\n",
        "  elif(units<=200):\n",
        "      payAmount=(100*1.5)+(units-100)*2.5\n",
        "      fixedcharge=50.00\n",
        "  elif(units<=300):\n",
        "      payAmount=(100*1.5)+(200-100)*2.5+(units-200)*4\n",
        "      fixedcharge=75.00\n",
        "  elif(units<=350):\n",
        "      payAmount=(100*1.5)+(200-100)*2.5+(300-200)*4+(units-300)*5\n",
        "      fixedcharge=100.00\n",
        "  else:\n",
        "      payAmount=0\n",
        "      fixedcharge=1500.00\n",
        "  Total=payAmount+fixedcharge;\n",
        "  print(\"\\nElecticity bill=%.2f\" %Total)"
      ],
      "metadata": {
        "id": "WQy6SKk5sVzd"
      },
      "execution_count": 36,
      "outputs": []
    },
    {
      "cell_type": "code",
      "source": [
        "consumption = float(input(\"please enter the number of units you consumed in a month: \"))\n",
        "electric_bill(consumption)"
      ],
      "metadata": {
        "colab": {
          "base_uri": "https://localhost:8080/"
        },
        "id": "9u1xhhlnsuwb",
        "outputId": "9d0f525d-5958-467c-d18e-ff5940d6bf9c"
      },
      "execution_count": 38,
      "outputs": [
        {
          "output_type": "stream",
          "name": "stdout",
          "text": [
            "please enter the number of units you consumed in a month: 200\n",
            "\n",
            "Electicity bill=450.00\n"
          ]
        }
      ]
    },
    {
      "cell_type": "code",
      "source": [
        "consumption = float(input(\"please enter the number of units you consumed in a month: \"))\n",
        "electric_bill(consumption)"
      ],
      "metadata": {
        "colab": {
          "base_uri": "https://localhost:8080/"
        },
        "id": "eymybkTZt9hE",
        "outputId": "e078ca0b-a51f-4a26-ed6b-51baab566874"
      },
      "execution_count": 39,
      "outputs": [
        {
          "output_type": "stream",
          "name": "stdout",
          "text": [
            "please enter the number of units you consumed in a month: 431\n",
            "\n",
            "Electicity bill=1500.00\n"
          ]
        }
      ]
    },
    {
      "cell_type": "markdown",
      "source": [
        "28. Create a program to determine the type of quadrilateral based on its angles and sides using elif statements.\n"
      ],
      "metadata": {
        "id": "k1R5E3KGl_Vh"
      }
    },
    {
      "cell_type": "code",
      "source": [
        "def type_quad(angle1,angle2,angle3,angle4,side1,side2,side3,side4):\n",
        "  # Check the type of quadrilateral using elif statements\n",
        "  if angle1 == angle2 == angle3 == angle4 == 90:\n",
        "      if side1 == side2 == side3 == side4:\n",
        "          print(\"It's a square.\")\n",
        "      else:\n",
        "          print(\"It's a rectangle.\")\n",
        "  elif side1 == side2 == side3 == side4:\n",
        "      if angle1 == angle2 == angle3 == angle4:\n",
        "          print(\"It's a rhombus.\")\n",
        "      else:\n",
        "          print(\"It's a parallelogram.\")\n",
        "  elif side1 == side3 and side2 == side4:\n",
        "      if angle1 + angle2 + angle3 + angle4 == 360:\n",
        "          print(\"It's a kite.\")\n",
        "      else:\n",
        "          print(\"It's a quadrilateral with no special properties.\")\n",
        "  else:\n",
        "      print(\"It's a quadrilateral with no special properties.\")"
      ],
      "metadata": {
        "id": "mUoFVl_IuDDM"
      },
      "execution_count": 41,
      "outputs": []
    },
    {
      "cell_type": "code",
      "source": [
        "# Input angle measures in degrees and side lengths from the user\n",
        "angle1 = float(input(\"Enter the measure of angle 1 in degrees: \"))\n",
        "angle2 = float(input(\"Enter the measure of angle 2 in degrees: \"))\n",
        "angle3 = float(input(\"Enter the measure of angle 3 in degrees: \"))\n",
        "angle4 = float(input(\"Enter the measure of angle 4 in degrees: \"))\n",
        "side1 = float(input(\"Enter the length of side 1: \"))\n",
        "side2 = float(input(\"Enter the length of side 2: \"))\n",
        "side3 = float(input(\"Enter the length of side 3: \"))\n",
        "side4 = float(input(\"Enter the length of side 4: \"))\n",
        "type_quad(angle1,angle2,angle3,angle4,side1,side2,side3,side4)"
      ],
      "metadata": {
        "colab": {
          "base_uri": "https://localhost:8080/"
        },
        "id": "X-F2oE8auggz",
        "outputId": "88a0d03c-3182-4008-bee6-f332161dc555"
      },
      "execution_count": 42,
      "outputs": [
        {
          "output_type": "stream",
          "name": "stdout",
          "text": [
            "Enter the measure of angle 1 in degrees: 90\n",
            "Enter the measure of angle 2 in degrees: 90\n",
            "Enter the measure of angle 3 in degrees: 90\n",
            "Enter the measure of angle 4 in degrees: 90\n",
            "Enter the length of side 1: 30\n",
            "Enter the length of side 2: 40\n",
            "Enter the length of side 3: 30\n",
            "Enter the length of side 4: 40\n",
            "It's a rectangle.\n"
          ]
        }
      ]
    },
    {
      "cell_type": "code",
      "source": [
        "# Input angle measures in degrees and side lengths from the user\n",
        "angle1 = float(input(\"Enter the measure of angle 1 in degrees: \"))\n",
        "angle2 = float(input(\"Enter the measure of angle 2 in degrees: \"))\n",
        "angle3 = float(input(\"Enter the measure of angle 3 in degrees: \"))\n",
        "angle4 = float(input(\"Enter the measure of angle 4 in degrees: \"))\n",
        "side1 = float(input(\"Enter the length of side 1: \"))\n",
        "side2 = float(input(\"Enter the length of side 2: \"))\n",
        "side3 = float(input(\"Enter the length of side 3: \"))\n",
        "side4 = float(input(\"Enter the length of side 4: \"))\n",
        "type_quad(angle1,angle2,angle3,angle4,side1,side2,side3,side4)"
      ],
      "metadata": {
        "colab": {
          "base_uri": "https://localhost:8080/"
        },
        "id": "yu3X58nevVhe",
        "outputId": "c18c7a8e-6969-4add-bd0e-a723f32f01b2"
      },
      "execution_count": 43,
      "outputs": [
        {
          "output_type": "stream",
          "name": "stdout",
          "text": [
            "Enter the measure of angle 1 in degrees: 100\n",
            "Enter the measure of angle 2 in degrees: 80\n",
            "Enter the measure of angle 3 in degrees: 90\n",
            "Enter the measure of angle 4 in degrees: 90\n",
            "Enter the length of side 1: 30\n",
            "Enter the length of side 2: 40\n",
            "Enter the length of side 3: 30\n",
            "Enter the length of side 4: 40\n",
            "It's a kite.\n"
          ]
        }
      ]
    },
    {
      "cell_type": "markdown",
      "source": [
        "29. Write a Python script to determine the season based on a user-provided month using elif statements.\n"
      ],
      "metadata": {
        "id": "X6FEgVEQmAbT"
      }
    },
    {
      "cell_type": "code",
      "source": [
        "# Input the month from the user\n",
        "month = input(\"Enter a month (e.g., January, February, etc.): \")\n",
        "\n",
        "# Convert the input to lowercase for case-insensitive comparison\n",
        "month = month.lower()\n",
        "\n",
        "# Determine the season using elif statements\n",
        "if month == \"march\" or month == \"april\" or month == \"may\":\n",
        "    season = \"Spring\"\n",
        "elif month == \"june\" or month == \"july\" or month == \"august\":\n",
        "    season = \"Summer\"\n",
        "elif month == \"september\" or month == \"october\" or month == \"november\":\n",
        "    season = \"Autumn (Fall)\"\n",
        "elif month == \"december\" or month == \"january\" or month == \"february\":\n",
        "    season = \"Winter\"\n",
        "else:\n",
        "    season = \"Invalid month\"\n",
        "\n",
        "# Display the season or an error message\n",
        "print(f\"The season for {month.capitalize()} is {season}.\")"
      ],
      "metadata": {
        "colab": {
          "base_uri": "https://localhost:8080/"
        },
        "id": "wOAF0_H9vfzK",
        "outputId": "edaee7aa-dc80-429f-93c4-7653a196e2b9"
      },
      "execution_count": 44,
      "outputs": [
        {
          "output_type": "stream",
          "name": "stdout",
          "text": [
            "Enter a month (e.g., January, February, etc.): december\n",
            "The season for December is Winter.\n"
          ]
        }
      ]
    },
    {
      "cell_type": "markdown",
      "source": [
        "30. Implement a program to determine the type of a year (leap or common) and month (30 or 31 days) using elif statements."
      ],
      "metadata": {
        "id": "TKS4fGi-mBvw"
      }
    },
    {
      "cell_type": "code",
      "source": [
        "# Input the year and month from the user\n",
        "year = int(input(\"Enter a year: \"))\n",
        "month = int(input(\"Enter a month (1 for January, 2 for February, etc.): \"))\n",
        "\n",
        "# Check if it's a leap year using the rules:\n",
        "# Leap years are divisible by 4, except for years divisible by 100 but not by 400\n",
        "is_leap_year = (year % 4 == 0 and (year % 100 != 0 or year % 400 == 0))\n",
        "\n",
        "# Determine the number of days in the month using elif statements\n",
        "if month == 1 or month == 3 or month == 5 or month == 7 or month == 8 or month == 10 or month == 12:\n",
        "    days_in_month = 31\n",
        "elif month == 4 or month == 6 or month == 9 or month == 11:\n",
        "    days_in_month = 30\n",
        "elif month == 2:\n",
        "    if is_leap_year:\n",
        "        days_in_month = 29\n",
        "    else:\n",
        "        days_in_month = 28\n",
        "else:\n",
        "    days_in_month = -1  # Invalid month\n",
        "\n",
        "# Display the results\n",
        "if days_in_month == -1:\n",
        "    print(\"Invalid month entered.\")\n",
        "else:\n",
        "    if is_leap_year:\n",
        "        year_type = \"leap\"\n",
        "    else:\n",
        "        year_type = \"common\"\n",
        "\n",
        "    print(f\"The year {year} is a {year_type} year, and the month {month} has {days_in_month} days.\")"
      ],
      "metadata": {
        "colab": {
          "base_uri": "https://localhost:8080/"
        },
        "id": "KxFEI8Slv50N",
        "outputId": "87846222-303a-4fb4-f215-c8bf19a6b269"
      },
      "execution_count": 45,
      "outputs": [
        {
          "output_type": "stream",
          "name": "stdout",
          "text": [
            "Enter a year: 2024\n",
            "Enter a month (1 for January, 2 for February, etc.): 2\n",
            "The year 2024 is a leap year, and the month 2 has 29 days.\n"
          ]
        }
      ]
    },
    {
      "cell_type": "markdown",
      "source": [
        "## Basic Level:\n"
      ],
      "metadata": {
        "id": "3sRW2t3v35rD"
      }
    },
    {
      "cell_type": "markdown",
      "source": [
        "1. Write a Python program that checks if a given number is positive, negative, or zero.\n"
      ],
      "metadata": {
        "id": "zLvywE2gwcW5"
      }
    },
    {
      "cell_type": "code",
      "source": [
        "number = int(input(\"Enter a number: \"))\n",
        "\n",
        "if number > 0:\n",
        "    print(f\"{number} is positive\")\n",
        "else:\n",
        "    if number == 0:\n",
        "        print(f\"{number} is zero\")\n",
        "    else:\n",
        "        print(f\"{number} is negative\")"
      ],
      "metadata": {
        "colab": {
          "base_uri": "https://localhost:8080/"
        },
        "id": "7INnZVFVwt2f",
        "outputId": "905b2982-df5e-46c4-d94d-42ae978a11a4"
      },
      "execution_count": 46,
      "outputs": [
        {
          "output_type": "stream",
          "name": "stdout",
          "text": [
            "Enter a number: 0\n",
            "0 is zero\n"
          ]
        }
      ]
    },
    {
      "cell_type": "markdown",
      "source": [
        "2. Create a program to determine if a person is eligible to vote based on their age.\n",
        "\n"
      ],
      "metadata": {
        "id": "soraQlU0weEa"
      }
    },
    {
      "cell_type": "code",
      "source": [
        "age = eval(input(\"enter your age: \"))\n",
        "if age >= 18:\n",
        "  print(\"elgible to vote\")\n",
        "else:\n",
        "  print(\"not eligible to vote\")"
      ],
      "metadata": {
        "colab": {
          "base_uri": "https://localhost:8080/"
        },
        "id": "XmOz1G7Aw-OO",
        "outputId": "e5fc9284-3845-43f0-a591-1b835eb5241e"
      },
      "execution_count": 47,
      "outputs": [
        {
          "output_type": "stream",
          "name": "stdout",
          "text": [
            "enter your age: 34\n",
            "elgible to vote\n"
          ]
        }
      ]
    },
    {
      "cell_type": "markdown",
      "source": [
        "3. Write a program to find the maximum of two given numbers using conditional statements.\n",
        "\n"
      ],
      "metadata": {
        "id": "iHCrOzrewffg"
      }
    },
    {
      "cell_type": "code",
      "source": [
        "num1 = eval(input(\"enter number1: \"))\n",
        "num2 = eval(input(\"enter number2: \"))\n",
        "\n",
        "if num1 > num2:\n",
        "  print(f\"{num1} is greater \")\n",
        "elif num1 == num2:\n",
        "  print(f\"{num1} is equal to {num2}\")\n",
        "else:\n",
        "  print(f\"{num2} is greater\")"
      ],
      "metadata": {
        "colab": {
          "base_uri": "https://localhost:8080/"
        },
        "id": "y8pITPfNxO-Y",
        "outputId": "44c72b81-2ced-4aba-f727-da621dce1c81"
      },
      "execution_count": 48,
      "outputs": [
        {
          "output_type": "stream",
          "name": "stdout",
          "text": [
            "enter number1: 43\n",
            "enter number2: 68\n",
            "68 is greater\n"
          ]
        }
      ]
    },
    {
      "cell_type": "markdown",
      "source": [
        "4. Develop a program that calculates the grade of a student based on their exam score.\n"
      ],
      "metadata": {
        "id": "7Gov3mR-whMt"
      }
    },
    {
      "cell_type": "code",
      "source": [
        "score = 67\n",
        "if(score>=90):\n",
        "    print(\"Grade: A\")\n",
        "elif(score>=70 and score<90):\n",
        "    print(\"Grade: B\")\n",
        "elif(score>=50 and score<70):\n",
        "    print(\"Grade: C\")\n",
        "elif(score>=40 and score<50):\n",
        "    print(\"Grade: D\")\n",
        "else:\n",
        "    print(\"Grade: Fail\")"
      ],
      "metadata": {
        "colab": {
          "base_uri": "https://localhost:8080/"
        },
        "id": "5iJfb5YGxw1o",
        "outputId": "52e3436c-5c2f-4743-a55f-ae26dd6987c5"
      },
      "execution_count": 49,
      "outputs": [
        {
          "output_type": "stream",
          "name": "stdout",
          "text": [
            "Grade: C\n"
          ]
        }
      ]
    },
    {
      "cell_type": "markdown",
      "source": [
        "5. Create a program that checks if a year is a leap year or not.\n"
      ],
      "metadata": {
        "id": "tK1_6J1GwimI"
      }
    },
    {
      "cell_type": "code",
      "source": [
        "def is_leap_year(year):\n",
        "    # Check if the year is divisible by 4 and not divisible by 100\n",
        "    # or it is divisible by 400\n",
        "    if (year % 4 == 0 and year % 100 != 0) or (year % 400 == 0):\n",
        "        return True\n",
        "    else:\n",
        "        return False\n",
        "\n",
        "year = int(input(\"Enter a year: \"))\n",
        "\n",
        "if is_leap_year(year):\n",
        "    print(f\"{year} is a leap year.\")\n",
        "else:\n",
        "    print(f\"{year} is not a leap year.\")"
      ],
      "metadata": {
        "colab": {
          "base_uri": "https://localhost:8080/"
        },
        "id": "-sVbZVRAx2F7",
        "outputId": "042ad755-6b0b-4121-f05c-e8ed54d10154"
      },
      "execution_count": 50,
      "outputs": [
        {
          "output_type": "stream",
          "name": "stdout",
          "text": [
            "Enter a year: 2023\n",
            "2023 is not a leap year.\n"
          ]
        }
      ]
    },
    {
      "cell_type": "markdown",
      "source": [
        "6. Write a program to classify a triangle based on its sides' lengths.\n"
      ],
      "metadata": {
        "id": "3nfzNupcwj8S"
      }
    },
    {
      "cell_type": "code",
      "source": [
        "angle1 = float(input(\"Enter the measure of the first angle: \"))\n",
        "angle2 = float(input(\"Enter the measure of the second angle: \"))\n",
        "angle3 = float(input(\"Enter the measure of the third angle: \"))\n",
        "\n",
        "# Check if the angles form a valid triangle (sum of angles equals 180 degrees)\n",
        "if angle1 + angle2 + angle3 == 180:\n",
        "    # Check the type of triangle based on angle measures\n",
        "    if angle1 < 90 and angle2 < 90 and angle3 < 90:\n",
        "        print(\"It's an Acute Triangle.\")\n",
        "    elif angle1 == 90 or angle2 == 90 or angle3 == 90:\n",
        "        print(\"It's a Right Triangle.\")\n",
        "    else:\n",
        "        print(\"It's an Obtuse Triangle.\")\n",
        "else:\n",
        "    print(\"These angles do not form a valid triangle.\")"
      ],
      "metadata": {
        "colab": {
          "base_uri": "https://localhost:8080/"
        },
        "id": "ZLLU_xozyAFI",
        "outputId": "6167ac4f-151e-4e00-e2bd-da5b7a6627f9"
      },
      "execution_count": 53,
      "outputs": [
        {
          "output_type": "stream",
          "name": "stdout",
          "text": [
            "Enter the measure of the first angle: 60\n",
            "Enter the measure of the second angle: 60\n",
            "Enter the measure of the third angle: 60\n",
            "It's an Acute Triangle.\n"
          ]
        }
      ]
    },
    {
      "cell_type": "markdown",
      "source": [
        "7. Build a program that determines the largest of three given numbers.\n"
      ],
      "metadata": {
        "id": "EZ0rv6HnwlpP"
      }
    },
    {
      "cell_type": "code",
      "source": [
        "a = 5\n",
        "b = 4\n",
        "c = 7\n",
        "\n",
        "largest = 0\n",
        "\n",
        "if a > b and a > c:\n",
        "    largest = a\n",
        "if b > a and b > c:\n",
        "    largest = b\n",
        "if c > a and c > b:\n",
        "    largest = c\n",
        "\n",
        "print(largest, \"is the largest of three numbers.\")"
      ],
      "metadata": {
        "colab": {
          "base_uri": "https://localhost:8080/"
        },
        "id": "aleYnkTIzYBe",
        "outputId": "81707fae-1e24-40a1-8b8d-a915ea8b4660"
      },
      "execution_count": 54,
      "outputs": [
        {
          "output_type": "stream",
          "name": "stdout",
          "text": [
            "7 is the largest of three numbers.\n"
          ]
        }
      ]
    },
    {
      "cell_type": "markdown",
      "source": [
        "8. Develop a program that checks whether a character is a vowel or a consonant.\n"
      ],
      "metadata": {
        "id": "sVMYVPU5wmxV"
      }
    },
    {
      "cell_type": "code",
      "source": [
        "vowels = ['a','e','i','o','u']\n",
        "input_char = str(input(\"enter character: \"))\n",
        "if input_char.lower() in vowels:\n",
        "  print(\"entered character is vowel\")\n",
        "else:\n",
        "  print(\"entered character is consonent\")"
      ],
      "metadata": {
        "colab": {
          "base_uri": "https://localhost:8080/"
        },
        "id": "B1nOUCFGzp4Q",
        "outputId": "ec12178a-8f1b-42b5-e64f-767d392632f0"
      },
      "execution_count": 55,
      "outputs": [
        {
          "output_type": "stream",
          "name": "stdout",
          "text": [
            "enter character: i\n",
            "entered character is vowel\n"
          ]
        }
      ]
    },
    {
      "cell_type": "markdown",
      "source": [
        "9. Create a program to calculate the total cost of a shopping cart based on discounts.\n"
      ],
      "metadata": {
        "id": "8-igM4A4wn3f"
      }
    },
    {
      "cell_type": "code",
      "source": [
        "def discount_calculate(item_price):\n",
        "  if item_price<0:\n",
        "    print(\"wrong price entered\")\n",
        "  elif item_price<500:\n",
        "    discount = 0\n",
        "  elif item_price<1000:\n",
        "    discount = 0.10\n",
        "  elif item_price<2000:\n",
        "    discount = 0.15\n",
        "  else:\n",
        "    discount = 0.20\n",
        "  # Calculate the discounted price\n",
        "  discounted_price = item_price - (item_price * discount)\n",
        "\n",
        "  if discount == 0:\n",
        "      print(f\"No discount applied. Total price: Rs{item_price:.2f}\")\n",
        "  else:\n",
        "      print(f\"Discounted price: Rs{discounted_price:.2f} (You saved Rs{item_price - discounted_price:.2f})\")"
      ],
      "metadata": {
        "id": "ujqX5K9Q0SBe"
      },
      "execution_count": 56,
      "outputs": []
    },
    {
      "cell_type": "code",
      "source": [
        "item_price = float(input(\"Enter item_price: \"))\n",
        "discount_calculate(item_price)"
      ],
      "metadata": {
        "colab": {
          "base_uri": "https://localhost:8080/"
        },
        "outputId": "72d94329-5356-4776-d777-1333836b9357",
        "id": "oSFGu3AR0SBh"
      },
      "execution_count": 57,
      "outputs": [
        {
          "output_type": "stream",
          "name": "stdout",
          "text": [
            "Enter item_price: 900\n",
            "Discounted price: Rs810.00 (You saved Rs90.00)\n"
          ]
        }
      ]
    },
    {
      "cell_type": "code",
      "source": [],
      "metadata": {
        "id": "S9cn5nqF0QnB"
      },
      "execution_count": null,
      "outputs": []
    },
    {
      "cell_type": "code",
      "source": [],
      "metadata": {
        "id": "rfY2tReY0FHb"
      },
      "execution_count": null,
      "outputs": []
    },
    {
      "cell_type": "markdown",
      "source": [
        "10. Write a program that checks if a given number is even or odd."
      ],
      "metadata": {
        "id": "Umskb6XMwpNS"
      }
    },
    {
      "cell_type": "code",
      "source": [
        "number=int(input(\"Enter number: \"))\n",
        "if number%2==0:\n",
        "  print(f\"{number} is even\")\n",
        "else:\n",
        "  print(f\"{number} is odd\")"
      ],
      "metadata": {
        "colab": {
          "base_uri": "https://localhost:8080/"
        },
        "id": "ulWe0jU20Wz7",
        "outputId": "63960c9e-1783-40d0-b81c-1ca1d6ebaed1"
      },
      "execution_count": 58,
      "outputs": [
        {
          "output_type": "stream",
          "name": "stdout",
          "text": [
            "Enter number: 78\n",
            "78 is even\n"
          ]
        }
      ]
    },
    {
      "cell_type": "markdown",
      "source": [
        "## Intermediate Level:\n",
        "\n",
        "\n"
      ],
      "metadata": {
        "id": "ZwmfjjSo38K3"
      }
    },
    {
      "cell_type": "markdown",
      "source": [
        "11. Write a program that calculates the roots of a quadratic equation .\n"
      ],
      "metadata": {
        "id": "O71VNGJw00Vg"
      }
    },
    {
      "cell_type": "code",
      "source": [
        "import math\n",
        "\n",
        "def quad_roots(a,b,c):\n",
        "  val = (b**2)- (4*a*c)\n",
        "  if val > 0:\n",
        "    # Two distinct real roots\n",
        "    pos_root = ((-1*b) + math.sqrt(val))/(2*a)\n",
        "    neg_root = ((-1*b) - math.sqrt(val))/(2*a)\n",
        "    print(f\"The roots are real and distinct: {pos_root} and {neg_root}\")\n",
        "  elif ValueError == 0:\n",
        "    # One real root (a repeated root)\n",
        "    root = -b / (2*a)\n",
        "    print(f\"The root is real and repeated: {root}\")\n",
        "  else:\n",
        "    # Complex roots\n",
        "    real_part = -b / (2*a)\n",
        "    imaginary_part = math.sqrt(abs(val)) / (2*a)\n",
        "    print(f\"The roots are complex: {real_part} + {imaginary_part}i and {real_part} - {imaginary_part}i\")\n",
        "\n"
      ],
      "metadata": {
        "id": "euUjezeR1kNR"
      },
      "execution_count": 59,
      "outputs": []
    },
    {
      "cell_type": "code",
      "source": [
        "\n",
        "a = float(input(\"Enter the coefficient 'a': \"))\n",
        "b = float(input(\"Enter the coefficient 'b': \"))\n",
        "c = float(input(\"Enter the coefficient 'c': \"))\n",
        "\n",
        "quad_roots(a,b,c)"
      ],
      "metadata": {
        "colab": {
          "base_uri": "https://localhost:8080/"
        },
        "outputId": "020bba5c-58dc-4aab-de75-560d9478766b",
        "id": "WFJ4rNde1kNa"
      },
      "execution_count": null,
      "outputs": [
        {
          "output_type": "stream",
          "name": "stdout",
          "text": [
            "Enter the coefficient 'a': 1\n",
            "Enter the coefficient 'b': 2\n",
            "Enter the coefficient 'c': 4\n",
            "The roots are complex: -1.0 + 1.7320508075688772i and -1.0 - 1.7320508075688772i\n"
          ]
        }
      ]
    },
    {
      "cell_type": "code",
      "source": [
        "\n",
        "a = float(input(\"Enter the coefficient 'a': \"))\n",
        "b = float(input(\"Enter the coefficient 'b': \"))\n",
        "c = float(input(\"Enter the coefficient 'c': \"))\n",
        "\n",
        "quad_roots(a,b,c)"
      ],
      "metadata": {
        "colab": {
          "base_uri": "https://localhost:8080/"
        },
        "outputId": "41424cf3-fdf2-4505-d729-ae67a031956b",
        "id": "PRT_epyG1kNf"
      },
      "execution_count": null,
      "outputs": [
        {
          "output_type": "stream",
          "name": "stdout",
          "text": [
            "Enter the coefficient 'a': 1\n",
            "Enter the coefficient 'b': 3\n",
            "Enter the coefficient 'c': -2\n",
            "The roots are real and distinct: 0.5615528128088303 and -3.5615528128088303\n"
          ]
        }
      ]
    },
    {
      "cell_type": "code",
      "source": [
        "\n",
        "a = float(input(\"Enter the coefficient 'a': \"))\n",
        "b = float(input(\"Enter the coefficient 'b': \"))\n",
        "c = float(input(\"Enter the coefficient 'c': \"))\n",
        "\n",
        "quad_roots(a,b,c)"
      ],
      "metadata": {
        "colab": {
          "base_uri": "https://localhost:8080/"
        },
        "outputId": "40391c6f-8acf-4cc1-83af-38b97fbb0307",
        "id": "77DTJlnn1kNj"
      },
      "execution_count": null,
      "outputs": [
        {
          "output_type": "stream",
          "name": "stdout",
          "text": [
            "Enter the coefficient 'a': 3\n",
            "Enter the coefficient 'b': 1\n",
            "Enter the coefficient 'c': 5\n",
            "The roots are complex: -0.16666666666666666 + 1.2801909579781012i and -0.16666666666666666 - 1.2801909579781012i\n"
          ]
        }
      ]
    },
    {
      "cell_type": "code",
      "source": [],
      "metadata": {
        "id": "I-edz5RI1GPU"
      },
      "execution_count": null,
      "outputs": []
    },
    {
      "cell_type": "markdown",
      "source": [
        "12. Create a program that determines the day of the week based on the day number (1-7).\n"
      ],
      "metadata": {
        "id": "cp9_tzk203kH"
      }
    },
    {
      "cell_type": "code",
      "source": [
        "weekdays = [\"Monday\", \"Tuesday\", \"Wednesday\", \"Thursday\", \"Friday\", \"Saturday\", \"Sunday\"]\n",
        "number = int(input(\"Enter a number: \"))\n",
        "\n",
        "if number>=1 and number<=7:\n",
        "  day = weekdays[number-1]\n",
        "  print(f\"{number} day of week is {day}\")\n",
        "else:\n",
        "  print(\"entered number is incorrect\")"
      ],
      "metadata": {
        "colab": {
          "base_uri": "https://localhost:8080/"
        },
        "id": "-99jzK2z1nDW",
        "outputId": "1ad7196b-fa0b-4785-e3b6-17dab1609e93"
      },
      "execution_count": 60,
      "outputs": [
        {
          "output_type": "stream",
          "name": "stdout",
          "text": [
            "Enter a number: 6\n",
            "6 day of week is Saturday\n"
          ]
        }
      ]
    },
    {
      "cell_type": "markdown",
      "source": [
        "13. Develop a program that calculates the factorial of a given number using recursion.\n"
      ],
      "metadata": {
        "id": "lHCtEPlL05AC"
      }
    },
    {
      "cell_type": "code",
      "source": [
        "def factorial(n):\n",
        "    if n == 0:\n",
        "        return 1\n",
        "    else:\n",
        "        return n * factorial(n - 1)\n",
        "\n",
        "# Input a number from the user\n",
        "try:\n",
        "    num = int(input(\"Enter a non-negative integer: \"))\n",
        "    if num < 0:\n",
        "        print(\"Factorial is not defined for negative numbers.\")\n",
        "    else:\n",
        "        result = factorial(num)\n",
        "        print(f\"The factorial of {num} is {result}\")\n",
        "except ValueError:\n",
        "    print(\"Invalid input. Please enter a non-negative integer.\")"
      ],
      "metadata": {
        "colab": {
          "base_uri": "https://localhost:8080/"
        },
        "id": "PJchKLwt1yC_",
        "outputId": "97b64cea-e578-4690-b6c9-f170aada6c75"
      },
      "execution_count": 61,
      "outputs": [
        {
          "output_type": "stream",
          "name": "stdout",
          "text": [
            "Enter a non-negative integer: 7\n",
            "The factorial of 7 is 5040\n"
          ]
        }
      ]
    },
    {
      "cell_type": "markdown",
      "source": [
        "14. Write a program to find the largest among three numbers without using the `max()` function.\n"
      ],
      "metadata": {
        "id": "BEO8siF-06t1"
      }
    },
    {
      "cell_type": "code",
      "source": [
        "\n",
        "def find_max(a,b,c):\n",
        "  largest = 0\n",
        "\n",
        "  if a > b and a > c:\n",
        "      largest = a\n",
        "  if b > a and b > c:\n",
        "      largest = b\n",
        "  if c > a and c > b:\n",
        "      largest = c\n",
        "\n",
        "  print(largest, \"is the largest of three numbers.\")"
      ],
      "metadata": {
        "id": "6RNXvMZY2CQE"
      },
      "execution_count": 62,
      "outputs": []
    },
    {
      "cell_type": "code",
      "source": [
        "find_max(3,5,6)"
      ],
      "metadata": {
        "colab": {
          "base_uri": "https://localhost:8080/"
        },
        "id": "GNnlrRjY2X5H",
        "outputId": "52eb9eb9-c4ff-4e77-968e-c69517148dca"
      },
      "execution_count": 63,
      "outputs": [
        {
          "output_type": "stream",
          "name": "stdout",
          "text": [
            "6 is the largest of three numbers.\n"
          ]
        }
      ]
    },
    {
      "cell_type": "code",
      "source": [
        "find_max(3,45,6)"
      ],
      "metadata": {
        "colab": {
          "base_uri": "https://localhost:8080/"
        },
        "id": "82jEA2PC2dYn",
        "outputId": "4adfa798-f8d8-4e27-f63e-5f256365734e"
      },
      "execution_count": 64,
      "outputs": [
        {
          "output_type": "stream",
          "name": "stdout",
          "text": [
            "45 is the largest of three numbers.\n"
          ]
        }
      ]
    },
    {
      "cell_type": "markdown",
      "source": [
        "15. Create a program that simulates a basic ATM transaction menu.\n"
      ],
      "metadata": {
        "id": "LNCPd6nq08Hj"
      }
    },
    {
      "cell_type": "code",
      "source": [
        "account_balance = 1000.0\n",
        "\n",
        "# Function to display the account balance\n",
        "def display_balance():\n",
        "    print(f\"Your account balance is ${account_balance:.2f}\")\n",
        "\n",
        "# Function to deposit money\n",
        "def deposit():\n",
        "    global account_balance\n",
        "    amount = float(input(\"Enter the amount to deposit: \"))\n",
        "    if amount > 0:\n",
        "        account_balance += amount\n",
        "        print(f\"${amount:.2f} has been deposited into your account.\")\n",
        "    else:\n",
        "        print(\"Invalid amount. Please enter a positive number.\")\n",
        "\n",
        "# Function to withdraw money\n",
        "def withdraw():\n",
        "    global account_balance\n",
        "    amount = float(input(\"Enter the amount to withdraw: \"))\n",
        "    if amount > 0 and amount <= account_balance:\n",
        "        account_balance -= amount\n",
        "        print(f\"You have withdrawn ${amount:.2f}.\")\n",
        "    elif amount > account_balance:\n",
        "        print(\"Insufficient funds.\")\n",
        "    else:\n",
        "        print(\"Invalid amount. Please enter a positive number.\")\n",
        "\n",
        "# Main ATM menu\n",
        "while True:\n",
        "    print(\"\\nATM Menu:\")\n",
        "    print(\"1. Display Balance\")\n",
        "    print(\"2. Deposit Money\")\n",
        "    print(\"3. Withdraw Money\")\n",
        "    print(\"4. Exit\")\n",
        "\n",
        "    choice = input(\"Enter your choice (1/2/3/4): \")\n",
        "\n",
        "    if choice == '1':\n",
        "        display_balance()\n",
        "    elif choice == '2':\n",
        "        deposit()\n",
        "    elif choice == '3':\n",
        "        withdraw()\n",
        "    elif choice == '4':\n",
        "        print(\"Thank you for using our ATM. Goodbye!\")\n",
        "        break\n",
        "    else:\n",
        "        print(\"Invalid choice. Please select a valid option (1/2/3/4).\")"
      ],
      "metadata": {
        "colab": {
          "base_uri": "https://localhost:8080/"
        },
        "id": "_z2UEMDc2jUt",
        "outputId": "e26859e4-4f92-4401-82af-6abf2bfe5f70"
      },
      "execution_count": 65,
      "outputs": [
        {
          "output_type": "stream",
          "name": "stdout",
          "text": [
            "\n",
            "ATM Menu:\n",
            "1. Display Balance\n",
            "2. Deposit Money\n",
            "3. Withdraw Money\n",
            "4. Exit\n",
            "Enter your choice (1/2/3/4): 1\n",
            "Your account balance is $1000.00\n",
            "\n",
            "ATM Menu:\n",
            "1. Display Balance\n",
            "2. Deposit Money\n",
            "3. Withdraw Money\n",
            "4. Exit\n",
            "Enter your choice (1/2/3/4): 2\n",
            "Enter the amount to deposit: 9000\n",
            "$9000.00 has been deposited into your account.\n",
            "\n",
            "ATM Menu:\n",
            "1. Display Balance\n",
            "2. Deposit Money\n",
            "3. Withdraw Money\n",
            "4. Exit\n",
            "Enter your choice (1/2/3/4): 3\n",
            "Enter the amount to withdraw: 700\n",
            "You have withdrawn $700.00.\n",
            "\n",
            "ATM Menu:\n",
            "1. Display Balance\n",
            "2. Deposit Money\n",
            "3. Withdraw Money\n",
            "4. Exit\n",
            "Enter your choice (1/2/3/4): 1\n",
            "Your account balance is $9300.00\n",
            "\n",
            "ATM Menu:\n",
            "1. Display Balance\n",
            "2. Deposit Money\n",
            "3. Withdraw Money\n",
            "4. Exit\n",
            "Enter your choice (1/2/3/4): 4\n",
            "Thank you for using our ATM. Goodbye!\n"
          ]
        }
      ]
    },
    {
      "cell_type": "markdown",
      "source": [
        "16. Build a program that checks if a given string is a palindrome or not.\n"
      ],
      "metadata": {
        "id": "7QGNWBF409Nz"
      }
    },
    {
      "cell_type": "code",
      "source": [
        "input_string = \"madam\"\n",
        "\n",
        "if input_string == input_string[::-1]:\n",
        "  print(\"string is palindrome\")\n",
        "else:\n",
        "  print(\"string is not palindrome\")"
      ],
      "metadata": {
        "colab": {
          "base_uri": "https://localhost:8080/"
        },
        "id": "dzk3dLlo3I5m",
        "outputId": "057777ac-8e25-4765-cd7c-3013bd5fb4ad"
      },
      "execution_count": 66,
      "outputs": [
        {
          "output_type": "stream",
          "name": "stdout",
          "text": [
            "string is palindrome\n"
          ]
        }
      ]
    },
    {
      "cell_type": "markdown",
      "source": [
        "17. Write a program that calculates the average of a list of numbers, excluding the smallest and largest values.\n"
      ],
      "metadata": {
        "id": "-Y2AeA4I0_pl"
      }
    },
    {
      "cell_type": "code",
      "source": [
        "lst = [34,53,5,6,7,3,65,34,4,3]\n",
        "\n",
        "sorted_list = sorted(lst)\n",
        "\n",
        "unique_list = []\n",
        "\n",
        "\n",
        "for item in sorted_list:\n",
        "    if item not in unique_list:\n",
        "        unique_list.append(item)\n",
        "\n",
        "unique_list = unique_list[1:-1]\n",
        "avg = sum(unique_list)/len(unique_list)\n",
        "print(f\"Average without minimum and maximum value is {avg}\")"
      ],
      "metadata": {
        "colab": {
          "base_uri": "https://localhost:8080/"
        },
        "id": "8p5xlfeX3acu",
        "outputId": "8ac7c8f5-c968-4aa7-9ef2-e16cfa4a69d5"
      },
      "execution_count": 76,
      "outputs": [
        {
          "output_type": "stream",
          "name": "stdout",
          "text": [
            "Average without minimum and maximum value is 18.166666666666668\n"
          ]
        }
      ]
    },
    {
      "cell_type": "markdown",
      "source": [
        "18. Develop a program that converts a given temperature from Celsius to Fahrenheit.\n"
      ],
      "metadata": {
        "id": "NmleStTn1BZt"
      }
    },
    {
      "cell_type": "code",
      "source": [
        "celsius = float(input(\"Enter temperature in Celsius: \"))\n",
        "\n",
        "# Convert Celsius to Fahrenheit using the formula (Celsius to Fahrenheit conversion)\n",
        "fahrenheit = (celsius * 9/5) + 32\n",
        "\n",
        "# Display the converted temperature in Fahrenheit\n",
        "print(f\"{celsius} degrees Celsius is equal to {fahrenheit} degrees Fahrenheit.\")"
      ],
      "metadata": {
        "colab": {
          "base_uri": "https://localhost:8080/"
        },
        "id": "_7RQcklH5afT",
        "outputId": "ccc9f47c-8b7f-4ac6-f9b6-b32e4ffab4c8"
      },
      "execution_count": 77,
      "outputs": [
        {
          "output_type": "stream",
          "name": "stdout",
          "text": [
            "Enter temperature in Celsius: 43\n",
            "43.0 degrees Celsius is equal to 109.4 degrees Fahrenheit.\n"
          ]
        }
      ]
    },
    {
      "cell_type": "markdown",
      "source": [
        "19. Create a program that simulates a basic calculator for addition, subtraction, multiplication, and division.\n"
      ],
      "metadata": {
        "id": "inJdh3081Cse"
      }
    },
    {
      "cell_type": "code",
      "source": [
        "def add(x, y):\n",
        "    return x + y\n",
        "\n",
        "def subtract(x, y):\n",
        "    return x - y\n",
        "\n",
        "def multiply(x, y):\n",
        "    return x * y\n",
        "\n",
        "def divide(x, y):\n",
        "    if y != 0:\n",
        "        return x / y\n",
        "    else:\n",
        "        return \"Division by zero is not allowed.\"\n",
        "\n",
        "# Main calculator program\n",
        "while True:\n",
        "    print(\"\\nCalculator Menu:\")\n",
        "    print(\"1. Addition\")\n",
        "    print(\"2. Subtraction\")\n",
        "    print(\"3. Multiplication\")\n",
        "    print(\"4. Division\")\n",
        "    print(\"5. Quit\")\n",
        "\n",
        "    choice = input(\"Enter your choice (1/2/3/4/5): \")\n",
        "\n",
        "    if choice == '5':\n",
        "        print(\"Goodbye!\")\n",
        "        break\n",
        "\n",
        "    if choice in ('1', '2', '3', '4'):\n",
        "        num1 = float(input(\"Enter first number: \"))\n",
        "        num2 = float(input(\"Enter second number: \"))\n",
        "\n",
        "        if choice == '1':\n",
        "            print(\"Result:\", add(num1, num2))\n",
        "        elif choice == '2':\n",
        "            print(\"Result:\", subtract(num1, num2))\n",
        "        elif choice == '3':\n",
        "            print(\"Result:\", multiply(num1, num2))\n",
        "        elif choice == '4':\n",
        "            print(\"Result:\", divide(num1, num2))\n",
        "    else:\n",
        "        print(\"Invalid choice. Please select a valid option (1/2/3/4/5).\")"
      ],
      "metadata": {
        "colab": {
          "base_uri": "https://localhost:8080/"
        },
        "id": "LV5FB1BO5kWU",
        "outputId": "1dbed279-f79e-40df-b277-051dfbd0ac06"
      },
      "execution_count": 78,
      "outputs": [
        {
          "output_type": "stream",
          "name": "stdout",
          "text": [
            "\n",
            "Calculator Menu:\n",
            "1. Addition\n",
            "2. Subtraction\n",
            "3. Multiplication\n",
            "4. Division\n",
            "5. Quit\n",
            "Enter your choice (1/2/3/4/5): 1\n",
            "Enter first number: 4\n",
            "Enter second number: 5\n",
            "Result: 9.0\n",
            "\n",
            "Calculator Menu:\n",
            "1. Addition\n",
            "2. Subtraction\n",
            "3. Multiplication\n",
            "4. Division\n",
            "5. Quit\n",
            "Enter your choice (1/2/3/4/5): 2\n",
            "Enter first number: 5\n",
            "Enter second number: 3\n",
            "Result: 2.0\n",
            "\n",
            "Calculator Menu:\n",
            "1. Addition\n",
            "2. Subtraction\n",
            "3. Multiplication\n",
            "4. Division\n",
            "5. Quit\n",
            "Enter your choice (1/2/3/4/5): 3\n",
            "Enter first number: 5\n",
            "Enter second number: 52\n",
            "Result: 260.0\n",
            "\n",
            "Calculator Menu:\n",
            "1. Addition\n",
            "2. Subtraction\n",
            "3. Multiplication\n",
            "4. Division\n",
            "5. Quit\n",
            "Enter your choice (1/2/3/4/5): 4\n",
            "Enter first number: 23\n",
            "Enter second number: 4\n",
            "Result: 5.75\n",
            "\n",
            "Calculator Menu:\n",
            "1. Addition\n",
            "2. Subtraction\n",
            "3. Multiplication\n",
            "4. Division\n",
            "5. Quit\n",
            "Enter your choice (1/2/3/4/5): 5\n",
            "Goodbye!\n"
          ]
        }
      ]
    },
    {
      "cell_type": "markdown",
      "source": [
        "20. Write a program that determines the roots of a cubic equation using the Cardano formula."
      ],
      "metadata": {
        "id": "y3x_nf-B1EZ7"
      }
    },
    {
      "cell_type": "code",
      "source": [
        "import math\n",
        "\n",
        "def cube_roots(a,b,c,d):\n",
        "  # Calculate some intermediate values\n",
        "    p = (3*a*c - b**2) / (3*a**2)\n",
        "    q = (2*b**3 - 9*a*b*c + 27*a**2*d) / (27*a**3)\n",
        "    discriminant = q**2/4 + p**3/27\n",
        "\n",
        "    # Check the discriminant to determine the number and type of roots\n",
        "    if discriminant > 0:\n",
        "        # One real root, two complex roots\n",
        "        root = (-q/2 + discriminant**0.5)**(1/3) + (-q/2 - discriminant**0.5)**(1/3) - b/(3*a)\n",
        "        print(f\"The root is real: {root:.4f}\")\n",
        "    elif discriminant == 0:\n",
        "        # Three real roots (at least two are equal)\n",
        "        if q >= 0:\n",
        "            root1 = (-2*q)**(1/3) - b/(3*a)\n",
        "            root2 = root3 = -root1/2 - b/(3*a)\n",
        "        else:\n",
        "            root1 = (-2*q)**(1/3) - b/(3*a)\n",
        "            root2 = (q**2 - 4*p**3)**0.5 / (3*a) - b/(3*a)\n",
        "            root3 = -(q**2 - 4*p**3)**0.5 / (3*a) - b/(3*a)\n",
        "        print(f\"The roots are real and at least two are equal: {root1:.4f}, {root2:.4f}, {root3:.4f}\")\n",
        "    else:\n",
        "        # Three real roots\n",
        "        phi = math.acos(-q/2 * (discriminant**(-3/2)))\n",
        "        root1 = 2 * (-q/2)**(1/3) * math.cos(phi/3) - b/(3*a)\n",
        "        root2 = 2 * (-q/2)**(1/3) * math.cos((phi + 2*math.pi)/3) - b/(3*a)\n",
        "        root3 = 2 * (-q/2)**(1/3) * math.cos((phi - 2*math.pi)/3) - b/(3*a)\n",
        "        print(f\"The roots are real and distinct: {root1:.4f}, {root2:.4f}, {root3:.4f}\")"
      ],
      "metadata": {
        "id": "MRZluqZr0200"
      },
      "execution_count": 80,
      "outputs": []
    },
    {
      "cell_type": "code",
      "source": [
        "    a = float(input(\"Enter the coefficient 'a': \"))\n",
        "    b = float(input(\"Enter the coefficient 'b': \"))\n",
        "    c = float(input(\"Enter the coefficient 'c': \"))\n",
        "    d = float(input(\"Enter the coefficient 'd': \"))\n",
        "    cube_roots(a,b,c,d)"
      ],
      "metadata": {
        "colab": {
          "base_uri": "https://localhost:8080/"
        },
        "id": "bcUb3mlN6VbS",
        "outputId": "01c5628f-42e1-4cf9-ff92-ad6ce1d6ec9e"
      },
      "execution_count": 81,
      "outputs": [
        {
          "output_type": "stream",
          "name": "stdout",
          "text": [
            "Enter the coefficient 'a': 2\n",
            "Enter the coefficient 'b': 2\n",
            "Enter the coefficient 'c': 4\n",
            "Enter the coefficient 'd': 1\n",
            "The root is real: 0.7993+0.6219j\n"
          ]
        }
      ]
    },
    {
      "cell_type": "markdown",
      "source": [
        "## Advanced Level:\n",
        "\n",
        "\n"
      ],
      "metadata": {
        "id": "4Oq5G_W13-Xk"
      }
    },
    {
      "cell_type": "markdown",
      "source": [
        "21. Create a program that calculates the income tax based on the user's income and tax brackets.\n"
      ],
      "metadata": {
        "id": "hMwUD7GANayx"
      }
    },
    {
      "cell_type": "code",
      "source": [
        "\n",
        "def calculate_income_tax(income):\n",
        "    # Define tax brackets and their corresponding rates\n",
        "    tax_brackets = [(0, 250000), (250001, 500000), (500001, 750000), (750001, 1000000), (1000001, 1250000), (1250001, 1500000), (1500001, float('inf'))]\n",
        "    tax_rates = [0, 0.05, 0.10, 0.15,0.20, 0.25, 0.3]  # Corresponding tax rates for each bracket\n",
        "\n",
        "    # Initialize the total tax\n",
        "    total_tax = 0\n",
        "\n",
        "    # Calculate tax for each bracket\n",
        "    for i, (lower, upper) in enumerate(tax_brackets):\n",
        "        if income <= lower:\n",
        "            break\n",
        "        elif income >= upper:\n",
        "            total_tax += (upper - lower) * tax_rates[i]\n",
        "        else:\n",
        "            total_tax += (income - lower) * tax_rates[i]\n",
        "            break\n",
        "\n",
        "    return total_tax\n",
        "\n",
        "# Input income from the user\n",
        "try:\n",
        "    income = float(input(\"Enter your income: Rs \"))\n",
        "\n",
        "    if income < 0:\n",
        "        print(\"Invalid income. Income cannot be negative.\")\n",
        "    else:\n",
        "        # Calculate income tax\n",
        "        income_tax = calculate_income_tax(income)\n",
        "        print(f\"Your income tax is: Rs{income_tax:.2f}\")\n",
        "except ValueError:\n",
        "    print(\"Invalid input. Please enter a valid numeric income.\")\n",
        "\n"
      ],
      "metadata": {
        "colab": {
          "base_uri": "https://localhost:8080/"
        },
        "id": "8QcUVk6KNnut",
        "outputId": "962f50a1-0549-4112-b047-a79fce616fb0"
      },
      "execution_count": 84,
      "outputs": [
        {
          "output_type": "stream",
          "name": "stdout",
          "text": [
            "Enter your income: Rs 900000\n",
            "Your income tax is: Rs59999.70\n"
          ]
        }
      ]
    },
    {
      "cell_type": "markdown",
      "source": [],
      "metadata": {
        "id": "0P0BkPd9Nrup"
      }
    },
    {
      "cell_type": "markdown",
      "source": [
        "22. Write a program that simulates a rock-paper-scissors game against the computer.\n"
      ],
      "metadata": {
        "id": "1IAh6CX5Ncby"
      }
    },
    {
      "cell_type": "code",
      "source": [
        "import random\n",
        "def rps_game(user_choice):\n",
        "  options = [\"rock\", \"paper\", \"scissors\"]\n",
        "  computer_choice = random.choice(options)\n",
        "\n",
        "\n",
        "\n",
        "  print(\"You chose: \", user_choice)\n",
        "  print(\"Computer chose: \", computer_choice)\n",
        "\n",
        "\n",
        "  if user_choice == computer_choice:\n",
        "      print(\"It's a tie!\")\n",
        "\n",
        "  elif user_choice == \"rock\" and computer_choice == \"scissors\":\n",
        "      print(\"You win!\")\n",
        "  elif user_choice == \"paper\" and computer_choice == \"rock\":\n",
        "      print(\"You win!\")\n",
        "  elif user_choice == \"scissors\" and computer_choice == \"paper\":\n",
        "      print(\"You win!\")\n",
        "\n",
        "  else:\n",
        "      print(\"Computer wins!\")\n",
        "\n"
      ],
      "metadata": {
        "id": "jms6JmL0QFFq"
      },
      "execution_count": 85,
      "outputs": []
    },
    {
      "cell_type": "code",
      "source": [
        "user_choice = input(\"Choose Rock, Paper, or Scissors: \")\n",
        "options = [\"rock\", \"paper\", \"scissors\"]\n",
        "if user_choice.lower() in options:\n",
        "  rps_game(user_choice)\n",
        "else:\n",
        "  print(\"enter option correctly\")"
      ],
      "metadata": {
        "colab": {
          "base_uri": "https://localhost:8080/"
        },
        "id": "HSr3S_OAQ2iC",
        "outputId": "7eabcefb-2f91-4859-cf18-e1610fd92ae2"
      },
      "execution_count": 86,
      "outputs": [
        {
          "output_type": "stream",
          "name": "stdout",
          "text": [
            "Choose Rock, Paper, or Scissors: abc\n",
            "enter option correctly\n"
          ]
        }
      ]
    },
    {
      "cell_type": "code",
      "source": [
        "user_choice = input(\"Choose Rock, Paper, or Scissors: \")\n",
        "options = [\"rock\", \"paper\", \"scissors\"]\n",
        "if user_choice.lower() in options:\n",
        "  rps_game(user_choice)\n",
        "else:\n",
        "  print(\"enter option correctly\")"
      ],
      "metadata": {
        "colab": {
          "base_uri": "https://localhost:8080/"
        },
        "id": "bEQ_uGwDReEf",
        "outputId": "07d41704-8ed1-4a77-f5db-b94885f3a05c"
      },
      "execution_count": 87,
      "outputs": [
        {
          "output_type": "stream",
          "name": "stdout",
          "text": [
            "Choose Rock, Paper, or Scissors: scissors\n",
            "You chose:  scissors\n",
            "Computer chose:  scissors\n",
            "It's a tie!\n"
          ]
        }
      ]
    },
    {
      "cell_type": "code",
      "source": [
        "user_choice = input(\"Choose Rock, Paper, or Scissors: \")\n",
        "options = [\"rock\", \"paper\", \"scissors\"]\n",
        "if user_choice.lower() in options:\n",
        "  rps_game(user_choice)\n",
        "else:\n",
        "  print(\"enter option correctly\")"
      ],
      "metadata": {
        "colab": {
          "base_uri": "https://localhost:8080/"
        },
        "id": "UZBTDIbqRmaw",
        "outputId": "6dc622d8-c82a-49f2-c3e9-960f9accd3bd"
      },
      "execution_count": 88,
      "outputs": [
        {
          "output_type": "stream",
          "name": "stdout",
          "text": [
            "Choose Rock, Paper, or Scissors: rock\n",
            "You chose:  rock\n",
            "Computer chose:  scissors\n",
            "You win!\n"
          ]
        }
      ]
    },
    {
      "cell_type": "markdown",
      "source": [
        "23. Develop a program that generates a random password based on user preferences (length, complexity).\n"
      ],
      "metadata": {
        "id": "HbWZ_FuUNdsR"
      }
    },
    {
      "cell_type": "code",
      "source": [
        "import random\n",
        "import string\n",
        "\n",
        "# Function to generate a random password\n",
        "def generate_password(length, use_uppercase, use_lowercase, use_digits, use_special_chars):\n",
        "    # Define character sets for password generation\n",
        "    uppercase_chars = string.ascii_uppercase if use_uppercase else ''\n",
        "    lowercase_chars = string.ascii_lowercase if use_lowercase else ''\n",
        "    digit_chars = string.digits if use_digits else ''\n",
        "    special_chars = string.punctuation if use_special_chars else ''\n",
        "\n",
        "    # Combine selected character sets\n",
        "    all_chars = uppercase_chars + lowercase_chars + digit_chars + special_chars\n",
        "\n",
        "    # Check if at least one character set is selected\n",
        "    if not all_chars:\n",
        "        return \"Invalid preferences. Please select at least one character type.\"\n",
        "\n",
        "    # Generate the password\n",
        "    password = ''.join(random.choice(all_chars) for _ in range(length))\n",
        "\n",
        "    return password\n",
        "\n",
        "# Input user preferences\n",
        "length = int(input(\"Enter the length of the password: \"))\n",
        "use_uppercase = input(\"Include uppercase letters? (y/n): \").lower() == 'y'\n",
        "use_lowercase = input(\"Include lowercase letters? (y/n): \").lower() == 'y'\n",
        "use_digits = input(\"Include digits? (y/n): \").lower() == 'y'\n",
        "use_special_chars = input(\"Include special characters? (y/n): \").lower() == 'y'\n",
        "\n",
        "# Generate and display the password\n",
        "password = generate_password(length, use_uppercase, use_lowercase, use_digits, use_special_chars)\n",
        "print(f\"Generated Password: {password}\")"
      ],
      "metadata": {
        "colab": {
          "base_uri": "https://localhost:8080/"
        },
        "id": "CRyybpMIUrTc",
        "outputId": "301542c2-5ff2-4875-d4f4-d53a42efa2b3"
      },
      "execution_count": 91,
      "outputs": [
        {
          "output_type": "stream",
          "name": "stdout",
          "text": [
            "Enter the length of the password: 10\n",
            "Include uppercase letters? (y/n): y\n",
            "Include lowercase letters? (y/n): y\n",
            "Include digits? (y/n): y\n",
            "Include special characters? (y/n): y\n",
            "Generated Password: %h\"YTk_5p~\n"
          ]
        }
      ]
    },
    {
      "cell_type": "markdown",
      "source": [
        "24. Create a program that implements a simple text-based adventure game with branching scenarios.\n"
      ],
      "metadata": {
        "id": "e8W1jzqONfYq"
      }
    },
    {
      "cell_type": "markdown",
      "source": [
        "![text-based-story-game-1536x864.png.webp](data:image/webp;base64,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)"
      ],
      "metadata": {
        "id": "rsO_PXcFWhcm"
      }
    },
    {
      "cell_type": "code",
      "source": [
        "def scene1():\n",
        "    import time\n",
        "    print(\"\"\"WELCOME TO THE ADVENTURE GAME!\n",
        "        Let's start the action! ☆-🎬-☆\n",
        "\n",
        "        Lily wakes up in her bedroom in the middle of the night. She heard a loud BAN outside the house.\n",
        "        Now she has two choices she can either stay in the room or check what the sound might be about.\n",
        "\n",
        "        Type your choice: Stay or Evaluate?\n",
        "    \"\"\")\n",
        "\n",
        "    c1 = input()\n",
        "    time.sleep(2)\n",
        "    ans = 'incorrect'\n",
        "    while(ans=='incorrect'):\n",
        "        if(c1.upper()==\"STAY\"):\n",
        "            print(\"\\nLily decides to stay in the room and ends up staying inside forever as noone seems to come to help her.\")\n",
        "            ans = 'correct'\n",
        "        elif(c1.upper()==\"EVALUATE\"):\n",
        "            print(\"Lily exits the room silently and reaches the main hall.\")\n",
        "            ans='correct'\n",
        "            scene2()\n",
        "        else:\n",
        "            print(\"ENTER THE CORRECT CHOICE! Stay or Evaluate?\")\n",
        "            c1 = input()"
      ],
      "metadata": {
        "id": "EoRcZggcWxd5"
      },
      "execution_count": 92,
      "outputs": []
    },
    {
      "cell_type": "code",
      "source": [
        "def scene2():\n",
        "    import time\n",
        "    print(\"\"\"\n",
        "            In the main hall, she finds a strange but cute teddy bear on the floor.\n",
        "            She wanted to pick the teddy up.\n",
        "            But should she? It doesn't belong to her. (•˳̂•̆)\n",
        "\n",
        "            Type your choice: Pick or Ignore?\n",
        "\n",
        "            \"\"\")\n",
        "    time.sleep(2)\n",
        "    c1 = input()\n",
        "    ans = 'incorrect'\n",
        "    while(ans=='incorrect'):\n",
        "        if(c1.upper()==\"PICK\"):\n",
        "            print(\"\"\"\\nThe moment Lily picked up the the teddy bear. The Teddy bear starts TALKING!The bear tells Lily that she is in grave danger as there is a monster in the house.And the monster has captured her PARENTS as well!But he hugged her and told her not to get scared as he knows how to beat the moster!\"\"\")\n",
        "            time.sleep(2)\n",
        "            print(\"\"\"\\nThe bear handed lily a magical potion which can weaken the moster and make him run away!He handed her the potion and then DISAPPEARED!Lily moved forward.\"\"\")\n",
        "            ans = 'correct'\n",
        "            pick=\"True\"\n",
        "        elif(c1.upper()=='IGNORE'):\n",
        "            print(\"\"\"\\nLily decided not to pick up the bear and walked forward.\"\"\")\n",
        "            ans='correct'\n",
        "            pick=\"False\"\n",
        "        else:\n",
        "            print(\"Wrong Input! Enter pick or ignore?\")\n",
        "            c1=input()\n",
        "    time.sleep(2)\n",
        "    scene3(pick)"
      ],
      "metadata": {
        "id": "src--31zWz9y"
      },
      "execution_count": 93,
      "outputs": []
    },
    {
      "cell_type": "code",
      "source": [
        "def scene3(pick_value):\n",
        "    import time\n",
        "    print(\"\"\"\\n\\nAfter walking for a while, Lily saw the MONSTOR in front of her!\n",
        "    It had red eyes and evil looks. She got very scared! \"\"\")\n",
        "    time.sleep(2)\n",
        "    if(pick_value==\"True\"):\n",
        "        time.sleep(2)\n",
        "        print(\"\"\"But then she remembered! She had the magic portion and she threw it on the moster!\n",
        "              Well she had nothing to lose!\"\"\")\n",
        "        time.sleep(2)\n",
        "        print(\"\\n The monster SCREAMED in pain but he managed to make a portal and pushed Lily to a new world!\")\n",
        "    elif(pick_value==\"False\"):\n",
        "        print(\"The monster attacked Lily and hurt her! She was then thrown to the new world by the monster!\")"
      ],
      "metadata": {
        "id": "zBKiE3KCW57c"
      },
      "execution_count": 94,
      "outputs": []
    },
    {
      "cell_type": "code",
      "source": [
        "scene1()\n",
        "print(\"\\n\\n\")\n",
        "print(\"=================================END OF CHAPTER 1=================================\")"
      ],
      "metadata": {
        "colab": {
          "base_uri": "https://localhost:8080/"
        },
        "id": "zhiDHLWAWgqV",
        "outputId": "bfc59a0d-9fea-44c4-8e8c-3d893d3dadcb"
      },
      "execution_count": 96,
      "outputs": [
        {
          "output_type": "stream",
          "name": "stdout",
          "text": [
            "WELCOME TO THE ADVENTURE GAME!\n",
            "        Let's start the action! ☆-🎬-☆\n",
            " \n",
            "        Lily wakes up in her bedroom in the middle of the night. She heard a loud BAN outside the house.\n",
            "        Now she has two choices she can either stay in the room or check what the sound might be about.\n",
            " \n",
            "        Type your choice: Stay or Evaluate?\n",
            "    \n",
            "Evaluate\n",
            "Lily exits the room silently and reaches the main hall.\n",
            "\n",
            "            In the main hall, she finds a strange but cute teddy bear on the floor. \n",
            "            She wanted to pick the teddy up. \n",
            "            But should she? It doesn't belong to her. (•˳̂•̆)\n",
            " \n",
            "            Type your choice: Pick or Ignore?\n",
            " \n",
            "            \n",
            "ignore\n",
            "\n",
            "Lily decided not to pick up the bear and walked forward.\n",
            "\n",
            "\n",
            "After walking for a while, Lily saw the MONSTOR in front of her!\n",
            "    It had red eyes and evil looks. She got very scared! \n",
            "The monster attacked Lily and hurt her! She was then thrown to the new world by the monster!\n",
            "\n",
            "\n",
            "\n",
            "=================================END OF CHAPTER 1=================================\n"
          ]
        }
      ]
    },
    {
      "cell_type": "markdown",
      "source": [
        "25. Build a program that solves a linear equation for x, considering different cases.\n"
      ],
      "metadata": {
        "id": "-IpfLOUBNgdt"
      }
    },
    {
      "cell_type": "code",
      "source": [
        "a = float(input(\"Enter the coefficient 'a': \"))\n",
        "b = float(input(\"Enter the coefficient 'b': \"))\n",
        "\n",
        "if a == 0:\n",
        "    if b == 0:\n",
        "        print(\"Infinite solutions. Any value of 'x' satisfies the equation.\")\n",
        "    else:\n",
        "        print(\"No solution. The equation is inconsistent.\")\n",
        "else:\n",
        "    x = -b / a\n",
        "    print(f\"The solution for 'x' is x = {x:.4f}\")"
      ],
      "metadata": {
        "colab": {
          "base_uri": "https://localhost:8080/"
        },
        "id": "ValIpbydX6Xh",
        "outputId": "a1f0d65a-2c9c-49eb-d362-7871574514cb"
      },
      "execution_count": 97,
      "outputs": [
        {
          "output_type": "stream",
          "name": "stdout",
          "text": [
            "Enter the coefficient 'a': 8\n",
            "Enter the coefficient 'b': 4.6\n",
            "The solution for 'x' is x = -0.5750\n"
          ]
        }
      ]
    },
    {
      "cell_type": "markdown",
      "source": [
        "26. Write a program that simulates a basic quiz game with multiple-choice questions and scoring.\n"
      ],
      "metadata": {
        "id": "kzewpKHbNhi-"
      }
    },
    {
      "cell_type": "code",
      "source": [
        "QUESTIONS = {\n",
        "    \"Which keyword do you use to loop over a given list of elements\": [\n",
        "        \"for\", \"while\", \"each\", \"loop\"\n",
        "    ],\n",
        "    \"What's the purpose of the built-in zip() function\": [\n",
        "        \"To iterate over two or more sequences at the same time\",\n",
        "        \"To combine several strings into one\",\n",
        "        \"To compress several files into one archive\",\n",
        "        \"To get information from the user\",\n",
        "    ],\n",
        "    \"What's the name of Python's sorting algorithm\": [\n",
        "        \"Timsort\", \"Quicksort\", \"Merge sort\", \"Bubble sort\"\n",
        "    ],\n",
        "}\n",
        "\n",
        "correct = 0\n",
        "for question, alternatives in QUESTIONS.items():\n",
        "    correct_answer = alternatives[0]\n",
        "    sorted_alternatives = sorted(alternatives)\n",
        "    for label, alternative in enumerate(sorted_alternatives):\n",
        "        print(f\"  {label}) {alternative}\")\n",
        "\n",
        "    answer_label = int(input(f\"{question}? \"))\n",
        "    answer = sorted_alternatives[answer_label]\n",
        "    if answer == correct_answer:\n",
        "        correct+=1\n",
        "        print(\"Correct!\")\n",
        "    else:\n",
        "        print(f\"The answer is {correct_answer!r}, not {answer!r}\")\n",
        "\n",
        "score = correct/len(QUESTIONS)\n",
        "print(f\"your score is {score*100:.2f}\")"
      ],
      "metadata": {
        "colab": {
          "base_uri": "https://localhost:8080/"
        },
        "id": "n3AEVoOmYY8H",
        "outputId": "70805cc1-cd47-4cbd-d513-83135345ec52"
      },
      "execution_count": 103,
      "outputs": [
        {
          "output_type": "stream",
          "name": "stdout",
          "text": [
            "  0) each\n",
            "  1) for\n",
            "  2) loop\n",
            "  3) while\n",
            "Which keyword do you use to loop over a given list of elements? 1\n",
            "Correct!\n",
            "  0) To combine several strings into one\n",
            "  1) To compress several files into one archive\n",
            "  2) To get information from the user\n",
            "  3) To iterate over two or more sequences at the same time\n",
            "What's the purpose of the built-in zip() function? 1\n",
            "The answer is 'To iterate over two or more sequences at the same time', not 'To compress several files into one archive'\n",
            "  0) Bubble sort\n",
            "  1) Merge sort\n",
            "  2) Quicksort\n",
            "  3) Timsort\n",
            "What's the name of Python's sorting algorithm? 3\n",
            "Correct!\n",
            "your score is 66.67\n"
          ]
        }
      ]
    },
    {
      "cell_type": "markdown",
      "source": [
        "27. Develop a program that determines whether a given year is a prime number or not.\n"
      ],
      "metadata": {
        "id": "EOfq1w1YNiwT"
      }
    },
    {
      "cell_type": "code",
      "source": [
        "def is_prime(year):\n",
        "    if year <= 1:\n",
        "        return False\n",
        "    elif year <= 3:\n",
        "        return True\n",
        "    elif year % 2 == 0 or year % 3 == 0:\n",
        "        return False\n",
        "    i = 5\n",
        "    while i * i <= year:\n",
        "        if year % i == 0 or year % (i + 2) == 0:\n",
        "            return False\n",
        "        i += 6\n",
        "    return True\n",
        "\n",
        "# Input a year from the user\n",
        "try:\n",
        "    year = int(input(\"Enter a year: \"))\n",
        "\n",
        "    if is_prime(year):\n",
        "        print(f\"{year} is a prime year.\")\n",
        "    else:\n",
        "        print(f\"{year} is not a prime year.\")\n",
        "except ValueError:\n",
        "    print(\"Invalid input. Please enter a valid numeric year.\")"
      ],
      "metadata": {
        "colab": {
          "base_uri": "https://localhost:8080/"
        },
        "id": "irK3Qg9ibtIj",
        "outputId": "6e37fca2-262c-4197-e557-964d4086471b"
      },
      "execution_count": 104,
      "outputs": [
        {
          "output_type": "stream",
          "name": "stdout",
          "text": [
            "Enter a year: 1997\n",
            "1997 is a prime year.\n"
          ]
        }
      ]
    },
    {
      "cell_type": "markdown",
      "source": [
        "28. Create a program that sorts three numbers in ascending order using conditional statements.\n"
      ],
      "metadata": {
        "id": "8Je2gocMNj6_"
      }
    },
    {
      "cell_type": "code",
      "source": [
        "a = float(input(\"Enter a: \"))\n",
        "b = float(input(\"Enter b: \"))\n",
        "c = float(input(\"Enter c: \"))\n",
        "\n",
        "if a > b:\n",
        "    a,b = b,a\n",
        "if a > c:\n",
        "    a,c = c,a\n",
        "if b > c:\n",
        "    b,c = c,b\n",
        "\n",
        "print (a, \"<\", b, \"<\", c)"
      ],
      "metadata": {
        "colab": {
          "base_uri": "https://localhost:8080/"
        },
        "id": "LV3t_BdDbysA",
        "outputId": "1bdd9002-91e0-4d61-bcc9-c8d98a6ea7ae"
      },
      "execution_count": 105,
      "outputs": [
        {
          "output_type": "stream",
          "name": "stdout",
          "text": [
            "Enter a: 3\n",
            "Enter b: 1\n",
            "Enter c: 90\n",
            "1.0 < 3.0 < 90.0\n"
          ]
        }
      ]
    },
    {
      "cell_type": "markdown",
      "source": [
        "29. Build a program that determines the roots of a quartic equation using numerical methods.\n"
      ],
      "metadata": {
        "id": "zhwR6SZLNlIq"
      }
    },
    {
      "cell_type": "markdown",
      "source": [
        "finding roots using Newton Rapson method"
      ],
      "metadata": {
        "id": "2bc8PTMYeYR1"
      }
    },
    {
      "cell_type": "code",
      "source": [
        "# Function to calculate the quartic equation: ax^4 + bx^3 + cx^2 + dx + e\n",
        "def quartic_function(x, a, b, c, d, e):\n",
        "    return a * x**4 + b * x**3 + c * x**2 + d * x + e\n",
        "\n",
        "# Function to calculate the derivative of the quartic equation\n",
        "def derivative_quartic_function(x, a, b, c, d):\n",
        "    return 4 * a * x**3 + 3 * b * x**2 + 2 * c * x + d\n",
        "\n",
        "# Function to find a root using the Newton-Raphson method\n",
        "def newton_raphson_quartic(a, b, c, d, e, x0, tolerance, max_iterations):\n",
        "    x = x0\n",
        "    iteration = 0\n",
        "\n",
        "    while iteration < max_iterations:\n",
        "        f_x = quartic_function(x, a, b, c, d, e)\n",
        "        df_x = derivative_quartic_function(x, a, b, c, d)\n",
        "        x = x - f_x / df_x\n",
        "\n",
        "        if abs(f_x) < tolerance:\n",
        "            return x\n",
        "\n",
        "        iteration += 1\n",
        "\n",
        "    return None  # Root not found within max_iterations\n",
        "\n",
        "# Input coefficients for the quartic equation\n",
        "a = float(input(\"Enter coefficient 'a': \"))\n",
        "b = float(input(\"Enter coefficient 'b': \"))\n",
        "c = float(input(\"Enter coefficient 'c': \"))\n",
        "d = float(input(\"Enter coefficient 'd': \"))\n",
        "e = float(input(\"Enter coefficient 'e': \"))\n",
        "\n",
        "# Input initial guess, tolerance, and maximum iterations\n",
        "x0 = float(input(\"Enter initial guess for the root: \"))\n",
        "tolerance = float(input(\"Enter tolerance (e.g., 1e-6): \"))\n",
        "max_iterations = int(input(\"Enter maximum iterations: \"))\n",
        "\n",
        "# Find a root using the Newton-Raphson method\n",
        "root = newton_raphson_quartic(a, b, c, d, e, x0, tolerance, max_iterations)\n",
        "\n",
        "if root is not None:\n",
        "    print(f\"The root of the quartic equation is approximately {root:.6f}\")\n",
        "else:\n",
        "    print(\"Root not found within the specified maximum iterations.\")\n"
      ],
      "metadata": {
        "colab": {
          "base_uri": "https://localhost:8080/"
        },
        "id": "CcJ-2snTeSTA",
        "outputId": "b5451de8-5e90-412d-a9ba-367c6484d6e1"
      },
      "execution_count": 106,
      "outputs": [
        {
          "output_type": "stream",
          "name": "stdout",
          "text": [
            "Enter coefficient 'a': 6\n",
            "Enter coefficient 'b': 4\n",
            "Enter coefficient 'c': 1\n",
            "Enter coefficient 'd': 6\n",
            "Enter coefficient 'e': 1\n",
            "Enter initial guess for the root: 1\n",
            "Enter tolerance (e.g., 1e-6): 2\n",
            "Enter maximum iterations: 10\n",
            "The root of the quartic equation is approximately -0.169015\n"
          ]
        }
      ]
    },
    {
      "cell_type": "markdown",
      "source": [
        "30. Write a program that calculates the BMI (Body Mass Index) and provides health recommendations based\n",
        "on the user's input."
      ],
      "metadata": {
        "id": "TIvzF1J-NmLv"
      }
    },
    {
      "cell_type": "code",
      "source": [
        "# Function to calculate BMI\n",
        "def calculate_bmi(weight_kg, height_m):\n",
        "    return weight_kg / (height_m ** 2)\n",
        "\n",
        "# Function to provide health recommendations based on BMI\n",
        "def health_recommendations(bmi):\n",
        "    if bmi < 18.5:\n",
        "        return \"You are underweight. Consider gaining some weight for better health.\"\n",
        "    elif 18.5 <= bmi < 24.9:\n",
        "        return \"Your BMI is within the normal range. Maintain a healthy lifestyle.\"\n",
        "    elif 25 <= bmi < 29.9:\n",
        "        return \"You are overweight. Consider losing some weight for better health.\"\n",
        "    else:\n",
        "        return \"You are obese. It's important to consult a healthcare professional for guidance.\"\n",
        "\n",
        "# Input weight (in kilograms) and height (in meters) from the user\n",
        "try:\n",
        "    weight_kg = float(input(\"Enter your weight in kilograms: \"))\n",
        "    height_m = float(input(\"Enter your height in meters: \"))\n",
        "\n",
        "    # Calculate BMI\n",
        "    bmi = calculate_bmi(weight_kg, height_m)\n",
        "\n",
        "    # Display BMI and health recommendations\n",
        "    print(f\"Your BMI is {bmi:.2f}\")\n",
        "    recommendations = health_recommendations(bmi)\n",
        "    print(recommendations)\n",
        "except ValueError:\n",
        "    print(\"Invalid input. Please enter valid numeric values for weight and height.\")\n"
      ],
      "metadata": {
        "colab": {
          "base_uri": "https://localhost:8080/"
        },
        "id": "drmp4pLef_ji",
        "outputId": "e8f40f78-0828-4651-ddf4-77cd5e6b12c9"
      },
      "execution_count": 107,
      "outputs": [
        {
          "output_type": "stream",
          "name": "stdout",
          "text": [
            "Enter your weight in kilograms: 75\n",
            "Enter your height in meters: 5.6\n",
            "Your BMI is 2.39\n",
            "You are underweight. Consider gaining some weight for better health.\n"
          ]
        }
      ]
    },
    {
      "cell_type": "markdown",
      "source": [
        "## Challenge Level:\n"
      ],
      "metadata": {
        "id": "AJoR0c9F4Acc"
      }
    },
    {
      "cell_type": "markdown",
      "source": [
        "31. Create a program that validates a password based on complexity rules (length, characters, etc.).\n"
      ],
      "metadata": {
        "id": "eei8Nj0DgL97"
      }
    },
    {
      "cell_type": "code",
      "source": [
        "import re\n",
        "\n",
        "# Function to validate a password\n",
        "def is_valid_password(password):\n",
        "    # Check password length (at least 8 characters)\n",
        "    if len(password) < 8:\n",
        "        return False\n",
        "\n",
        "    # Check for at least one uppercase letter\n",
        "    if not any(char.isupper() for char in password):\n",
        "        return False\n",
        "\n",
        "    # Check for at least one lowercase letter\n",
        "    if not any(char.islower() for char in password):\n",
        "        return False\n",
        "\n",
        "    # Check for at least one digit\n",
        "    if not any(char.isdigit() for char in password):\n",
        "        return False\n",
        "\n",
        "    # Check for at least one special character (e.g., !@#$%^&*())\n",
        "    special_chars = r'[!@#$%^&*()]'\n",
        "    if not re.search(special_chars, password):\n",
        "        return False\n",
        "\n",
        "    return True\n",
        "\n",
        "# Input a password from the user\n",
        "print(\"\"\"password length must be greater than 8\\n\n",
        "Must contain uppercase letter\\n\n",
        "\n",
        "Must contain lowercase letter\\n\n",
        "Must contain atleast one digit\\n\n",
        "Must contain at least one special character\\n\"\"\")\n",
        "password = input(\"Enter a password: \")\n",
        "\n",
        "# Validate the password\n",
        "if is_valid_password(password):\n",
        "    print(\"Password is valid.\")\n",
        "else:\n",
        "    print(\"Password is invalid. Please ensure it meets the complexity rules.\")"
      ],
      "metadata": {
        "colab": {
          "base_uri": "https://localhost:8080/"
        },
        "id": "Hcdf8NW7iJz8",
        "outputId": "ceba8ea0-04b8-4cad-867e-80902ff7b449"
      },
      "execution_count": 108,
      "outputs": [
        {
          "output_type": "stream",
          "name": "stdout",
          "text": [
            "password length must be greater than 8\n",
            "\n",
            "Must contain uppercase letter\n",
            "\n",
            "Must contain lowercase letter\n",
            "\n",
            "Must contain atleast one digit\n",
            "\n",
            "Must contain at least one special character\n",
            "\n",
            "Enter a password: abc&12cC4\n",
            "Password is valid.\n"
          ]
        }
      ]
    },
    {
      "cell_type": "markdown",
      "source": [
        "32. Develop a program that performs matrix addition and subtraction based on user input.\n"
      ],
      "metadata": {
        "id": "2dAhs2sOgNiH"
      }
    },
    {
      "cell_type": "code",
      "source": [
        "# Function to input a matrix from the user\n",
        "def input_matrix(rows, cols):\n",
        "    matrix = []\n",
        "    for i in range(rows):\n",
        "        row = []\n",
        "        for j in range(cols):\n",
        "            element = float(input(f\"Enter element at row {i+1}, column {j+1}: \"))\n",
        "            row.append(element)\n",
        "        matrix.append(row)\n",
        "    return matrix"
      ],
      "metadata": {
        "id": "56gBRqz2lC-s"
      },
      "execution_count": 109,
      "outputs": []
    },
    {
      "cell_type": "code",
      "source": [
        "# Function to add two matrices\n",
        "def add_matrices(matrix1, matrix2):\n",
        "    if len(matrix1) != len(matrix2) or len(matrix1[0]) != len(matrix2[0]):\n",
        "        return None  # Matrices must have the same dimensions for addition\n",
        "\n",
        "    result = []\n",
        "    for i in range(len(matrix1)):\n",
        "        row = []\n",
        "        for j in range(len(matrix1[0])):\n",
        "            row.append(matrix1[i][j] + matrix2[i][j])\n",
        "        result.append(row)\n",
        "    return result\n"
      ],
      "metadata": {
        "id": "59WAZvehlHdu"
      },
      "execution_count": 110,
      "outputs": []
    },
    {
      "cell_type": "code",
      "source": [
        "# Function to subtract two matrices\n",
        "def subtract_matrices(matrix1, matrix2):\n",
        "    if len(matrix1) != len(matrix2) or len(matrix1[0]) != len(matrix2[0]):\n",
        "        return None  # Matrices must have the same dimensions for subtraction\n",
        "\n",
        "    result = []\n",
        "    for i in range(len(matrix1)):\n",
        "        row = []\n",
        "        for j in range(len(matrix1[0])):\n",
        "            row.append(matrix1[i][j] - matrix2[i][j])\n",
        "        result.append(row)\n",
        "    return result"
      ],
      "metadata": {
        "id": "vu2N9QrxlSSk"
      },
      "execution_count": 111,
      "outputs": []
    },
    {
      "cell_type": "code",
      "source": [
        "rows = int(input(\"Enter the number of rows: \"))\n",
        "cols = int(input(\"Enter the number of columns: \"))\n",
        "\n",
        "\n",
        "print(\"Enter elements for the first matrix:\")\n",
        "matrix1 = input_matrix(rows, cols)\n",
        "\n",
        "print(\"Enter elements for the second matrix:\")\n",
        "matrix2 = input_matrix(rows, cols)\n",
        "\n",
        "# Perform addition and subtraction\n",
        "sum_matrix = add_matrices(matrix1, matrix2)\n",
        "diff_matrix = subtract_matrices(matrix1, matrix2)\n",
        "\n",
        "if sum_matrix is not None and diff_matrix is not None:\n",
        "    # Display the results\n",
        "    print(\"\\nMatrix Addition Result:\")\n",
        "    for row in sum_matrix:\n",
        "        print(row)\n",
        "\n",
        "    print(\"\\nMatrix Subtraction Result:\")\n",
        "    for row in diff_matrix:\n",
        "        print(row)\n",
        "else:\n",
        "    print(\"Matrix dimensions are not compatible for addition and subtraction.\")"
      ],
      "metadata": {
        "colab": {
          "base_uri": "https://localhost:8080/"
        },
        "id": "J61HYNSXi9q3",
        "outputId": "33dff1cc-f1c5-4c7d-c708-4caa016e2635"
      },
      "execution_count": 112,
      "outputs": [
        {
          "output_type": "stream",
          "name": "stdout",
          "text": [
            "Enter the number of rows: 3\n",
            "Enter the number of columns: 4\n",
            "Enter elements for the first matrix:\n",
            "Enter element at row 1, column 1: 2\n",
            "Enter element at row 1, column 2: 3\n",
            "Enter element at row 1, column 3: 4\n",
            "Enter element at row 1, column 4: 5\n",
            "Enter element at row 2, column 1: 2\n",
            "Enter element at row 2, column 2: 2\n",
            "Enter element at row 2, column 3: 3\n",
            "Enter element at row 2, column 4: 4\n",
            "Enter element at row 3, column 1: 2\n",
            "Enter element at row 3, column 2: 1\n",
            "Enter element at row 3, column 3: 2\n",
            "Enter element at row 3, column 4: 2\n",
            "Enter elements for the second matrix:\n",
            "Enter element at row 1, column 1: 1\n",
            "Enter element at row 1, column 2: 3\n",
            "Enter element at row 1, column 3: 4\n",
            "Enter element at row 1, column 4: 3\n",
            "Enter element at row 2, column 1: 1\n",
            "Enter element at row 2, column 2: 2\n",
            "Enter element at row 2, column 3: 3\n",
            "Enter element at row 2, column 4: 4\n",
            "Enter element at row 3, column 1: 3\n",
            "Enter element at row 3, column 2: 1\n",
            "Enter element at row 3, column 3: 4\n",
            "Enter element at row 3, column 4: 4\n",
            "\n",
            "Matrix Addition Result:\n",
            "[3.0, 6.0, 8.0, 8.0]\n",
            "[3.0, 4.0, 6.0, 8.0]\n",
            "[5.0, 2.0, 6.0, 6.0]\n",
            "\n",
            "Matrix Subtraction Result:\n",
            "[1.0, 0.0, 0.0, 2.0]\n",
            "[1.0, 0.0, 0.0, 0.0]\n",
            "[-1.0, 0.0, -2.0, -2.0]\n"
          ]
        }
      ]
    },
    {
      "cell_type": "markdown",
      "source": [
        "33. Write a program that calculates the greatest common divisor (GCD) of two numbers using the Euclidean\n",
        "algorithm.\n"
      ],
      "metadata": {
        "id": "mToBCwIwgO3V"
      }
    },
    {
      "cell_type": "code",
      "source": [
        "num1 = int(input(\"Enter the first number: \"))\n",
        "num2 = int(input(\"Enter the second number: \"))\n",
        "\n",
        "a,b = num1,num2\n",
        "\n",
        "# Calculate the GCD using the Euclidean algorithm\n",
        "while b:\n",
        "    a, b = b, a % b\n",
        "\n",
        "\n",
        "# Display the GCD\n",
        "print(f\"The Greatest Common Divisor (GCD) of {num1} and {num2} is {a}.\")"
      ],
      "metadata": {
        "colab": {
          "base_uri": "https://localhost:8080/"
        },
        "id": "jSRZo0cKoA_W",
        "outputId": "038359e3-c94d-4b47-93fb-f2e55d57c187"
      },
      "execution_count": 113,
      "outputs": [
        {
          "output_type": "stream",
          "name": "stdout",
          "text": [
            "Enter the first number: 10\n",
            "Enter the second number: 20\n",
            "The Greatest Common Divisor (GCD) of 10 and 20 is 10.\n"
          ]
        }
      ]
    },
    {
      "cell_type": "markdown",
      "source": [
        "34. Build a program that performs matrix multiplication using nested loops and conditional statements.\n"
      ],
      "metadata": {
        "id": "gLu_fCGDgQLD"
      }
    },
    {
      "cell_type": "code",
      "source": [
        "# Function to input a matrix from the user\n",
        "def input_matrix(rows, cols):\n",
        "    matrix = []\n",
        "    for i in range(rows):\n",
        "        row = []\n",
        "        for j in range(cols):\n",
        "            element = float(input(f\"Enter element at row {i+1}, column {j+1}: \"))\n",
        "            row.append(element)\n",
        "        matrix.append(row)\n",
        "    return matrix"
      ],
      "metadata": {
        "id": "MP4bRcfaqDlk"
      },
      "execution_count": 114,
      "outputs": []
    },
    {
      "cell_type": "code",
      "source": [
        "def multiply_matrices(matrix1, matrix2):\n",
        "    rows1, cols1 = len(matrix1), len(matrix1[0])\n",
        "    rows2, cols2 = len(matrix2), len(matrix2[0])\n",
        "\n",
        "    if cols1 != rows2:\n",
        "        return None  # Matrices cannot be multiplied if the number of columns in the first matrix is not equal to the number of rows in the second matrix\n",
        "\n",
        "    result = []\n",
        "    for i in range(rows1):\n",
        "        row = []\n",
        "        for j in range(cols2):\n",
        "            # Calculate the dot product of row i from matrix1 and column j from matrix2\n",
        "            dot_product = 0\n",
        "            for k in range(cols1):\n",
        "                dot_product += matrix1[i][k] * matrix2[k][j]\n",
        "            row.append(dot_product)\n",
        "        result.append(row)\n",
        "\n",
        "    return result"
      ],
      "metadata": {
        "id": "lYrIOeImo2NC"
      },
      "execution_count": 115,
      "outputs": []
    },
    {
      "cell_type": "code",
      "source": [
        "rows = int(input(\"Enter the number of rows for matrix1: \"))\n",
        "cols = int(input(\"Enter the number of columns for matrix1: \"))\n",
        "\n",
        "rows1 = int(input(\"Enter the number of rows for matrix2: \"))\n",
        "cols1 = int(input(\"Enter the number of columns for matrix2: \"))\n",
        "\n",
        "\n",
        "print(\"Enter elements for the first matrix:\")\n",
        "matrix1 = input_matrix(rows, cols)\n",
        "\n",
        "print(\"Enter elements for the second matrix:\")\n",
        "matrix2 = input_matrix(rows1, cols1)\n",
        "\n",
        "# Perform addition and subtraction\n",
        "mul_matrix = add_matrices(matrix1, matrix2)\n",
        "\n",
        "\n",
        "if mul_matrix is not None:\n",
        "    print(\"\\nMatrix Multiplication3 Result:\")\n",
        "    for row in mul_matrix:\n",
        "        print(row)\n",
        "else:\n",
        "    print(\"Matrix dimensions are not compatible for addition and subtraction.\")"
      ],
      "metadata": {
        "colab": {
          "base_uri": "https://localhost:8080/"
        },
        "id": "5u92hqqZorLi",
        "outputId": "4200b743-951c-4941-f471-d9fb61242a17"
      },
      "execution_count": 117,
      "outputs": [
        {
          "output_type": "stream",
          "name": "stdout",
          "text": [
            "Enter the number of rows for matrix1: 2\n",
            "Enter the number of columns for matrix1: 2\n",
            "Enter the number of rows for matrix2: 2\n",
            "Enter the number of columns for matrix2: 2\n",
            "Enter elements for the first matrix:\n",
            "Enter element at row 1, column 1: 3\n",
            "Enter element at row 1, column 2: 2\n",
            "Enter element at row 2, column 1: 3\n",
            "Enter element at row 2, column 2: 1\n",
            "Enter elements for the second matrix:\n",
            "Enter element at row 1, column 1: 3\n",
            "Enter element at row 1, column 2: 4\n",
            "Enter element at row 2, column 1: 1\n",
            "Enter element at row 2, column 2: 2\n",
            "\n",
            "Matrix Multiplication Result:\n",
            "[6.0, 6.0]\n",
            "[4.0, 3.0]\n"
          ]
        }
      ]
    },
    {
      "cell_type": "markdown",
      "source": [
        "35. Create a program that simulates a basic text-based tic-tac-toe game against the computer.\n"
      ],
      "metadata": {
        "id": "QKQ439_pgRk2"
      }
    },
    {
      "cell_type": "code",
      "source": [],
      "metadata": {
        "id": "ejp9grdKtN-f"
      },
      "execution_count": null,
      "outputs": []
    },
    {
      "cell_type": "markdown",
      "source": [
        "36. Write a program that generates Fibonacci numbers up to a specified term using iterative methods.\n"
      ],
      "metadata": {
        "id": "I5l-pFMwgSy4"
      }
    },
    {
      "cell_type": "code",
      "source": [
        "n = int(input(\"enter the number upto which you want to generate fibonacci numbers : \"))\n",
        "num1 = 0\n",
        "num2 = 1\n",
        "next_number = num2\n",
        "count = 1\n",
        "\n",
        "while count <= n:\n",
        "    print(next_number, end=\" \")\n",
        "    count += 1\n",
        "    num1, num2 = num2, next_number\n",
        "    next_number = num1 + num2\n",
        "print()"
      ],
      "metadata": {
        "colab": {
          "base_uri": "https://localhost:8080/"
        },
        "id": "mnbme06Lty0y",
        "outputId": "1d630ae1-f8aa-49e6-8331-ecc8af1aebe3"
      },
      "execution_count": 119,
      "outputs": [
        {
          "output_type": "stream",
          "name": "stdout",
          "text": [
            "enter the number upto which you want to generate fibonacci numbers : 10\n",
            "1 2 3 5 8 13 21 34 55 89 \n"
          ]
        }
      ]
    },
    {
      "cell_type": "markdown",
      "source": [
        "37. Develop a program that calculates the nth term of the Fibonacci sequence using memoization.\n"
      ],
      "metadata": {
        "id": "0JSR9YvegT9R"
      }
    },
    {
      "cell_type": "code",
      "source": [
        "def fibonacci(n):\n",
        "    a = 0\n",
        "    b = 1\n",
        "    if n < 0:\n",
        "        print(\"Incorrect input\")\n",
        "    elif n == 0:\n",
        "        return a\n",
        "    elif n == 1:\n",
        "        return b\n",
        "    else:\n",
        "        for i in range(2, n):\n",
        "            c = a + b\n",
        "            a = b\n",
        "            b = c\n",
        "        return b\n",
        "\n"
      ],
      "metadata": {
        "id": "AV1-oehHuCQq"
      },
      "execution_count": 120,
      "outputs": []
    },
    {
      "cell_type": "code",
      "source": [
        "print(fibonacci(9))"
      ],
      "metadata": {
        "colab": {
          "base_uri": "https://localhost:8080/"
        },
        "id": "5zkzqAaLupFO",
        "outputId": "72267044-c85b-4cf5-b932-5a4ee603fff4"
      },
      "execution_count": 121,
      "outputs": [
        {
          "output_type": "stream",
          "name": "stdout",
          "text": [
            "21\n"
          ]
        }
      ]
    },
    {
      "cell_type": "markdown",
      "source": [
        "38. Create a program that generates a calendar for a given month and year using conditional statements.\n"
      ],
      "metadata": {
        "id": "Z4_4-6tKgVGu"
      }
    },
    {
      "cell_type": "code",
      "source": [
        "import calendar\n",
        "y = int(input(\"Input the year : \"))\n",
        "m = int(input(\"Input the month : \"))\n",
        "print(calendar.month(y, m))"
      ],
      "metadata": {
        "colab": {
          "base_uri": "https://localhost:8080/"
        },
        "id": "Obbe7ISyvHkp",
        "outputId": "3e703ab3-e93e-4509-dde9-211efdce3a7b"
      },
      "execution_count": 122,
      "outputs": [
        {
          "output_type": "stream",
          "name": "stdout",
          "text": [
            "Input the year : 2023\n",
            "Input the month : 09\n",
            "   September 2023\n",
            "Mo Tu We Th Fr Sa Su\n",
            "             1  2  3\n",
            " 4  5  6  7  8  9 10\n",
            "11 12 13 14 15 16 17\n",
            "18 19 20 21 22 23 24\n",
            "25 26 27 28 29 30\n",
            "\n"
          ]
        }
      ]
    },
    {
      "cell_type": "markdown",
      "source": [
        "39. Build a program that simulates a basic text-based blackjack game against the computer.\n"
      ],
      "metadata": {
        "id": "ksiNTIcsgWSc"
      }
    },
    {
      "cell_type": "code",
      "source": [],
      "metadata": {
        "id": "szQkqnoLvOp7"
      },
      "execution_count": null,
      "outputs": []
    },
    {
      "cell_type": "markdown",
      "source": [
        "40. Write a program that generates the prime factors of a given number using trial division."
      ],
      "metadata": {
        "id": "7DtoBF2HgXiR"
      }
    },
    {
      "cell_type": "code",
      "source": [
        "def TrialDivision(N):\n",
        "\n",
        "    # Initializing with the value 2\n",
        "    # from where the number is checked\n",
        "    i = 2\n",
        "\n",
        "    # Computing the square root of\n",
        "    # the number N\n",
        "    k = int(N ** 0.5)\n",
        "\n",
        "    # While loop till the\n",
        "    # square root of N\n",
        "    while(i<= k):\n",
        "\n",
        "        # If any of the numbers between\n",
        "        # [2, sqrt(N)] is a factor of N\n",
        "        # Then the number is composite\n",
        "        if(N % i == 0):\n",
        "            return 0\n",
        "        i += 1\n",
        "\n",
        "    # If none of the numbers is a factor,\n",
        "    # then it is a prime number\n",
        "    return 1\n",
        "\n",
        "\n"
      ],
      "metadata": {
        "id": "EMf7cnTvvcdV"
      },
      "execution_count": 124,
      "outputs": []
    },
    {
      "cell_type": "code",
      "source": [
        "N = int(input(\"enter the number: \"))\n",
        "p = TrialDivision(N)\n",
        "\n",
        "# To check if a number is a prime or not\n",
        "if(p):\n",
        "    print(\"Prime\")\n",
        "else:\n",
        "    print(\"Composite\")"
      ],
      "metadata": {
        "colab": {
          "base_uri": "https://localhost:8080/"
        },
        "id": "B3aJmP5wwocs",
        "outputId": "21bf2949-177f-4482-a013-d8d470147b06"
      },
      "execution_count": 125,
      "outputs": [
        {
          "output_type": "stream",
          "name": "stdout",
          "text": [
            "enter the number: 90\n",
            "Composite\n"
          ]
        }
      ]
    },
    {
      "cell_type": "code",
      "source": [
        "N = int(input(\"enter the number: \"))\n",
        "p = TrialDivision(N)\n",
        "\n",
        "# To check if a number is a prime or not\n",
        "if(p):\n",
        "    print(\"Prime\")\n",
        "else:\n",
        "    print(\"Composite\")"
      ],
      "metadata": {
        "colab": {
          "base_uri": "https://localhost:8080/"
        },
        "id": "1crQR_i9wsnl",
        "outputId": "f04c66c9-0974-45df-c55f-b1cd071fdc17"
      },
      "execution_count": 126,
      "outputs": [
        {
          "output_type": "stream",
          "name": "stdout",
          "text": [
            "enter the number: 51\n",
            "Composite\n"
          ]
        }
      ]
    },
    {
      "cell_type": "code",
      "source": [
        "N = int(input(\"enter the number: \"))\n",
        "p = TrialDivision(N)\n",
        "\n",
        "# To check if a number is a prime or not\n",
        "if(p):\n",
        "    print(\"Prime\")\n",
        "else:\n",
        "    print(\"Composite\")"
      ],
      "metadata": {
        "colab": {
          "base_uri": "https://localhost:8080/"
        },
        "id": "21AG3luiwyVV",
        "outputId": "4cd209dd-591e-480f-a6ec-5d58575b0ba0"
      },
      "execution_count": 127,
      "outputs": [
        {
          "output_type": "stream",
          "name": "stdout",
          "text": [
            "enter the number: 11\n",
            "Prime\n"
          ]
        }
      ]
    }
  ]
}