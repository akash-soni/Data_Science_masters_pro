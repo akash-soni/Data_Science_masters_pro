{
  "nbformat": 4,
  "nbformat_minor": 0,
  "metadata": {
    "colab": {
      "provenance": [],
      "authorship_tag": "ABX9TyN4rLck0zY7wgJo/KdoU977",
      "include_colab_link": true
    },
    "kernelspec": {
      "name": "python3",
      "display_name": "Python 3"
    },
    "language_info": {
      "name": "python"
    }
  },
  "cells": [
    {
      "cell_type": "markdown",
      "metadata": {
        "id": "view-in-github",
        "colab_type": "text"
      },
      "source": [
        "<a href=\"https://colab.research.google.com/github/akash-soni/Data_Science_masters_pro/blob/python/Controlflow.ipynb\" target=\"_parent\"><img src=\"https://colab.research.google.com/assets/colab-badge.svg\" alt=\"Open In Colab\"/></a>"
      ]
    },
    {
      "cell_type": "markdown",
      "source": [
        "Basic If-Else Statements:\n",
        "1. Write a Python program to check if a given number is positive or negative.\n",
        "\n",
        "\n"
      ],
      "metadata": {
        "id": "9dW-fZI53Cnr"
      }
    },
    {
      "cell_type": "code",
      "source": [
        "input_num = eval(input(\"input number: \"))\n",
        "if input_num > 0 :\n",
        "  print(\"number is +ve\")\n",
        "else:\n",
        "  print(\"number is -ve\")"
      ],
      "metadata": {
        "colab": {
          "base_uri": "https://localhost:8080/"
        },
        "id": "YjGxPVDd6mDD",
        "outputId": "c6471165-cd22-41f5-bf7f-e9dc8fb31029"
      },
      "execution_count": 1,
      "outputs": [
        {
          "output_type": "stream",
          "name": "stdout",
          "text": [
            "input number: -6\n",
            "number is -ve\n"
          ]
        }
      ]
    },
    {
      "cell_type": "markdown",
      "source": [
        "2. Create a program that determines if a person is eligible to vote based on their age.\n"
      ],
      "metadata": {
        "id": "YuH7qwh_4FYE"
      }
    },
    {
      "cell_type": "code",
      "source": [
        "age = eval(input(\"enter your age: \"))\n",
        "if age >= 18:\n",
        "  print(\"elgible to vote\")\n",
        "else:\n",
        "  print(\"not eligible to vote\")"
      ],
      "metadata": {
        "colab": {
          "base_uri": "https://localhost:8080/"
        },
        "id": "xrIgiPU_7PHz",
        "outputId": "9900e6fd-1f4b-4de2-f59c-094ae0612ca7"
      },
      "execution_count": 2,
      "outputs": [
        {
          "output_type": "stream",
          "name": "stdout",
          "text": [
            "enter your age: 12\n",
            "not eligible to vote\n"
          ]
        }
      ]
    },
    {
      "cell_type": "markdown",
      "source": [
        "3. Develop a program to find the maximum of two numbers using if-else statements.\n"
      ],
      "metadata": {
        "id": "-qN6ZYox4Hes"
      }
    },
    {
      "cell_type": "code",
      "source": [
        "num1 = eval(input(\"enter number1: \"))\n",
        "num2 = eval(input(\"enter number2: \"))\n",
        "\n",
        "if num1 > num2:\n",
        "  print(f\"{num1} is greater \")\n",
        "elif num1 == num2:\n",
        "  print(f\"{num1} is equal to {num2}\")\n",
        "else:\n",
        "  print(f\"{num2} is greater\")"
      ],
      "metadata": {
        "colab": {
          "base_uri": "https://localhost:8080/"
        },
        "id": "EhIT8jc_7nti",
        "outputId": "3d25e427-19f2-4e48-e014-d52260b98262"
      },
      "execution_count": 4,
      "outputs": [
        {
          "output_type": "stream",
          "name": "stdout",
          "text": [
            "enter number1: 45\n",
            "enter number2: 46\n",
            "46 is greater\n"
          ]
        }
      ]
    },
    {
      "cell_type": "markdown",
      "source": [
        "4. Write a Python script to classify a given year as a leap year or not.\n"
      ],
      "metadata": {
        "id": "iloyXZNz4KwJ"
      }
    },
    {
      "cell_type": "code",
      "source": [
        "year=int(input(\"Enter year to be checked:\"))\n",
        "if(year%4==0 and year%100!=0 or year%400==0):\n",
        "    print(\"The year is a leap year!\")\n",
        "else:\n",
        "    print(\"The year isn't a leap year!\")"
      ],
      "metadata": {
        "colab": {
          "base_uri": "https://localhost:8080/"
        },
        "id": "V7V4y56b9s8Z",
        "outputId": "f8c1ea5a-0562-42ba-8d0b-5023406ad799"
      },
      "execution_count": 5,
      "outputs": [
        {
          "output_type": "stream",
          "name": "stdout",
          "text": [
            "Enter year to be checked:1994\n",
            "The year isn't a leap year!\n"
          ]
        }
      ]
    },
    {
      "cell_type": "markdown",
      "source": [
        "5. Create a program that checks whether a character is a vowel or a consonant.\n"
      ],
      "metadata": {
        "id": "XfQtGMpN4L_3"
      }
    },
    {
      "cell_type": "code",
      "source": [
        "vowels = ['a','e','i','o','u']\n",
        "input_char = str(input(\"enter character: \"))\n",
        "if input_char.lower() in vowels:\n",
        "  print(\"entered character is vowel\")\n",
        "else:\n",
        "  print(\"entered character is consonent\")"
      ],
      "metadata": {
        "colab": {
          "base_uri": "https://localhost:8080/"
        },
        "id": "YrHQwUFU-CfX",
        "outputId": "3b01b133-bb73-46ef-d258-164e90e9ac65"
      },
      "execution_count": 7,
      "outputs": [
        {
          "output_type": "stream",
          "name": "stdout",
          "text": [
            "enter character: g\n",
            "entered character is consonent\n"
          ]
        }
      ]
    },
    {
      "cell_type": "markdown",
      "source": [
        "6. Implement a program to determine whether a given number is even or odd.\n"
      ],
      "metadata": {
        "id": "sUHqhicQ4NkV"
      }
    },
    {
      "cell_type": "code",
      "source": [
        "number=int(input(\"Enter number: \"))\n",
        "if number%2==0:\n",
        "  print(f\"{number} is even\")\n",
        "else:\n",
        "  print(f\"{number} is odd\")"
      ],
      "metadata": {
        "colab": {
          "base_uri": "https://localhost:8080/"
        },
        "id": "RBSfc4I3_4xh",
        "outputId": "44a537d4-ea90-4615-cbcc-eb66455c9e41"
      },
      "execution_count": 8,
      "outputs": [
        {
          "output_type": "stream",
          "name": "stdout",
          "text": [
            "Enter number: 43\n",
            "43 is odd\n"
          ]
        }
      ]
    },
    {
      "cell_type": "markdown",
      "source": [
        "7. Write a Python function to calculate the absolute value of a number without using the `abs()` function.\n"
      ],
      "metadata": {
        "id": "7Bw1LShb4PDn"
      }
    },
    {
      "cell_type": "code",
      "source": [
        "a = 5\n",
        "b = 7\n",
        "sub = a - b\n",
        "if sub < 0:\n",
        "  sub = -1 * sub\n",
        "\n",
        "print(f\"absolute value of |{a} - {b}| = {sub}\")"
      ],
      "metadata": {
        "colab": {
          "base_uri": "https://localhost:8080/"
        },
        "id": "ZqYBamrBAiWe",
        "outputId": "cfae14ad-9aed-4855-d06e-8b0d706565f3"
      },
      "execution_count": 10,
      "outputs": [
        {
          "output_type": "stream",
          "name": "stdout",
          "text": [
            "absolute value of |5 - 7| = 2\n"
          ]
        }
      ]
    },
    {
      "cell_type": "markdown",
      "source": [
        "8. Develop a program that determines the largest of three given numbers using if-else statements.\n"
      ],
      "metadata": {
        "id": "OqJD0WXq4QTv"
      }
    },
    {
      "cell_type": "code",
      "source": [
        "a = 5\n",
        "b = 4\n",
        "c = 7\n",
        "\n",
        "largest = 0\n",
        "\n",
        "if a > b and a > c:\n",
        "    largest = a\n",
        "if b > a and b > c:\n",
        "    largest = b\n",
        "if c > a and c > b:\n",
        "    largest = c\n",
        "\n",
        "print(largest, \"is the largest of three numbers.\")"
      ],
      "metadata": {
        "colab": {
          "base_uri": "https://localhost:8080/"
        },
        "id": "zIkayF4JBSie",
        "outputId": "db0ec73f-f695-423a-dee3-9ec91e2a51f2"
      },
      "execution_count": 11,
      "outputs": [
        {
          "output_type": "stream",
          "name": "stdout",
          "text": [
            "7 is the largest of three numbers.\n"
          ]
        }
      ]
    },
    {
      "cell_type": "markdown",
      "source": [
        "9. Create a program that checks if a given string is a palindrome.\n"
      ],
      "metadata": {
        "id": "-ebZE4-Y4R79"
      }
    },
    {
      "cell_type": "code",
      "source": [
        "input_string = \"madam\"\n",
        "\n",
        "if input_string == input_string[::-1]:\n",
        "  print(\"string is palindrome\")\n",
        "else:\n",
        "  print(\"string is not palindrome\")"
      ],
      "metadata": {
        "colab": {
          "base_uri": "https://localhost:8080/"
        },
        "id": "U3LliDk7BmPf",
        "outputId": "7eccb7a8-1e69-4ebe-ec5a-81302bca9480"
      },
      "execution_count": 12,
      "outputs": [
        {
          "output_type": "stream",
          "name": "stdout",
          "text": [
            "string is palindrome\n"
          ]
        }
      ]
    },
    {
      "cell_type": "markdown",
      "source": [
        "10. Write a Python program to calculate the grade based on a student's score.\n",
        "Nested If-Else Statements:\n"
      ],
      "metadata": {
        "id": "zTUSbVEM4TcU"
      }
    },
    {
      "cell_type": "code",
      "source": [
        "score = 13\n",
        "\n",
        "if score >= 90:\n",
        "    print(\"Grade: A\")\n",
        "else:\n",
        "    if score >= 70:\n",
        "        print(\"Grade: B\")\n",
        "    else:\n",
        "        if score >= 50:\n",
        "            print(\"Grade: C\")\n",
        "        else:\n",
        "            if score >= 40:\n",
        "                print(\"Grade: D\")\n",
        "            else:\n",
        "                print(\"Grade: Fail\")"
      ],
      "metadata": {
        "colab": {
          "base_uri": "https://localhost:8080/"
        },
        "id": "elpCfPKcCU2R",
        "outputId": "01dc36ee-ab4c-4745-b054-9656a1815124"
      },
      "execution_count": 14,
      "outputs": [
        {
          "output_type": "stream",
          "name": "stdout",
          "text": [
            "Grade: Fail\n"
          ]
        }
      ]
    },
    {
      "cell_type": "markdown",
      "source": [
        "11. Write a program to find the largest among three numbers using nested if-else statements.\n"
      ],
      "metadata": {
        "id": "qPo6RJE84UxU"
      }
    },
    {
      "cell_type": "code",
      "source": [
        "a = 5\n",
        "b = 4\n",
        "c = 7\n",
        "\n",
        "largest = 0\n",
        "\n",
        "if a > b and a > c:\n",
        "    largest = a\n",
        "if b > a and b > c:\n",
        "    largest = b\n",
        "if c > a and c > b:\n",
        "    largest = c\n",
        "\n",
        "print(largest, \"is the largest of three numbers.\")"
      ],
      "metadata": {
        "colab": {
          "base_uri": "https://localhost:8080/"
        },
        "id": "BTtdH8O8GuQS",
        "outputId": "2e3ac7d8-309e-4be4-bf16-7ede138156c5"
      },
      "execution_count": 17,
      "outputs": [
        {
          "output_type": "stream",
          "name": "stdout",
          "text": [
            "7 is the largest of three numbers.\n"
          ]
        }
      ]
    },
    {
      "cell_type": "markdown",
      "source": [
        "12. Implement a program to determine if a triangle is equilateral, isosceles, or scalene.\n"
      ],
      "metadata": {
        "id": "yN4JHA0n4V1h"
      }
    },
    {
      "cell_type": "code",
      "source": [
        "x = 8\n",
        "y = 7\n",
        "z = 9\n",
        "\n",
        "# _Check for equilateral triangle\n",
        "if x == y == z:\n",
        "    print(\"Equilateral Triangle\")\n",
        "\n",
        "# Check for isosceles triangle\n",
        "elif x == y or y == z or z == x:\n",
        "    print(\"Isosceles Triangle\")\n",
        "\n",
        "# Otherwise scalene triangle\n",
        "else:\n",
        "    print(\"Scalene Triangle\")\n"
      ],
      "metadata": {
        "colab": {
          "base_uri": "https://localhost:8080/"
        },
        "id": "roAP0DyGG2av",
        "outputId": "618ecba8-35ba-4293-8d42-a863190ab844"
      },
      "execution_count": 18,
      "outputs": [
        {
          "output_type": "stream",
          "name": "stdout",
          "text": [
            "Scalene Triangle\n"
          ]
        }
      ]
    },
    {
      "cell_type": "markdown",
      "source": [
        "13. Develop a program that checks if a year is a leap year and also if it is a century year.\n"
      ],
      "metadata": {
        "id": "WvfUP03E4W7o"
      }
    },
    {
      "cell_type": "code",
      "source": [
        "def is_leap_year(year):\n",
        "    # Check if the year is divisible by 4 and not divisible by 100\n",
        "    # or it is divisible by 400\n",
        "    if (year % 4 == 0 and year % 100 != 0) or (year % 400 == 0):\n",
        "        return True\n",
        "    else:\n",
        "        return False\n",
        "\n",
        "def is_century_year(year):\n",
        "    # Check if the year is divisible by 100\n",
        "    if year % 100 == 0:\n",
        "        return True\n",
        "    else:\n",
        "        return False\n",
        "\n",
        "# Input year from the user\n",
        "try:\n",
        "    year = int(input(\"Enter a year: \"))\n",
        "\n",
        "    if is_leap_year(year):\n",
        "        print(f\"{year} is a leap year.\")\n",
        "    else:\n",
        "        print(f\"{year} is not a leap year.\")\n",
        "\n",
        "    if is_century_year(year):\n",
        "        print(f\"{year} is a century year.\")\n",
        "    else:\n",
        "        print(f\"{year} is not a century year.\")\n",
        "except ValueError:\n",
        "    print(\"Invalid input. Please enter a valid year (integer).\")"
      ],
      "metadata": {
        "colab": {
          "base_uri": "https://localhost:8080/"
        },
        "id": "pLk6Bph5cjBq",
        "outputId": "8426a59b-dac4-4b15-b390-cda16adee53f"
      },
      "execution_count": 1,
      "outputs": [
        {
          "output_type": "stream",
          "name": "stdout",
          "text": [
            "Enter a year: 2000\n",
            "2000 is a leap year.\n",
            "2000 is a century year.\n"
          ]
        }
      ]
    },
    {
      "cell_type": "markdown",
      "source": [
        "14. Write a Python script to determine if a number is positive, negative, or zero.\n"
      ],
      "metadata": {
        "id": "xVxVc0f_4YFT"
      }
    },
    {
      "cell_type": "code",
      "source": [
        "number = int(input(\"Enter a number: \"))\n",
        "\n",
        "if number > 0:\n",
        "    print(f\"{number} is positive\")\n",
        "else:\n",
        "    if number == 0:\n",
        "        print(f\"{number} is zero\")\n",
        "    else:\n",
        "        print(f\"{number} is negative\")"
      ],
      "metadata": {
        "colab": {
          "base_uri": "https://localhost:8080/"
        },
        "id": "S4RpFi5seIaK",
        "outputId": "f39bb712-023f-4f9c-90f5-69034ed43d7a"
      },
      "execution_count": 27,
      "outputs": [
        {
          "output_type": "stream",
          "name": "stdout",
          "text": [
            "Enter a number: -8\n",
            "-8 is negative\n"
          ]
        }
      ]
    },
    {
      "cell_type": "markdown",
      "source": [
        "15. Create a program to check if a person is a teenager (between 13 and 19 years old).\n"
      ],
      "metadata": {
        "id": "UUpByI_w4ZXj"
      }
    },
    {
      "cell_type": "code",
      "source": [
        "age = int(input(\"Enter a age: \"))\n",
        "if (age>=13 and age<=19):\n",
        "  print(\"teenger\")\n",
        "else:\n",
        "  print(\"not teengager\")"
      ],
      "metadata": {
        "colab": {
          "base_uri": "https://localhost:8080/"
        },
        "id": "KlMAsrOIfJHe",
        "outputId": "85fc8e1c-765b-4beb-f71c-a907b4aca482"
      },
      "execution_count": 3,
      "outputs": [
        {
          "output_type": "stream",
          "name": "stdout",
          "text": [
            "Enter a age: 54\n",
            "not teengager\n"
          ]
        }
      ]
    },
    {
      "cell_type": "markdown",
      "source": [
        "16. Develop a program that determines the type of angle based on its measure (acute, obtuse, or right).\n"
      ],
      "metadata": {
        "id": "oYzjE4Mp4aqc"
      }
    },
    {
      "cell_type": "code",
      "source": [
        "def angle_type(angle):\n",
        "    if angle < 90:\n",
        "        return \"Acute Angle\"\n",
        "    elif angle == 90:\n",
        "        return \"Right Angle\"\n",
        "    else:\n",
        "        return \"Obtuse Angle\"\n",
        "\n",
        "try:\n",
        "    angle = float(input(\"Enter the angle measure in degrees: \"))\n",
        "\n",
        "    if angle >= 0 and angle < 180:\n",
        "        angle_classification = angle_type(angle)\n",
        "        print(f\"The angle with measure {angle} degrees is classified as a {angle_classification}.\")\n",
        "    else:\n",
        "        print(\"Invalid input. Please enter an angle measure between 0 and 180 degrees.\")\n",
        "except ValueError:\n",
        "    print(\"Invalid input. Please enter a valid angle measure (numeric).\")"
      ],
      "metadata": {
        "colab": {
          "base_uri": "https://localhost:8080/"
        },
        "id": "AQ9ohNpMgX8Z",
        "outputId": "8bef52f2-ee9f-477d-c79f-4b4e99eaf7ff"
      },
      "execution_count": 4,
      "outputs": [
        {
          "output_type": "stream",
          "name": "stdout",
          "text": [
            "Enter the angle measure in degrees: 54\n",
            "The angle with measure 54.0 degrees is classified as a Acute Angle.\n"
          ]
        }
      ]
    },
    {
      "cell_type": "code",
      "source": [],
      "metadata": {
        "id": "VB_MhVDGgSz4"
      },
      "execution_count": null,
      "outputs": []
    },
    {
      "cell_type": "markdown",
      "source": [
        "17. Write a Python program to calculate the roots of a quadratic equation.\n"
      ],
      "metadata": {
        "id": "j-vw_YfK4b3E"
      }
    },
    {
      "cell_type": "markdown",
      "source": [
        "**Roots**\n",
        "x = (-b ± sqrt(b^2 - 4ac)) / (2a)"
      ],
      "metadata": {
        "id": "a5o9cRoqhEUa"
      }
    },
    {
      "cell_type": "code",
      "source": [
        "import math\n",
        "\n",
        "def quad_roots(a,b,c):\n",
        "  val = (b**2)- (4*a*c)\n",
        "  if val > 0:\n",
        "    # Two distinct real roots\n",
        "    pos_root = ((-1*b) + math.sqrt(val))/(2*a)\n",
        "    neg_root = ((-1*b) - math.sqrt(val))/(2*a)\n",
        "    print(f\"The roots are real and distinct: {pos_root} and {neg_root}\")\n",
        "  elif ValueError == 0:\n",
        "    # One real root (a repeated root)\n",
        "    root = -b / (2*a)\n",
        "    print(f\"The root is real and repeated: {root}\")\n",
        "  else:\n",
        "    # Complex roots\n",
        "    real_part = -b / (2*a)\n",
        "    imaginary_part = math.sqrt(abs(val)) / (2*a)\n",
        "    print(f\"The roots are complex: {real_part} + {imaginary_part}i and {real_part} - {imaginary_part}i\")\n",
        "\n"
      ],
      "metadata": {
        "id": "wp9IF2Tvg0Rc"
      },
      "execution_count": 6,
      "outputs": []
    },
    {
      "cell_type": "code",
      "source": [
        "\n",
        "a = float(input(\"Enter the coefficient 'a': \"))\n",
        "b = float(input(\"Enter the coefficient 'b': \"))\n",
        "c = float(input(\"Enter the coefficient 'c': \"))\n",
        "\n",
        "quad_roots(a,b,c)"
      ],
      "metadata": {
        "colab": {
          "base_uri": "https://localhost:8080/"
        },
        "id": "X6VVzv_BjHAn",
        "outputId": "020bba5c-58dc-4aab-de75-560d9478766b"
      },
      "execution_count": 7,
      "outputs": [
        {
          "output_type": "stream",
          "name": "stdout",
          "text": [
            "Enter the coefficient 'a': 1\n",
            "Enter the coefficient 'b': 2\n",
            "Enter the coefficient 'c': 4\n",
            "The roots are complex: -1.0 + 1.7320508075688772i and -1.0 - 1.7320508075688772i\n"
          ]
        }
      ]
    },
    {
      "cell_type": "code",
      "source": [
        "\n",
        "a = float(input(\"Enter the coefficient 'a': \"))\n",
        "b = float(input(\"Enter the coefficient 'b': \"))\n",
        "c = float(input(\"Enter the coefficient 'c': \"))\n",
        "\n",
        "quad_roots(a,b,c)"
      ],
      "metadata": {
        "colab": {
          "base_uri": "https://localhost:8080/"
        },
        "id": "bdPZZclCjICW",
        "outputId": "41424cf3-fdf2-4505-d729-ae67a031956b"
      },
      "execution_count": 8,
      "outputs": [
        {
          "output_type": "stream",
          "name": "stdout",
          "text": [
            "Enter the coefficient 'a': 1\n",
            "Enter the coefficient 'b': 3\n",
            "Enter the coefficient 'c': -2\n",
            "The roots are real and distinct: 0.5615528128088303 and -3.5615528128088303\n"
          ]
        }
      ]
    },
    {
      "cell_type": "code",
      "source": [
        "\n",
        "a = float(input(\"Enter the coefficient 'a': \"))\n",
        "b = float(input(\"Enter the coefficient 'b': \"))\n",
        "c = float(input(\"Enter the coefficient 'c': \"))\n",
        "\n",
        "quad_roots(a,b,c)"
      ],
      "metadata": {
        "colab": {
          "base_uri": "https://localhost:8080/"
        },
        "id": "F8u_FMdRjIo5",
        "outputId": "40391c6f-8acf-4cc1-83af-38b97fbb0307"
      },
      "execution_count": 9,
      "outputs": [
        {
          "output_type": "stream",
          "name": "stdout",
          "text": [
            "Enter the coefficient 'a': 3\n",
            "Enter the coefficient 'b': 1\n",
            "Enter the coefficient 'c': 5\n",
            "The roots are complex: -0.16666666666666666 + 1.2801909579781012i and -0.16666666666666666 - 1.2801909579781012i\n"
          ]
        }
      ]
    },
    {
      "cell_type": "markdown",
      "source": [
        "18. Implement a program to determine the day of the week based on a user-provided number (1 for Monday, 2 for Tuesday, etc.).\n"
      ],
      "metadata": {
        "id": "deX8bwAx4dQk"
      }
    },
    {
      "cell_type": "code",
      "source": [
        "weekdays = [\"Monday\", \"Tuesday\", \"Wednesday\", \"Thursday\", \"Friday\", \"Saturday\", \"Sunday\"]\n",
        "number = int(input(\"Enter a number: \"))\n",
        "\n",
        "if number>=1 and number<=7:\n",
        "  day = weekdays[number-1]\n",
        "  print(f\"{number} day of week is {day}\")\n",
        "else:\n",
        "  print(\"entered number is incorrect\")"
      ],
      "metadata": {
        "colab": {
          "base_uri": "https://localhost:8080/"
        },
        "id": "DQnydMPYjmMj",
        "outputId": "b9b66f82-ee02-4f3f-950f-316f4c010c97"
      },
      "execution_count": 10,
      "outputs": [
        {
          "output_type": "stream",
          "name": "stdout",
          "text": [
            "Enter a number: 4\n",
            "4 day of week is Thursday\n"
          ]
        }
      ]
    },
    {
      "cell_type": "markdown",
      "source": [
        "19. Create a program that determines if a year is a leap year and also if it is evenly divisible by 400.\n"
      ],
      "metadata": {
        "id": "gja9OlV06jKS"
      }
    },
    {
      "cell_type": "code",
      "source": [
        "def is_leap_year(year):\n",
        "    # Check if the year is divisible by 4 and not divisible by 100\n",
        "    # or it is divisible by 400\n",
        "    if (year % 4 == 0 and year % 100 != 0) or (year % 400 == 0):\n",
        "        return True\n",
        "    else:\n",
        "        return False\n",
        "\n",
        "year = int(input(\"Enter a year: \"))\n",
        "\n",
        "if is_leap_year(year):\n",
        "    print(f\"{year} is a leap year.\")\n",
        "else:\n",
        "    print(f\"{year} is not a leap year.\")"
      ],
      "metadata": {
        "colab": {
          "base_uri": "https://localhost:8080/"
        },
        "id": "O-_CO6dwkx26",
        "outputId": "6ae9270f-8576-49f2-f617-bfaaca417b4b"
      },
      "execution_count": 11,
      "outputs": [
        {
          "output_type": "stream",
          "name": "stdout",
          "text": [
            "Enter a year: 2004\n",
            "2004 is a leap year.\n"
          ]
        }
      ]
    },
    {
      "cell_type": "code",
      "source": [],
      "metadata": {
        "id": "IgN2marMk6x1"
      },
      "execution_count": null,
      "outputs": []
    },
    {
      "cell_type": "markdown",
      "source": [
        "20. Develop a program that checks if a given number is prime or not using nested if-else statements."
      ],
      "metadata": {
        "id": "dd8drDor6knY"
      }
    },
    {
      "cell_type": "code",
      "source": [
        "try:\n",
        "    num = int(input(\"Enter a number: \"))\n",
        "\n",
        "    if num <= 1:\n",
        "        print(f\"{num} is not a prime number.\")\n",
        "    elif num == 2:\n",
        "        print(f\"{num} is a prime number.\")\n",
        "    else:\n",
        "        is_prime = True\n",
        "        for i in range(2, int(num ** 0.5) + 1):\n",
        "            if num % i == 0:\n",
        "                is_prime = False\n",
        "                break\n",
        "\n",
        "        if is_prime:\n",
        "            print(f\"{num} is a prime number.\")\n",
        "        else:\n",
        "            print(f\"{num} is not a prime number.\")\n",
        "except ValueError:\n",
        "    print(\"Invalid input. Please enter a valid integer.\")"
      ],
      "metadata": {
        "colab": {
          "base_uri": "https://localhost:8080/"
        },
        "id": "GbrZkJV9lL6r",
        "outputId": "58a08a08-3f53-4815-a022-e22d381b161e"
      },
      "execution_count": 12,
      "outputs": [
        {
          "output_type": "stream",
          "name": "stdout",
          "text": [
            "Enter a number: 7\n",
            "7 is a prime number.\n"
          ]
        }
      ]
    },
    {
      "cell_type": "markdown",
      "source": [
        "Elif Statements:\n",
        "\n",
        "\n"
      ],
      "metadata": {
        "id": "gDpab1bq32Zm"
      }
    },
    {
      "cell_type": "markdown",
      "source": [
        "21. Write a Python program to assign grades based on different ranges of scores using elif statements.\n"
      ],
      "metadata": {
        "id": "tS8oCU6Ql1n2"
      }
    },
    {
      "cell_type": "code",
      "source": [
        "score = 13\n",
        "if(score>=90):\n",
        "    print(\"Grade: A\")\n",
        "elif(score>=70 and score<90):\n",
        "    print(\"Grade: B\")\n",
        "elif(score>=50 and score<70):\n",
        "    print(\"Grade: C\")\n",
        "elif(score>=40 and score<50):\n",
        "    print(\"Grade: D\")\n",
        "else:\n",
        "    print(\"Grade: Fail\")"
      ],
      "metadata": {
        "colab": {
          "base_uri": "https://localhost:8080/"
        },
        "id": "zeviS8QJmElu",
        "outputId": "b2cc4e42-a37e-4e44-986e-39f56e3d65e8"
      },
      "execution_count": 13,
      "outputs": [
        {
          "output_type": "stream",
          "name": "stdout",
          "text": [
            "Grade: Fail\n"
          ]
        }
      ]
    },
    {
      "cell_type": "markdown",
      "source": [
        "22. Implement a program to determine the type of a triangle based on its angles.\n"
      ],
      "metadata": {
        "id": "pWwEciTZl3g2"
      }
    },
    {
      "cell_type": "code",
      "source": [
        "angle1 = float(input(\"Enter the measure of the first angle: \"))\n",
        "angle2 = float(input(\"Enter the measure of the second angle: \"))\n",
        "angle3 = float(input(\"Enter the measure of the third angle: \"))\n",
        "\n",
        "# Check if the angles form a valid triangle (sum of angles equals 180 degrees)\n",
        "if angle1 + angle2 + angle3 == 180:\n",
        "    # Check the type of triangle based on angle measures\n",
        "    if angle1 < 90 and angle2 < 90 and angle3 < 90:\n",
        "        print(\"It's an Acute Triangle.\")\n",
        "    elif angle1 == 90 or angle2 == 90 or angle3 == 90:\n",
        "        print(\"It's a Right Triangle.\")\n",
        "    else:\n",
        "        print(\"It's an Obtuse Triangle.\")\n",
        "else:\n",
        "    print(\"These angles do not form a valid triangle.\")"
      ],
      "metadata": {
        "colab": {
          "base_uri": "https://localhost:8080/"
        },
        "id": "23eDoDJWmjjY",
        "outputId": "6b89b9ed-f49c-4d4f-d5bb-2a711e2f62e6"
      },
      "execution_count": 16,
      "outputs": [
        {
          "output_type": "stream",
          "name": "stdout",
          "text": [
            "Enter the measure of the first angle: 20\n",
            "Enter the measure of the second angle: 120\n",
            "Enter the measure of the third angle: 40\n",
            "It's an Obtuse Triangle.\n"
          ]
        }
      ]
    },
    {
      "cell_type": "markdown",
      "source": [
        "23. Develop a program to categorize a given person's BMI into underweight, normal, overweight, or obese using elif statements.\n"
      ],
      "metadata": {
        "id": "hUxFc_KEl4--"
      }
    },
    {
      "cell_type": "code",
      "source": [
        "def weight_cal(weight):\n",
        "  if weight > 0 and weight <= 200:\n",
        "      if weight >= 100:\n",
        "          print(\"Obese\")\n",
        "      elif weight >= 90:\n",
        "          print(\"Overweight\")\n",
        "      elif weight >= 60:\n",
        "          print(\"Normal\")\n",
        "      else:\n",
        "          print(\"Underweight\")\n",
        "  else:\n",
        "      print(\"Wrong data entered\")"
      ],
      "metadata": {
        "id": "33VKmqwynMFs"
      },
      "execution_count": 21,
      "outputs": []
    },
    {
      "cell_type": "code",
      "source": [
        "weight = float(input(\"Enter weight in kgs: \"))\n",
        "weight_cal(weight)"
      ],
      "metadata": {
        "colab": {
          "base_uri": "https://localhost:8080/"
        },
        "id": "95NhHoF4pBJ4",
        "outputId": "d650e425-b1a4-4246-b742-c413e9adb492"
      },
      "execution_count": 22,
      "outputs": [
        {
          "output_type": "stream",
          "name": "stdout",
          "text": [
            "Enter weight in kgs: 0\n",
            "Wrong data entered\n"
          ]
        }
      ]
    },
    {
      "cell_type": "code",
      "source": [
        "weight = float(input(\"Enter weight in kgs: \"))\n",
        "weight_cal(weight)"
      ],
      "metadata": {
        "colab": {
          "base_uri": "https://localhost:8080/"
        },
        "id": "whIiCbcBosnT",
        "outputId": "7e691095-6a50-47d8-d571-01a62901ac89"
      },
      "execution_count": 23,
      "outputs": [
        {
          "output_type": "stream",
          "name": "stdout",
          "text": [
            "Enter weight in kgs: 130\n",
            "Obese\n"
          ]
        }
      ]
    },
    {
      "cell_type": "code",
      "source": [
        "weight = float(input(\"Enter weight in kgs: \"))\n",
        "weight_cal(weight)"
      ],
      "metadata": {
        "colab": {
          "base_uri": "https://localhost:8080/"
        },
        "id": "TbbecLV-pIKr",
        "outputId": "4909db95-276a-45b8-90e3-a16b67bec491"
      },
      "execution_count": 24,
      "outputs": [
        {
          "output_type": "stream",
          "name": "stdout",
          "text": [
            "Enter weight in kgs: 98\n",
            "Overweight\n"
          ]
        }
      ]
    },
    {
      "cell_type": "code",
      "source": [
        "weight = float(input(\"Enter weight in kgs: \"))\n",
        "weight_cal(weight)"
      ],
      "metadata": {
        "colab": {
          "base_uri": "https://localhost:8080/"
        },
        "id": "X0LVbaBApIUB",
        "outputId": "06d600bf-5ee3-4eaa-8193-2a1d81eff012"
      },
      "execution_count": 25,
      "outputs": [
        {
          "output_type": "stream",
          "name": "stdout",
          "text": [
            "Enter weight in kgs: 36\n",
            "Underweight\n"
          ]
        }
      ]
    },
    {
      "cell_type": "markdown",
      "source": [
        "24. Create a program that determines whether a given number is positive, negative, or zero using elif statements.\n"
      ],
      "metadata": {
        "id": "Vh2OW_8Jl6JO"
      }
    },
    {
      "cell_type": "code",
      "source": [
        "number = int(input(\"Enter a number: \"))\n",
        "\n",
        "if number > 0:\n",
        "  print(f\"{number} is positive\")\n",
        "elif number == 0:\n",
        "  print(f\"{number} is zero\")\n",
        "else:\n",
        "  print(f\"{number} is negative\")"
      ],
      "metadata": {
        "colab": {
          "base_uri": "https://localhost:8080/"
        },
        "id": "_J-Ws62TpSnw",
        "outputId": "8833bf8a-585e-4f3d-ab86-14ae07db3232"
      },
      "execution_count": 26,
      "outputs": [
        {
          "output_type": "stream",
          "name": "stdout",
          "text": [
            "Enter a number: 9\n",
            "9 is positive\n"
          ]
        }
      ]
    },
    {
      "cell_type": "markdown",
      "source": [
        "25. Write a Python script to determine the type of a character (uppercase, lowercase, or special) using elif statements.\n"
      ],
      "metadata": {
        "id": "5qHZrVQCl7hi"
      }
    },
    {
      "cell_type": "code",
      "source": [
        "# Input a character from the user\n",
        "char = input(\"Enter a character: \")\n",
        "\n",
        "# Check the type of character using elif statements\n",
        "if char.isalpha():\n",
        "    if char.islower():\n",
        "        print(f\"{char} is a lowercase letter.\")\n",
        "    elif char.isupper():\n",
        "        print(f\"{char} is an uppercase letter.\")\n",
        "else:\n",
        "    print(f\"{char} is a special character or digit.\")"
      ],
      "metadata": {
        "colab": {
          "base_uri": "https://localhost:8080/"
        },
        "id": "1mgSEzGhp6Kp",
        "outputId": "ee359b7a-3c39-4fcc-b101-50e6f4d9bf59"
      },
      "execution_count": 28,
      "outputs": [
        {
          "output_type": "stream",
          "name": "stdout",
          "text": [
            "Enter a character: A\n",
            "A is an uppercase letter.\n"
          ]
        }
      ]
    },
    {
      "cell_type": "markdown",
      "source": [
        "26. Implement a program to calculate the discounted price based on different purchase amounts using elif statements.\n"
      ],
      "metadata": {
        "id": "Kw-EEVuXl9Ii"
      }
    },
    {
      "cell_type": "code",
      "source": [
        "def discount_calculate(item_price):\n",
        "  if item_price<0:\n",
        "    print(\"wrong price entered\")\n",
        "  elif item_price<500:\n",
        "    discount = 0\n",
        "  elif item_price<1000:\n",
        "    discount = 0.10\n",
        "  elif item_price<2000:\n",
        "    discount = 0.15\n",
        "  else:\n",
        "    discount = 0.20\n",
        "  # Calculate the discounted price\n",
        "  discounted_price = item_price - (item_price * discount)\n",
        "\n",
        "  if discount == 0:\n",
        "      print(f\"No discount applied. Total price: Rs{item_price:.2f}\")\n",
        "  else:\n",
        "      print(f\"Discounted price: Rs{discounted_price:.2f} (You saved Rs{item_price - discounted_price:.2f})\")"
      ],
      "metadata": {
        "id": "fnY0YSQvqnCF"
      },
      "execution_count": 29,
      "outputs": []
    },
    {
      "cell_type": "code",
      "source": [
        "item_price = float(input(\"Enter item_price: \"))\n",
        "discount_calculate(item_price)"
      ],
      "metadata": {
        "colab": {
          "base_uri": "https://localhost:8080/"
        },
        "id": "y2F8F-wIqM3g",
        "outputId": "ed41b6b5-aeb0-4c06-d09d-c7a27dd8a36a"
      },
      "execution_count": 31,
      "outputs": [
        {
          "output_type": "stream",
          "name": "stdout",
          "text": [
            "Enter item_price: 75.6\n",
            "No discount applied. Total price: $75.60\n"
          ]
        }
      ]
    },
    {
      "cell_type": "code",
      "source": [
        "item_price = float(input(\"Enter item_price: \"))\n",
        "discount_calculate(item_price)"
      ],
      "metadata": {
        "colab": {
          "base_uri": "https://localhost:8080/"
        },
        "id": "TcJpGpvHsQqW",
        "outputId": "a2697ce6-cb91-4112-b0b0-2783e6c5f29c"
      },
      "execution_count": 32,
      "outputs": [
        {
          "output_type": "stream",
          "name": "stdout",
          "text": [
            "Enter item_price: 6100\n",
            "Discounted price: $4880.00 (You saved $1220.00)\n"
          ]
        }
      ]
    },
    {
      "cell_type": "markdown",
      "source": [
        "27. Develop a program to calculate the electricity bill based on different consumption slabs using elif statements.\n"
      ],
      "metadata": {
        "id": "IysMu7JZl-OB"
      }
    },
    {
      "cell_type": "code",
      "source": [
        "def electric_bill(units):\n",
        "  #program for calculating electricity bill in Python\n",
        "\n",
        "  if(units<=100):\n",
        "      payAmount=units*1.5\n",
        "      fixedcharge=25.00\n",
        "  elif(units<=200):\n",
        "      payAmount=(100*1.5)+(units-100)*2.5\n",
        "      fixedcharge=50.00\n",
        "  elif(units<=300):\n",
        "      payAmount=(100*1.5)+(200-100)*2.5+(units-200)*4\n",
        "      fixedcharge=75.00\n",
        "  elif(units<=350):\n",
        "      payAmount=(100*1.5)+(200-100)*2.5+(300-200)*4+(units-300)*5\n",
        "      fixedcharge=100.00\n",
        "  else:\n",
        "      payAmount=0\n",
        "      fixedcharge=1500.00\n",
        "  Total=payAmount+fixedcharge;\n",
        "  print(\"\\nElecticity bill=%.2f\" %Total)"
      ],
      "metadata": {
        "id": "WQy6SKk5sVzd"
      },
      "execution_count": 36,
      "outputs": []
    },
    {
      "cell_type": "code",
      "source": [
        "consumption = float(input(\"please enter the number of units you consumed in a month: \"))\n",
        "electric_bill(consumption)"
      ],
      "metadata": {
        "colab": {
          "base_uri": "https://localhost:8080/"
        },
        "id": "9u1xhhlnsuwb",
        "outputId": "9d0f525d-5958-467c-d18e-ff5940d6bf9c"
      },
      "execution_count": 38,
      "outputs": [
        {
          "output_type": "stream",
          "name": "stdout",
          "text": [
            "please enter the number of units you consumed in a month: 200\n",
            "\n",
            "Electicity bill=450.00\n"
          ]
        }
      ]
    },
    {
      "cell_type": "code",
      "source": [
        "consumption = float(input(\"please enter the number of units you consumed in a month: \"))\n",
        "electric_bill(consumption)"
      ],
      "metadata": {
        "colab": {
          "base_uri": "https://localhost:8080/"
        },
        "id": "eymybkTZt9hE",
        "outputId": "e078ca0b-a51f-4a26-ed6b-51baab566874"
      },
      "execution_count": 39,
      "outputs": [
        {
          "output_type": "stream",
          "name": "stdout",
          "text": [
            "please enter the number of units you consumed in a month: 431\n",
            "\n",
            "Electicity bill=1500.00\n"
          ]
        }
      ]
    },
    {
      "cell_type": "markdown",
      "source": [
        "28. Create a program to determine the type of quadrilateral based on its angles and sides using elif statements.\n"
      ],
      "metadata": {
        "id": "k1R5E3KGl_Vh"
      }
    },
    {
      "cell_type": "code",
      "source": [
        "def type_quad(angle1,angle2,angle3,angle4,side1,side2,side3,side4):\n",
        "  # Check the type of quadrilateral using elif statements\n",
        "  if angle1 == angle2 == angle3 == angle4 == 90:\n",
        "      if side1 == side2 == side3 == side4:\n",
        "          print(\"It's a square.\")\n",
        "      else:\n",
        "          print(\"It's a rectangle.\")\n",
        "  elif side1 == side2 == side3 == side4:\n",
        "      if angle1 == angle2 == angle3 == angle4:\n",
        "          print(\"It's a rhombus.\")\n",
        "      else:\n",
        "          print(\"It's a parallelogram.\")\n",
        "  elif side1 == side3 and side2 == side4:\n",
        "      if angle1 + angle2 + angle3 + angle4 == 360:\n",
        "          print(\"It's a kite.\")\n",
        "      else:\n",
        "          print(\"It's a quadrilateral with no special properties.\")\n",
        "  else:\n",
        "      print(\"It's a quadrilateral with no special properties.\")"
      ],
      "metadata": {
        "id": "mUoFVl_IuDDM"
      },
      "execution_count": 41,
      "outputs": []
    },
    {
      "cell_type": "code",
      "source": [
        "# Input angle measures in degrees and side lengths from the user\n",
        "angle1 = float(input(\"Enter the measure of angle 1 in degrees: \"))\n",
        "angle2 = float(input(\"Enter the measure of angle 2 in degrees: \"))\n",
        "angle3 = float(input(\"Enter the measure of angle 3 in degrees: \"))\n",
        "angle4 = float(input(\"Enter the measure of angle 4 in degrees: \"))\n",
        "side1 = float(input(\"Enter the length of side 1: \"))\n",
        "side2 = float(input(\"Enter the length of side 2: \"))\n",
        "side3 = float(input(\"Enter the length of side 3: \"))\n",
        "side4 = float(input(\"Enter the length of side 4: \"))\n",
        "type_quad(angle1,angle2,angle3,angle4,side1,side2,side3,side4)"
      ],
      "metadata": {
        "colab": {
          "base_uri": "https://localhost:8080/"
        },
        "id": "X-F2oE8auggz",
        "outputId": "88a0d03c-3182-4008-bee6-f332161dc555"
      },
      "execution_count": 42,
      "outputs": [
        {
          "output_type": "stream",
          "name": "stdout",
          "text": [
            "Enter the measure of angle 1 in degrees: 90\n",
            "Enter the measure of angle 2 in degrees: 90\n",
            "Enter the measure of angle 3 in degrees: 90\n",
            "Enter the measure of angle 4 in degrees: 90\n",
            "Enter the length of side 1: 30\n",
            "Enter the length of side 2: 40\n",
            "Enter the length of side 3: 30\n",
            "Enter the length of side 4: 40\n",
            "It's a rectangle.\n"
          ]
        }
      ]
    },
    {
      "cell_type": "code",
      "source": [
        "# Input angle measures in degrees and side lengths from the user\n",
        "angle1 = float(input(\"Enter the measure of angle 1 in degrees: \"))\n",
        "angle2 = float(input(\"Enter the measure of angle 2 in degrees: \"))\n",
        "angle3 = float(input(\"Enter the measure of angle 3 in degrees: \"))\n",
        "angle4 = float(input(\"Enter the measure of angle 4 in degrees: \"))\n",
        "side1 = float(input(\"Enter the length of side 1: \"))\n",
        "side2 = float(input(\"Enter the length of side 2: \"))\n",
        "side3 = float(input(\"Enter the length of side 3: \"))\n",
        "side4 = float(input(\"Enter the length of side 4: \"))\n",
        "type_quad(angle1,angle2,angle3,angle4,side1,side2,side3,side4)"
      ],
      "metadata": {
        "colab": {
          "base_uri": "https://localhost:8080/"
        },
        "id": "yu3X58nevVhe",
        "outputId": "c18c7a8e-6969-4add-bd0e-a723f32f01b2"
      },
      "execution_count": 43,
      "outputs": [
        {
          "output_type": "stream",
          "name": "stdout",
          "text": [
            "Enter the measure of angle 1 in degrees: 100\n",
            "Enter the measure of angle 2 in degrees: 80\n",
            "Enter the measure of angle 3 in degrees: 90\n",
            "Enter the measure of angle 4 in degrees: 90\n",
            "Enter the length of side 1: 30\n",
            "Enter the length of side 2: 40\n",
            "Enter the length of side 3: 30\n",
            "Enter the length of side 4: 40\n",
            "It's a kite.\n"
          ]
        }
      ]
    },
    {
      "cell_type": "markdown",
      "source": [
        "29. Write a Python script to determine the season based on a user-provided month using elif statements.\n"
      ],
      "metadata": {
        "id": "X6FEgVEQmAbT"
      }
    },
    {
      "cell_type": "code",
      "source": [
        "# Input the month from the user\n",
        "month = input(\"Enter a month (e.g., January, February, etc.): \")\n",
        "\n",
        "# Convert the input to lowercase for case-insensitive comparison\n",
        "month = month.lower()\n",
        "\n",
        "# Determine the season using elif statements\n",
        "if month == \"march\" or month == \"april\" or month == \"may\":\n",
        "    season = \"Spring\"\n",
        "elif month == \"june\" or month == \"july\" or month == \"august\":\n",
        "    season = \"Summer\"\n",
        "elif month == \"september\" or month == \"october\" or month == \"november\":\n",
        "    season = \"Autumn (Fall)\"\n",
        "elif month == \"december\" or month == \"january\" or month == \"february\":\n",
        "    season = \"Winter\"\n",
        "else:\n",
        "    season = \"Invalid month\"\n",
        "\n",
        "# Display the season or an error message\n",
        "print(f\"The season for {month.capitalize()} is {season}.\")"
      ],
      "metadata": {
        "colab": {
          "base_uri": "https://localhost:8080/"
        },
        "id": "wOAF0_H9vfzK",
        "outputId": "edaee7aa-dc80-429f-93c4-7653a196e2b9"
      },
      "execution_count": 44,
      "outputs": [
        {
          "output_type": "stream",
          "name": "stdout",
          "text": [
            "Enter a month (e.g., January, February, etc.): december\n",
            "The season for December is Winter.\n"
          ]
        }
      ]
    },
    {
      "cell_type": "markdown",
      "source": [
        "30. Implement a program to determine the type of a year (leap or common) and month (30 or 31 days) using elif statements."
      ],
      "metadata": {
        "id": "TKS4fGi-mBvw"
      }
    },
    {
      "cell_type": "code",
      "source": [
        "# Input the year and month from the user\n",
        "year = int(input(\"Enter a year: \"))\n",
        "month = int(input(\"Enter a month (1 for January, 2 for February, etc.): \"))\n",
        "\n",
        "# Check if it's a leap year using the rules:\n",
        "# Leap years are divisible by 4, except for years divisible by 100 but not by 400\n",
        "is_leap_year = (year % 4 == 0 and (year % 100 != 0 or year % 400 == 0))\n",
        "\n",
        "# Determine the number of days in the month using elif statements\n",
        "if month == 1 or month == 3 or month == 5 or month == 7 or month == 8 or month == 10 or month == 12:\n",
        "    days_in_month = 31\n",
        "elif month == 4 or month == 6 or month == 9 or month == 11:\n",
        "    days_in_month = 30\n",
        "elif month == 2:\n",
        "    if is_leap_year:\n",
        "        days_in_month = 29\n",
        "    else:\n",
        "        days_in_month = 28\n",
        "else:\n",
        "    days_in_month = -1  # Invalid month\n",
        "\n",
        "# Display the results\n",
        "if days_in_month == -1:\n",
        "    print(\"Invalid month entered.\")\n",
        "else:\n",
        "    if is_leap_year:\n",
        "        year_type = \"leap\"\n",
        "    else:\n",
        "        year_type = \"common\"\n",
        "\n",
        "    print(f\"The year {year} is a {year_type} year, and the month {month} has {days_in_month} days.\")"
      ],
      "metadata": {
        "colab": {
          "base_uri": "https://localhost:8080/"
        },
        "id": "KxFEI8Slv50N",
        "outputId": "87846222-303a-4fb4-f215-c8bf19a6b269"
      },
      "execution_count": 45,
      "outputs": [
        {
          "output_type": "stream",
          "name": "stdout",
          "text": [
            "Enter a year: 2024\n",
            "Enter a month (1 for January, 2 for February, etc.): 2\n",
            "The year 2024 is a leap year, and the month 2 has 29 days.\n"
          ]
        }
      ]
    },
    {
      "cell_type": "markdown",
      "source": [
        "## Basic Level:\n"
      ],
      "metadata": {
        "id": "3sRW2t3v35rD"
      }
    },
    {
      "cell_type": "markdown",
      "source": [
        "1. Write a Python program that checks if a given number is positive, negative, or zero.\n"
      ],
      "metadata": {
        "id": "zLvywE2gwcW5"
      }
    },
    {
      "cell_type": "code",
      "source": [
        "number = int(input(\"Enter a number: \"))\n",
        "\n",
        "if number > 0:\n",
        "    print(f\"{number} is positive\")\n",
        "else:\n",
        "    if number == 0:\n",
        "        print(f\"{number} is zero\")\n",
        "    else:\n",
        "        print(f\"{number} is negative\")"
      ],
      "metadata": {
        "colab": {
          "base_uri": "https://localhost:8080/"
        },
        "id": "7INnZVFVwt2f",
        "outputId": "905b2982-df5e-46c4-d94d-42ae978a11a4"
      },
      "execution_count": 46,
      "outputs": [
        {
          "output_type": "stream",
          "name": "stdout",
          "text": [
            "Enter a number: 0\n",
            "0 is zero\n"
          ]
        }
      ]
    },
    {
      "cell_type": "markdown",
      "source": [
        "2. Create a program to determine if a person is eligible to vote based on their age.\n",
        "\n"
      ],
      "metadata": {
        "id": "soraQlU0weEa"
      }
    },
    {
      "cell_type": "code",
      "source": [
        "age = eval(input(\"enter your age: \"))\n",
        "if age >= 18:\n",
        "  print(\"elgible to vote\")\n",
        "else:\n",
        "  print(\"not eligible to vote\")"
      ],
      "metadata": {
        "colab": {
          "base_uri": "https://localhost:8080/"
        },
        "id": "XmOz1G7Aw-OO",
        "outputId": "e5fc9284-3845-43f0-a591-1b835eb5241e"
      },
      "execution_count": 47,
      "outputs": [
        {
          "output_type": "stream",
          "name": "stdout",
          "text": [
            "enter your age: 34\n",
            "elgible to vote\n"
          ]
        }
      ]
    },
    {
      "cell_type": "markdown",
      "source": [
        "3. Write a program to find the maximum of two given numbers using conditional statements.\n",
        "\n"
      ],
      "metadata": {
        "id": "iHCrOzrewffg"
      }
    },
    {
      "cell_type": "code",
      "source": [
        "num1 = eval(input(\"enter number1: \"))\n",
        "num2 = eval(input(\"enter number2: \"))\n",
        "\n",
        "if num1 > num2:\n",
        "  print(f\"{num1} is greater \")\n",
        "elif num1 == num2:\n",
        "  print(f\"{num1} is equal to {num2}\")\n",
        "else:\n",
        "  print(f\"{num2} is greater\")"
      ],
      "metadata": {
        "colab": {
          "base_uri": "https://localhost:8080/"
        },
        "id": "y8pITPfNxO-Y",
        "outputId": "44c72b81-2ced-4aba-f727-da621dce1c81"
      },
      "execution_count": 48,
      "outputs": [
        {
          "output_type": "stream",
          "name": "stdout",
          "text": [
            "enter number1: 43\n",
            "enter number2: 68\n",
            "68 is greater\n"
          ]
        }
      ]
    },
    {
      "cell_type": "markdown",
      "source": [
        "4. Develop a program that calculates the grade of a student based on their exam score.\n"
      ],
      "metadata": {
        "id": "7Gov3mR-whMt"
      }
    },
    {
      "cell_type": "code",
      "source": [
        "score = 67\n",
        "if(score>=90):\n",
        "    print(\"Grade: A\")\n",
        "elif(score>=70 and score<90):\n",
        "    print(\"Grade: B\")\n",
        "elif(score>=50 and score<70):\n",
        "    print(\"Grade: C\")\n",
        "elif(score>=40 and score<50):\n",
        "    print(\"Grade: D\")\n",
        "else:\n",
        "    print(\"Grade: Fail\")"
      ],
      "metadata": {
        "colab": {
          "base_uri": "https://localhost:8080/"
        },
        "id": "5iJfb5YGxw1o",
        "outputId": "52e3436c-5c2f-4743-a55f-ae26dd6987c5"
      },
      "execution_count": 49,
      "outputs": [
        {
          "output_type": "stream",
          "name": "stdout",
          "text": [
            "Grade: C\n"
          ]
        }
      ]
    },
    {
      "cell_type": "markdown",
      "source": [
        "5. Create a program that checks if a year is a leap year or not.\n"
      ],
      "metadata": {
        "id": "tK1_6J1GwimI"
      }
    },
    {
      "cell_type": "code",
      "source": [
        "def is_leap_year(year):\n",
        "    # Check if the year is divisible by 4 and not divisible by 100\n",
        "    # or it is divisible by 400\n",
        "    if (year % 4 == 0 and year % 100 != 0) or (year % 400 == 0):\n",
        "        return True\n",
        "    else:\n",
        "        return False\n",
        "\n",
        "year = int(input(\"Enter a year: \"))\n",
        "\n",
        "if is_leap_year(year):\n",
        "    print(f\"{year} is a leap year.\")\n",
        "else:\n",
        "    print(f\"{year} is not a leap year.\")"
      ],
      "metadata": {
        "colab": {
          "base_uri": "https://localhost:8080/"
        },
        "id": "-sVbZVRAx2F7",
        "outputId": "042ad755-6b0b-4121-f05c-e8ed54d10154"
      },
      "execution_count": 50,
      "outputs": [
        {
          "output_type": "stream",
          "name": "stdout",
          "text": [
            "Enter a year: 2023\n",
            "2023 is not a leap year.\n"
          ]
        }
      ]
    },
    {
      "cell_type": "markdown",
      "source": [
        "6. Write a program to classify a triangle based on its sides' lengths.\n"
      ],
      "metadata": {
        "id": "3nfzNupcwj8S"
      }
    },
    {
      "cell_type": "code",
      "source": [
        "angle1 = float(input(\"Enter the measure of the first angle: \"))\n",
        "angle2 = float(input(\"Enter the measure of the second angle: \"))\n",
        "angle3 = float(input(\"Enter the measure of the third angle: \"))\n",
        "\n",
        "# Check if the angles form a valid triangle (sum of angles equals 180 degrees)\n",
        "if angle1 + angle2 + angle3 == 180:\n",
        "    # Check the type of triangle based on angle measures\n",
        "    if angle1 < 90 and angle2 < 90 and angle3 < 90:\n",
        "        print(\"It's an Acute Triangle.\")\n",
        "    elif angle1 == 90 or angle2 == 90 or angle3 == 90:\n",
        "        print(\"It's a Right Triangle.\")\n",
        "    else:\n",
        "        print(\"It's an Obtuse Triangle.\")\n",
        "else:\n",
        "    print(\"These angles do not form a valid triangle.\")"
      ],
      "metadata": {
        "colab": {
          "base_uri": "https://localhost:8080/"
        },
        "id": "ZLLU_xozyAFI",
        "outputId": "6167ac4f-151e-4e00-e2bd-da5b7a6627f9"
      },
      "execution_count": 53,
      "outputs": [
        {
          "output_type": "stream",
          "name": "stdout",
          "text": [
            "Enter the measure of the first angle: 60\n",
            "Enter the measure of the second angle: 60\n",
            "Enter the measure of the third angle: 60\n",
            "It's an Acute Triangle.\n"
          ]
        }
      ]
    },
    {
      "cell_type": "markdown",
      "source": [
        "7. Build a program that determines the largest of three given numbers.\n"
      ],
      "metadata": {
        "id": "EZ0rv6HnwlpP"
      }
    },
    {
      "cell_type": "code",
      "source": [
        "a = 5\n",
        "b = 4\n",
        "c = 7\n",
        "\n",
        "largest = 0\n",
        "\n",
        "if a > b and a > c:\n",
        "    largest = a\n",
        "if b > a and b > c:\n",
        "    largest = b\n",
        "if c > a and c > b:\n",
        "    largest = c\n",
        "\n",
        "print(largest, \"is the largest of three numbers.\")"
      ],
      "metadata": {
        "colab": {
          "base_uri": "https://localhost:8080/"
        },
        "id": "aleYnkTIzYBe",
        "outputId": "81707fae-1e24-40a1-8b8d-a915ea8b4660"
      },
      "execution_count": 54,
      "outputs": [
        {
          "output_type": "stream",
          "name": "stdout",
          "text": [
            "7 is the largest of three numbers.\n"
          ]
        }
      ]
    },
    {
      "cell_type": "markdown",
      "source": [
        "8. Develop a program that checks whether a character is a vowel or a consonant.\n"
      ],
      "metadata": {
        "id": "sVMYVPU5wmxV"
      }
    },
    {
      "cell_type": "code",
      "source": [
        "vowels = ['a','e','i','o','u']\n",
        "input_char = str(input(\"enter character: \"))\n",
        "if input_char.lower() in vowels:\n",
        "  print(\"entered character is vowel\")\n",
        "else:\n",
        "  print(\"entered character is consonent\")"
      ],
      "metadata": {
        "colab": {
          "base_uri": "https://localhost:8080/"
        },
        "id": "B1nOUCFGzp4Q",
        "outputId": "ec12178a-8f1b-42b5-e64f-767d392632f0"
      },
      "execution_count": 55,
      "outputs": [
        {
          "output_type": "stream",
          "name": "stdout",
          "text": [
            "enter character: i\n",
            "entered character is vowel\n"
          ]
        }
      ]
    },
    {
      "cell_type": "markdown",
      "source": [
        "9. Create a program to calculate the total cost of a shopping cart based on discounts.\n"
      ],
      "metadata": {
        "id": "8-igM4A4wn3f"
      }
    },
    {
      "cell_type": "code",
      "source": [
        "def discount_calculate(item_price):\n",
        "  if item_price<0:\n",
        "    print(\"wrong price entered\")\n",
        "  elif item_price<500:\n",
        "    discount = 0\n",
        "  elif item_price<1000:\n",
        "    discount = 0.10\n",
        "  elif item_price<2000:\n",
        "    discount = 0.15\n",
        "  else:\n",
        "    discount = 0.20\n",
        "  # Calculate the discounted price\n",
        "  discounted_price = item_price - (item_price * discount)\n",
        "\n",
        "  if discount == 0:\n",
        "      print(f\"No discount applied. Total price: Rs{item_price:.2f}\")\n",
        "  else:\n",
        "      print(f\"Discounted price: Rs{discounted_price:.2f} (You saved Rs{item_price - discounted_price:.2f})\")"
      ],
      "metadata": {
        "id": "ujqX5K9Q0SBe"
      },
      "execution_count": 56,
      "outputs": []
    },
    {
      "cell_type": "code",
      "source": [
        "item_price = float(input(\"Enter item_price: \"))\n",
        "discount_calculate(item_price)"
      ],
      "metadata": {
        "colab": {
          "base_uri": "https://localhost:8080/"
        },
        "outputId": "72d94329-5356-4776-d777-1333836b9357",
        "id": "oSFGu3AR0SBh"
      },
      "execution_count": 57,
      "outputs": [
        {
          "output_type": "stream",
          "name": "stdout",
          "text": [
            "Enter item_price: 900\n",
            "Discounted price: Rs810.00 (You saved Rs90.00)\n"
          ]
        }
      ]
    },
    {
      "cell_type": "code",
      "source": [],
      "metadata": {
        "id": "S9cn5nqF0QnB"
      },
      "execution_count": null,
      "outputs": []
    },
    {
      "cell_type": "code",
      "source": [],
      "metadata": {
        "id": "rfY2tReY0FHb"
      },
      "execution_count": null,
      "outputs": []
    },
    {
      "cell_type": "markdown",
      "source": [
        "10. Write a program that checks if a given number is even or odd."
      ],
      "metadata": {
        "id": "Umskb6XMwpNS"
      }
    },
    {
      "cell_type": "code",
      "source": [
        "number=int(input(\"Enter number: \"))\n",
        "if number%2==0:\n",
        "  print(f\"{number} is even\")\n",
        "else:\n",
        "  print(f\"{number} is odd\")"
      ],
      "metadata": {
        "colab": {
          "base_uri": "https://localhost:8080/"
        },
        "id": "ulWe0jU20Wz7",
        "outputId": "63960c9e-1783-40d0-b81c-1ca1d6ebaed1"
      },
      "execution_count": 58,
      "outputs": [
        {
          "output_type": "stream",
          "name": "stdout",
          "text": [
            "Enter number: 78\n",
            "78 is even\n"
          ]
        }
      ]
    },
    {
      "cell_type": "markdown",
      "source": [
        "## Intermediate Level:\n",
        "\n",
        "\n"
      ],
      "metadata": {
        "id": "ZwmfjjSo38K3"
      }
    },
    {
      "cell_type": "markdown",
      "source": [
        "11. Write a program that calculates the roots of a quadratic equation .\n"
      ],
      "metadata": {
        "id": "O71VNGJw00Vg"
      }
    },
    {
      "cell_type": "code",
      "source": [
        "import math\n",
        "\n",
        "def quad_roots(a,b,c):\n",
        "  val = (b**2)- (4*a*c)\n",
        "  if val > 0:\n",
        "    # Two distinct real roots\n",
        "    pos_root = ((-1*b) + math.sqrt(val))/(2*a)\n",
        "    neg_root = ((-1*b) - math.sqrt(val))/(2*a)\n",
        "    print(f\"The roots are real and distinct: {pos_root} and {neg_root}\")\n",
        "  elif ValueError == 0:\n",
        "    # One real root (a repeated root)\n",
        "    root = -b / (2*a)\n",
        "    print(f\"The root is real and repeated: {root}\")\n",
        "  else:\n",
        "    # Complex roots\n",
        "    real_part = -b / (2*a)\n",
        "    imaginary_part = math.sqrt(abs(val)) / (2*a)\n",
        "    print(f\"The roots are complex: {real_part} + {imaginary_part}i and {real_part} - {imaginary_part}i\")\n",
        "\n"
      ],
      "metadata": {
        "id": "euUjezeR1kNR"
      },
      "execution_count": 59,
      "outputs": []
    },
    {
      "cell_type": "code",
      "source": [
        "\n",
        "a = float(input(\"Enter the coefficient 'a': \"))\n",
        "b = float(input(\"Enter the coefficient 'b': \"))\n",
        "c = float(input(\"Enter the coefficient 'c': \"))\n",
        "\n",
        "quad_roots(a,b,c)"
      ],
      "metadata": {
        "colab": {
          "base_uri": "https://localhost:8080/"
        },
        "outputId": "020bba5c-58dc-4aab-de75-560d9478766b",
        "id": "WFJ4rNde1kNa"
      },
      "execution_count": null,
      "outputs": [
        {
          "output_type": "stream",
          "name": "stdout",
          "text": [
            "Enter the coefficient 'a': 1\n",
            "Enter the coefficient 'b': 2\n",
            "Enter the coefficient 'c': 4\n",
            "The roots are complex: -1.0 + 1.7320508075688772i and -1.0 - 1.7320508075688772i\n"
          ]
        }
      ]
    },
    {
      "cell_type": "code",
      "source": [
        "\n",
        "a = float(input(\"Enter the coefficient 'a': \"))\n",
        "b = float(input(\"Enter the coefficient 'b': \"))\n",
        "c = float(input(\"Enter the coefficient 'c': \"))\n",
        "\n",
        "quad_roots(a,b,c)"
      ],
      "metadata": {
        "colab": {
          "base_uri": "https://localhost:8080/"
        },
        "outputId": "41424cf3-fdf2-4505-d729-ae67a031956b",
        "id": "PRT_epyG1kNf"
      },
      "execution_count": null,
      "outputs": [
        {
          "output_type": "stream",
          "name": "stdout",
          "text": [
            "Enter the coefficient 'a': 1\n",
            "Enter the coefficient 'b': 3\n",
            "Enter the coefficient 'c': -2\n",
            "The roots are real and distinct: 0.5615528128088303 and -3.5615528128088303\n"
          ]
        }
      ]
    },
    {
      "cell_type": "code",
      "source": [
        "\n",
        "a = float(input(\"Enter the coefficient 'a': \"))\n",
        "b = float(input(\"Enter the coefficient 'b': \"))\n",
        "c = float(input(\"Enter the coefficient 'c': \"))\n",
        "\n",
        "quad_roots(a,b,c)"
      ],
      "metadata": {
        "colab": {
          "base_uri": "https://localhost:8080/"
        },
        "outputId": "40391c6f-8acf-4cc1-83af-38b97fbb0307",
        "id": "77DTJlnn1kNj"
      },
      "execution_count": null,
      "outputs": [
        {
          "output_type": "stream",
          "name": "stdout",
          "text": [
            "Enter the coefficient 'a': 3\n",
            "Enter the coefficient 'b': 1\n",
            "Enter the coefficient 'c': 5\n",
            "The roots are complex: -0.16666666666666666 + 1.2801909579781012i and -0.16666666666666666 - 1.2801909579781012i\n"
          ]
        }
      ]
    },
    {
      "cell_type": "code",
      "source": [],
      "metadata": {
        "id": "I-edz5RI1GPU"
      },
      "execution_count": null,
      "outputs": []
    },
    {
      "cell_type": "markdown",
      "source": [
        "12. Create a program that determines the day of the week based on the day number (1-7).\n"
      ],
      "metadata": {
        "id": "cp9_tzk203kH"
      }
    },
    {
      "cell_type": "code",
      "source": [
        "weekdays = [\"Monday\", \"Tuesday\", \"Wednesday\", \"Thursday\", \"Friday\", \"Saturday\", \"Sunday\"]\n",
        "number = int(input(\"Enter a number: \"))\n",
        "\n",
        "if number>=1 and number<=7:\n",
        "  day = weekdays[number-1]\n",
        "  print(f\"{number} day of week is {day}\")\n",
        "else:\n",
        "  print(\"entered number is incorrect\")"
      ],
      "metadata": {
        "colab": {
          "base_uri": "https://localhost:8080/"
        },
        "id": "-99jzK2z1nDW",
        "outputId": "1ad7196b-fa0b-4785-e3b6-17dab1609e93"
      },
      "execution_count": 60,
      "outputs": [
        {
          "output_type": "stream",
          "name": "stdout",
          "text": [
            "Enter a number: 6\n",
            "6 day of week is Saturday\n"
          ]
        }
      ]
    },
    {
      "cell_type": "markdown",
      "source": [
        "13. Develop a program that calculates the factorial of a given number using recursion.\n"
      ],
      "metadata": {
        "id": "lHCtEPlL05AC"
      }
    },
    {
      "cell_type": "code",
      "source": [
        "def factorial(n):\n",
        "    if n == 0:\n",
        "        return 1\n",
        "    else:\n",
        "        return n * factorial(n - 1)\n",
        "\n",
        "# Input a number from the user\n",
        "try:\n",
        "    num = int(input(\"Enter a non-negative integer: \"))\n",
        "    if num < 0:\n",
        "        print(\"Factorial is not defined for negative numbers.\")\n",
        "    else:\n",
        "        result = factorial(num)\n",
        "        print(f\"The factorial of {num} is {result}\")\n",
        "except ValueError:\n",
        "    print(\"Invalid input. Please enter a non-negative integer.\")"
      ],
      "metadata": {
        "colab": {
          "base_uri": "https://localhost:8080/"
        },
        "id": "PJchKLwt1yC_",
        "outputId": "97b64cea-e578-4690-b6c9-f170aada6c75"
      },
      "execution_count": 61,
      "outputs": [
        {
          "output_type": "stream",
          "name": "stdout",
          "text": [
            "Enter a non-negative integer: 7\n",
            "The factorial of 7 is 5040\n"
          ]
        }
      ]
    },
    {
      "cell_type": "markdown",
      "source": [
        "14. Write a program to find the largest among three numbers without using the `max()` function.\n"
      ],
      "metadata": {
        "id": "BEO8siF-06t1"
      }
    },
    {
      "cell_type": "code",
      "source": [
        "\n",
        "def find_max(a,b,c):\n",
        "  largest = 0\n",
        "\n",
        "  if a > b and a > c:\n",
        "      largest = a\n",
        "  if b > a and b > c:\n",
        "      largest = b\n",
        "  if c > a and c > b:\n",
        "      largest = c\n",
        "\n",
        "  print(largest, \"is the largest of three numbers.\")"
      ],
      "metadata": {
        "id": "6RNXvMZY2CQE"
      },
      "execution_count": 62,
      "outputs": []
    },
    {
      "cell_type": "code",
      "source": [
        "find_max(3,5,6)"
      ],
      "metadata": {
        "colab": {
          "base_uri": "https://localhost:8080/"
        },
        "id": "GNnlrRjY2X5H",
        "outputId": "52eb9eb9-c4ff-4e77-968e-c69517148dca"
      },
      "execution_count": 63,
      "outputs": [
        {
          "output_type": "stream",
          "name": "stdout",
          "text": [
            "6 is the largest of three numbers.\n"
          ]
        }
      ]
    },
    {
      "cell_type": "code",
      "source": [
        "find_max(3,45,6)"
      ],
      "metadata": {
        "colab": {
          "base_uri": "https://localhost:8080/"
        },
        "id": "82jEA2PC2dYn",
        "outputId": "4adfa798-f8d8-4e27-f63e-5f256365734e"
      },
      "execution_count": 64,
      "outputs": [
        {
          "output_type": "stream",
          "name": "stdout",
          "text": [
            "45 is the largest of three numbers.\n"
          ]
        }
      ]
    },
    {
      "cell_type": "markdown",
      "source": [
        "15. Create a program that simulates a basic ATM transaction menu.\n"
      ],
      "metadata": {
        "id": "LNCPd6nq08Hj"
      }
    },
    {
      "cell_type": "code",
      "source": [
        "account_balance = 1000.0\n",
        "\n",
        "# Function to display the account balance\n",
        "def display_balance():\n",
        "    print(f\"Your account balance is ${account_balance:.2f}\")\n",
        "\n",
        "# Function to deposit money\n",
        "def deposit():\n",
        "    global account_balance\n",
        "    amount = float(input(\"Enter the amount to deposit: \"))\n",
        "    if amount > 0:\n",
        "        account_balance += amount\n",
        "        print(f\"${amount:.2f} has been deposited into your account.\")\n",
        "    else:\n",
        "        print(\"Invalid amount. Please enter a positive number.\")\n",
        "\n",
        "# Function to withdraw money\n",
        "def withdraw():\n",
        "    global account_balance\n",
        "    amount = float(input(\"Enter the amount to withdraw: \"))\n",
        "    if amount > 0 and amount <= account_balance:\n",
        "        account_balance -= amount\n",
        "        print(f\"You have withdrawn ${amount:.2f}.\")\n",
        "    elif amount > account_balance:\n",
        "        print(\"Insufficient funds.\")\n",
        "    else:\n",
        "        print(\"Invalid amount. Please enter a positive number.\")\n",
        "\n",
        "# Main ATM menu\n",
        "while True:\n",
        "    print(\"\\nATM Menu:\")\n",
        "    print(\"1. Display Balance\")\n",
        "    print(\"2. Deposit Money\")\n",
        "    print(\"3. Withdraw Money\")\n",
        "    print(\"4. Exit\")\n",
        "\n",
        "    choice = input(\"Enter your choice (1/2/3/4): \")\n",
        "\n",
        "    if choice == '1':\n",
        "        display_balance()\n",
        "    elif choice == '2':\n",
        "        deposit()\n",
        "    elif choice == '3':\n",
        "        withdraw()\n",
        "    elif choice == '4':\n",
        "        print(\"Thank you for using our ATM. Goodbye!\")\n",
        "        break\n",
        "    else:\n",
        "        print(\"Invalid choice. Please select a valid option (1/2/3/4).\")"
      ],
      "metadata": {
        "colab": {
          "base_uri": "https://localhost:8080/"
        },
        "id": "_z2UEMDc2jUt",
        "outputId": "e26859e4-4f92-4401-82af-6abf2bfe5f70"
      },
      "execution_count": 65,
      "outputs": [
        {
          "output_type": "stream",
          "name": "stdout",
          "text": [
            "\n",
            "ATM Menu:\n",
            "1. Display Balance\n",
            "2. Deposit Money\n",
            "3. Withdraw Money\n",
            "4. Exit\n",
            "Enter your choice (1/2/3/4): 1\n",
            "Your account balance is $1000.00\n",
            "\n",
            "ATM Menu:\n",
            "1. Display Balance\n",
            "2. Deposit Money\n",
            "3. Withdraw Money\n",
            "4. Exit\n",
            "Enter your choice (1/2/3/4): 2\n",
            "Enter the amount to deposit: 9000\n",
            "$9000.00 has been deposited into your account.\n",
            "\n",
            "ATM Menu:\n",
            "1. Display Balance\n",
            "2. Deposit Money\n",
            "3. Withdraw Money\n",
            "4. Exit\n",
            "Enter your choice (1/2/3/4): 3\n",
            "Enter the amount to withdraw: 700\n",
            "You have withdrawn $700.00.\n",
            "\n",
            "ATM Menu:\n",
            "1. Display Balance\n",
            "2. Deposit Money\n",
            "3. Withdraw Money\n",
            "4. Exit\n",
            "Enter your choice (1/2/3/4): 1\n",
            "Your account balance is $9300.00\n",
            "\n",
            "ATM Menu:\n",
            "1. Display Balance\n",
            "2. Deposit Money\n",
            "3. Withdraw Money\n",
            "4. Exit\n",
            "Enter your choice (1/2/3/4): 4\n",
            "Thank you for using our ATM. Goodbye!\n"
          ]
        }
      ]
    },
    {
      "cell_type": "markdown",
      "source": [
        "16. Build a program that checks if a given string is a palindrome or not.\n"
      ],
      "metadata": {
        "id": "7QGNWBF409Nz"
      }
    },
    {
      "cell_type": "code",
      "source": [
        "input_string = \"madam\"\n",
        "\n",
        "if input_string == input_string[::-1]:\n",
        "  print(\"string is palindrome\")\n",
        "else:\n",
        "  print(\"string is not palindrome\")"
      ],
      "metadata": {
        "colab": {
          "base_uri": "https://localhost:8080/"
        },
        "id": "dzk3dLlo3I5m",
        "outputId": "057777ac-8e25-4765-cd7c-3013bd5fb4ad"
      },
      "execution_count": 66,
      "outputs": [
        {
          "output_type": "stream",
          "name": "stdout",
          "text": [
            "string is palindrome\n"
          ]
        }
      ]
    },
    {
      "cell_type": "markdown",
      "source": [
        "17. Write a program that calculates the average of a list of numbers, excluding the smallest and largest values.\n"
      ],
      "metadata": {
        "id": "-Y2AeA4I0_pl"
      }
    },
    {
      "cell_type": "code",
      "source": [
        "lst = [34,53,5,6,7,3,65,34,4,3]\n",
        "\n",
        "sorted_list = sorted(lst)\n",
        "\n",
        "unique_list = []\n",
        "\n",
        "\n",
        "for item in sorted_list:\n",
        "    if item not in unique_list:\n",
        "        unique_list.append(item)\n",
        "\n",
        "unique_list = unique_list[1:-1]\n",
        "avg = sum(unique_list)/len(unique_list)\n",
        "print(f\"Average without minimum and maximum value is {avg}\")"
      ],
      "metadata": {
        "colab": {
          "base_uri": "https://localhost:8080/"
        },
        "id": "8p5xlfeX3acu",
        "outputId": "8ac7c8f5-c968-4aa7-9ef2-e16cfa4a69d5"
      },
      "execution_count": 76,
      "outputs": [
        {
          "output_type": "stream",
          "name": "stdout",
          "text": [
            "Average without minimum and maximum value is 18.166666666666668\n"
          ]
        }
      ]
    },
    {
      "cell_type": "markdown",
      "source": [
        "18. Develop a program that converts a given temperature from Celsius to Fahrenheit.\n"
      ],
      "metadata": {
        "id": "NmleStTn1BZt"
      }
    },
    {
      "cell_type": "code",
      "source": [
        "celsius = float(input(\"Enter temperature in Celsius: \"))\n",
        "\n",
        "# Convert Celsius to Fahrenheit using the formula (Celsius to Fahrenheit conversion)\n",
        "fahrenheit = (celsius * 9/5) + 32\n",
        "\n",
        "# Display the converted temperature in Fahrenheit\n",
        "print(f\"{celsius} degrees Celsius is equal to {fahrenheit} degrees Fahrenheit.\")"
      ],
      "metadata": {
        "colab": {
          "base_uri": "https://localhost:8080/"
        },
        "id": "_7RQcklH5afT",
        "outputId": "ccc9f47c-8b7f-4ac6-f9b6-b32e4ffab4c8"
      },
      "execution_count": 77,
      "outputs": [
        {
          "output_type": "stream",
          "name": "stdout",
          "text": [
            "Enter temperature in Celsius: 43\n",
            "43.0 degrees Celsius is equal to 109.4 degrees Fahrenheit.\n"
          ]
        }
      ]
    },
    {
      "cell_type": "markdown",
      "source": [
        "19. Create a program that simulates a basic calculator for addition, subtraction, multiplication, and division.\n"
      ],
      "metadata": {
        "id": "inJdh3081Cse"
      }
    },
    {
      "cell_type": "code",
      "source": [
        "def add(x, y):\n",
        "    return x + y\n",
        "\n",
        "def subtract(x, y):\n",
        "    return x - y\n",
        "\n",
        "def multiply(x, y):\n",
        "    return x * y\n",
        "\n",
        "def divide(x, y):\n",
        "    if y != 0:\n",
        "        return x / y\n",
        "    else:\n",
        "        return \"Division by zero is not allowed.\"\n",
        "\n",
        "# Main calculator program\n",
        "while True:\n",
        "    print(\"\\nCalculator Menu:\")\n",
        "    print(\"1. Addition\")\n",
        "    print(\"2. Subtraction\")\n",
        "    print(\"3. Multiplication\")\n",
        "    print(\"4. Division\")\n",
        "    print(\"5. Quit\")\n",
        "\n",
        "    choice = input(\"Enter your choice (1/2/3/4/5): \")\n",
        "\n",
        "    if choice == '5':\n",
        "        print(\"Goodbye!\")\n",
        "        break\n",
        "\n",
        "    if choice in ('1', '2', '3', '4'):\n",
        "        num1 = float(input(\"Enter first number: \"))\n",
        "        num2 = float(input(\"Enter second number: \"))\n",
        "\n",
        "        if choice == '1':\n",
        "            print(\"Result:\", add(num1, num2))\n",
        "        elif choice == '2':\n",
        "            print(\"Result:\", subtract(num1, num2))\n",
        "        elif choice == '3':\n",
        "            print(\"Result:\", multiply(num1, num2))\n",
        "        elif choice == '4':\n",
        "            print(\"Result:\", divide(num1, num2))\n",
        "    else:\n",
        "        print(\"Invalid choice. Please select a valid option (1/2/3/4/5).\")"
      ],
      "metadata": {
        "colab": {
          "base_uri": "https://localhost:8080/"
        },
        "id": "LV5FB1BO5kWU",
        "outputId": "1dbed279-f79e-40df-b277-051dfbd0ac06"
      },
      "execution_count": 78,
      "outputs": [
        {
          "output_type": "stream",
          "name": "stdout",
          "text": [
            "\n",
            "Calculator Menu:\n",
            "1. Addition\n",
            "2. Subtraction\n",
            "3. Multiplication\n",
            "4. Division\n",
            "5. Quit\n",
            "Enter your choice (1/2/3/4/5): 1\n",
            "Enter first number: 4\n",
            "Enter second number: 5\n",
            "Result: 9.0\n",
            "\n",
            "Calculator Menu:\n",
            "1. Addition\n",
            "2. Subtraction\n",
            "3. Multiplication\n",
            "4. Division\n",
            "5. Quit\n",
            "Enter your choice (1/2/3/4/5): 2\n",
            "Enter first number: 5\n",
            "Enter second number: 3\n",
            "Result: 2.0\n",
            "\n",
            "Calculator Menu:\n",
            "1. Addition\n",
            "2. Subtraction\n",
            "3. Multiplication\n",
            "4. Division\n",
            "5. Quit\n",
            "Enter your choice (1/2/3/4/5): 3\n",
            "Enter first number: 5\n",
            "Enter second number: 52\n",
            "Result: 260.0\n",
            "\n",
            "Calculator Menu:\n",
            "1. Addition\n",
            "2. Subtraction\n",
            "3. Multiplication\n",
            "4. Division\n",
            "5. Quit\n",
            "Enter your choice (1/2/3/4/5): 4\n",
            "Enter first number: 23\n",
            "Enter second number: 4\n",
            "Result: 5.75\n",
            "\n",
            "Calculator Menu:\n",
            "1. Addition\n",
            "2. Subtraction\n",
            "3. Multiplication\n",
            "4. Division\n",
            "5. Quit\n",
            "Enter your choice (1/2/3/4/5): 5\n",
            "Goodbye!\n"
          ]
        }
      ]
    },
    {
      "cell_type": "markdown",
      "source": [
        "20. Write a program that determines the roots of a cubic equation using the Cardano formula."
      ],
      "metadata": {
        "id": "y3x_nf-B1EZ7"
      }
    },
    {
      "cell_type": "code",
      "source": [
        "import math\n",
        "\n",
        "def cube_roots(a,b,c,d):\n",
        "  # Calculate some intermediate values\n",
        "    p = (3*a*c - b**2) / (3*a**2)\n",
        "    q = (2*b**3 - 9*a*b*c + 27*a**2*d) / (27*a**3)\n",
        "    discriminant = q**2/4 + p**3/27\n",
        "\n",
        "    # Check the discriminant to determine the number and type of roots\n",
        "    if discriminant > 0:\n",
        "        # One real root, two complex roots\n",
        "        root = (-q/2 + discriminant**0.5)**(1/3) + (-q/2 - discriminant**0.5)**(1/3) - b/(3*a)\n",
        "        print(f\"The root is real: {root:.4f}\")\n",
        "    elif discriminant == 0:\n",
        "        # Three real roots (at least two are equal)\n",
        "        if q >= 0:\n",
        "            root1 = (-2*q)**(1/3) - b/(3*a)\n",
        "            root2 = root3 = -root1/2 - b/(3*a)\n",
        "        else:\n",
        "            root1 = (-2*q)**(1/3) - b/(3*a)\n",
        "            root2 = (q**2 - 4*p**3)**0.5 / (3*a) - b/(3*a)\n",
        "            root3 = -(q**2 - 4*p**3)**0.5 / (3*a) - b/(3*a)\n",
        "        print(f\"The roots are real and at least two are equal: {root1:.4f}, {root2:.4f}, {root3:.4f}\")\n",
        "    else:\n",
        "        # Three real roots\n",
        "        phi = math.acos(-q/2 * (discriminant**(-3/2)))\n",
        "        root1 = 2 * (-q/2)**(1/3) * math.cos(phi/3) - b/(3*a)\n",
        "        root2 = 2 * (-q/2)**(1/3) * math.cos((phi + 2*math.pi)/3) - b/(3*a)\n",
        "        root3 = 2 * (-q/2)**(1/3) * math.cos((phi - 2*math.pi)/3) - b/(3*a)\n",
        "        print(f\"The roots are real and distinct: {root1:.4f}, {root2:.4f}, {root3:.4f}\")"
      ],
      "metadata": {
        "id": "MRZluqZr0200"
      },
      "execution_count": 80,
      "outputs": []
    },
    {
      "cell_type": "code",
      "source": [
        "    a = float(input(\"Enter the coefficient 'a': \"))\n",
        "    b = float(input(\"Enter the coefficient 'b': \"))\n",
        "    c = float(input(\"Enter the coefficient 'c': \"))\n",
        "    d = float(input(\"Enter the coefficient 'd': \"))\n",
        "    cube_roots(a,b,c,d)"
      ],
      "metadata": {
        "colab": {
          "base_uri": "https://localhost:8080/"
        },
        "id": "bcUb3mlN6VbS",
        "outputId": "01c5628f-42e1-4cf9-ff92-ad6ce1d6ec9e"
      },
      "execution_count": 81,
      "outputs": [
        {
          "output_type": "stream",
          "name": "stdout",
          "text": [
            "Enter the coefficient 'a': 2\n",
            "Enter the coefficient 'b': 2\n",
            "Enter the coefficient 'c': 4\n",
            "Enter the coefficient 'd': 1\n",
            "The root is real: 0.7993+0.6219j\n"
          ]
        }
      ]
    },
    {
      "cell_type": "markdown",
      "source": [
        "Advanced Level:\n",
        "21. Create a program that calculates the income tax based on the user's income and tax brackets.\n",
        "22. Write a program that simulates a rock-paper-scissors game against the computer.\n",
        "23. Develop a program that generates a random password based on user preferences (length, complexity).\n",
        "24. Create a program that implements a simple text-based adventure game with branching scenarios.\n",
        "25. Build a program that solves a linear equation for x, considering different cases.\n",
        "26. Write a program that simulates a basic quiz game with multiple-choice questions and scoring.\n",
        "27. Develop a program that determines whether a given year is a prime number or not.\n",
        "28. Create a program that sorts three numbers in ascending order using conditional statements.\n",
        "29. Build a program that determines the roots of a quartic equation using numerical methods.\n",
        "30. Write a program that calculates the BMI (Body Mass Index) and provides health recommendations based\n",
        "on the user's input.\n",
        "\n"
      ],
      "metadata": {
        "id": "4Oq5G_W13-Xk"
      }
    },
    {
      "cell_type": "markdown",
      "source": [
        "Challenge Level:\n",
        "31. Create a program that validates a password based on complexity rules (length, characters, etc.).\n",
        "32. Develop a program that performs matrix addition and subtraction based on user input.\n",
        "33. Write a program that calculates the greatest common divisor (GCD) of two numbers using the Euclidean\n",
        "algorithm.\n",
        "34. Build a program that performs matrix multiplication using nested loops and conditional statements.\n",
        "35. Create a program that simulates a basic text-based tic-tac-toe game against the computer.\n",
        "36. Write a program that generates Fibonacci numbers up to a specified term using iterative methods.\n",
        "37. Develop a program that calculates the nth term of the Fibonacci sequence using memoization.\n",
        "38. Create a program that generates a calendar for a given month and year using conditional statements.\n",
        "39. Build a program that simulates a basic text-based blackjack game against the computer.\n",
        "40. Write a program that generates the prime factors of a given number using trial division."
      ],
      "metadata": {
        "id": "AJoR0c9F4Acc"
      }
    }
  ]
}