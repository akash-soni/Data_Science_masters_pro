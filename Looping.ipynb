{
  "nbformat": 4,
  "nbformat_minor": 0,
  "metadata": {
    "colab": {
      "provenance": [],
      "authorship_tag": "ABX9TyN0RnHjW/u9v40m6DfMKfe3",
      "include_colab_link": true
    },
    "kernelspec": {
      "name": "python3",
      "display_name": "Python 3"
    },
    "language_info": {
      "name": "python"
    }
  },
  "cells": [
    {
      "cell_type": "markdown",
      "metadata": {
        "id": "view-in-github",
        "colab_type": "text"
      },
      "source": [
        "<a href=\"https://colab.research.google.com/github/akash-soni/Data_Science_masters_pro/blob/python/Looping.ipynb\" target=\"_parent\"><img src=\"https://colab.research.google.com/assets/colab-badge.svg\" alt=\"Open In Colab\"/></a>"
      ]
    },
    {
      "cell_type": "markdown",
      "source": [
        "## Basic Level:\n"
      ],
      "metadata": {
        "id": "YV_okFCSfZO_"
      }
    },
    {
      "cell_type": "markdown",
      "source": [
        "1. Write a Python program to print the numbers from 1 to 10 using a `for` loop.\n"
      ],
      "metadata": {
        "id": "16N9lXAjfZR_"
      }
    },
    {
      "cell_type": "code",
      "source": [
        "for i in range(1,11):\n",
        "  print(i)"
      ],
      "metadata": {
        "colab": {
          "base_uri": "https://localhost:8080/"
        },
        "id": "NlI49lXb1kLn",
        "outputId": "144a5b72-555c-4446-ce46-828b79c42821"
      },
      "execution_count": null,
      "outputs": [
        {
          "output_type": "stream",
          "name": "stdout",
          "text": [
            "1\n",
            "2\n",
            "3\n",
            "4\n",
            "5\n",
            "6\n",
            "7\n",
            "8\n",
            "9\n",
            "10\n"
          ]
        }
      ]
    },
    {
      "cell_type": "markdown",
      "source": [
        "2. Create a program that calculates the sum of all numbers in a list using a `for` loop.\n"
      ],
      "metadata": {
        "id": "u6bxtPwifZUx"
      }
    },
    {
      "cell_type": "code",
      "source": [
        "lst = [10,30,53]\n",
        "sum = 0\n",
        "for i in range(len(lst)):\n",
        "  sum += lst[i]\n",
        "\n",
        "print(\"sum of list is \", sum)"
      ],
      "metadata": {
        "colab": {
          "base_uri": "https://localhost:8080/"
        },
        "id": "uceJWK9N1rOw",
        "outputId": "e0aeb5b1-c96b-46a0-fafb-af3b5faed1df"
      },
      "execution_count": null,
      "outputs": [
        {
          "output_type": "stream",
          "name": "stdout",
          "text": [
            "sum of list is  93\n"
          ]
        }
      ]
    },
    {
      "cell_type": "markdown",
      "source": [
        "3. Write a program to print the characters of a string in reverse order using a `for` loop.\n"
      ],
      "metadata": {
        "id": "AQlriLalfZXP"
      }
    },
    {
      "cell_type": "code",
      "source": [
        "input_string = \"Hello\"\n",
        "print(\"order reversed\")\n",
        "for i in input_string[::-1]:\n",
        "  print(i)"
      ],
      "metadata": {
        "colab": {
          "base_uri": "https://localhost:8080/"
        },
        "id": "bCd4TuNX2CEf",
        "outputId": "ed95216e-d2b8-4ab5-c0d9-1c4b903d75ba"
      },
      "execution_count": null,
      "outputs": [
        {
          "output_type": "stream",
          "name": "stdout",
          "text": [
            "order reversed\n",
            "o\n",
            "l\n",
            "l\n",
            "e\n",
            "H\n"
          ]
        }
      ]
    },
    {
      "cell_type": "markdown",
      "source": [
        "4. Develop a program that finds the factorial of a given number using a `for` loop.\n"
      ],
      "metadata": {
        "id": "gprOcpxUfZZa"
      }
    },
    {
      "cell_type": "code",
      "source": [
        "number = 5\n",
        "fact = 1\n",
        "for i in range(1,number+1):\n",
        "  fact *= i\n",
        "\n",
        "print(\"factorial of given number is \",fact)"
      ],
      "metadata": {
        "colab": {
          "base_uri": "https://localhost:8080/"
        },
        "id": "XsFizl4D3STc",
        "outputId": "88ba6904-a3a6-476c-a65b-137acfcf1c25"
      },
      "execution_count": null,
      "outputs": [
        {
          "output_type": "stream",
          "name": "stdout",
          "text": [
            "factorial of given number is  120\n"
          ]
        }
      ]
    },
    {
      "cell_type": "markdown",
      "source": [
        "5. Create a program to print the multiplication table of a given number using a `for` loop.\n"
      ],
      "metadata": {
        "id": "Ezk-JNw6fZbw"
      }
    },
    {
      "cell_type": "code",
      "source": [
        "input = eval(input(\"enter a number \"))\n",
        "product = 0\n",
        "for i in range(1, 10+1):\n",
        "  product = input * i\n",
        "  print(f\"{input} x {i} = {product}\")\n",
        "\n"
      ],
      "metadata": {
        "colab": {
          "base_uri": "https://localhost:8080/"
        },
        "id": "lUeMq7544CWE",
        "outputId": "9e937d80-d046-4b8a-a078-77750f9a2ef3"
      },
      "execution_count": null,
      "outputs": [
        {
          "output_type": "stream",
          "name": "stdout",
          "text": [
            "enter a number 6\n",
            "6 x 1 = 6\n",
            "6 x 2 = 12\n",
            "6 x 3 = 18\n",
            "6 x 4 = 24\n",
            "6 x 5 = 30\n",
            "6 x 6 = 36\n",
            "6 x 7 = 42\n",
            "6 x 8 = 48\n",
            "6 x 9 = 54\n",
            "6 x 10 = 60\n"
          ]
        }
      ]
    },
    {
      "cell_type": "markdown",
      "source": [
        "6. Write a program that counts the number of even and odd numbers in a list using a `for` loop.\n"
      ],
      "metadata": {
        "id": "anbKxeuxfZeC"
      }
    },
    {
      "cell_type": "code",
      "source": [
        "lst = [34,53,45,43,67,2]\n",
        "for i in range(len(lst)):\n",
        "  if (lst[i] % 2 == 0):\n",
        "    print(f\"{lst[i]} is even\")\n",
        "  else:\n",
        "    print(f\"{lst[i]} is odd\")"
      ],
      "metadata": {
        "colab": {
          "base_uri": "https://localhost:8080/"
        },
        "id": "NJhPUjWq5-nN",
        "outputId": "2454d89a-e131-43ec-a6b7-231d61a3dd01"
      },
      "execution_count": null,
      "outputs": [
        {
          "output_type": "stream",
          "name": "stdout",
          "text": [
            "34 is even\n",
            "53 is odd\n",
            "45 is odd\n",
            "43 is odd\n",
            "67 is odd\n",
            "2 is even\n"
          ]
        }
      ]
    },
    {
      "cell_type": "markdown",
      "source": [
        "7. Develop a program that prints the squares of numbers from 1 to 5 using a `for` loop.\n"
      ],
      "metadata": {
        "id": "IUvKMHaRfZxb"
      }
    },
    {
      "cell_type": "code",
      "source": [
        "for i in range(1,5+1):\n",
        "  print(f\"square of {i} is {i*i} \")"
      ],
      "metadata": {
        "colab": {
          "base_uri": "https://localhost:8080/"
        },
        "id": "wNoL8umC6y6h",
        "outputId": "d8faf1ca-545d-432b-8f88-b165bbdf5a97"
      },
      "execution_count": null,
      "outputs": [
        {
          "output_type": "stream",
          "name": "stdout",
          "text": [
            "square of 1 is 1 \n",
            "square of 2 is 4 \n",
            "square of 3 is 9 \n",
            "square of 4 is 16 \n",
            "square of 5 is 25 \n"
          ]
        }
      ]
    },
    {
      "cell_type": "markdown",
      "source": [
        "8. Create a program to find the length of a string without using the `len()` function.\n"
      ],
      "metadata": {
        "id": "VYPVAZZ2fZz1"
      }
    },
    {
      "cell_type": "code",
      "source": [
        "input = \"hello\"\n",
        "length = 0\n",
        "for _ in input:\n",
        "  length += 1\n",
        "print(f\"length of string is {length}\")\n",
        "\n"
      ],
      "metadata": {
        "colab": {
          "base_uri": "https://localhost:8080/"
        },
        "id": "Ck7gF-4i7DiE",
        "outputId": "04182816-fe54-43f8-9e88-d240656488c1"
      },
      "execution_count": null,
      "outputs": [
        {
          "output_type": "stream",
          "name": "stdout",
          "text": [
            "length of string is 5\n"
          ]
        }
      ]
    },
    {
      "cell_type": "markdown",
      "source": [
        "9. Write a program that calculates the average of a list of numbers using a `for` loop.\n"
      ],
      "metadata": {
        "id": "k4yDExILfZ19"
      }
    },
    {
      "cell_type": "code",
      "source": [
        "lst = [23,45,34,23,56,32,12]\n",
        "sum = 0\n",
        "for i in range(len(lst)):\n",
        "  sum += lst[i]\n",
        "\n",
        "print(f\"Average : {sum/len(lst)}\")\n",
        "\n",
        "\n",
        "\n"
      ],
      "metadata": {
        "colab": {
          "base_uri": "https://localhost:8080/"
        },
        "id": "QBB8RDap8Dft",
        "outputId": "2efb45ae-1604-4754-8467-f437b41ef331"
      },
      "execution_count": null,
      "outputs": [
        {
          "output_type": "stream",
          "name": "stdout",
          "text": [
            "Average : 32.142857142857146\n"
          ]
        }
      ]
    },
    {
      "cell_type": "markdown",
      "source": [
        "10. Develop a program that prints the first `n` Fibonacci numbers using a `for` loop.\n"
      ],
      "metadata": {
        "id": "-6iIZu0ffZ4X"
      }
    },
    {
      "cell_type": "code",
      "source": [
        "a = 0\n",
        "b = 1\n",
        "input = 10\n",
        "fib_sequence = []\n",
        "for _ in range(input):\n",
        "    fib_sequence.append(a)\n",
        "    a, b = b, a + b\n",
        "print(fib_sequence)\n",
        "\n"
      ],
      "metadata": {
        "colab": {
          "base_uri": "https://localhost:8080/"
        },
        "id": "8Rx5Tudg823h",
        "outputId": "e1214f66-e839-47b3-a30f-11fbd556b9c1"
      },
      "execution_count": null,
      "outputs": [
        {
          "output_type": "stream",
          "name": "stdout",
          "text": [
            "[0, 1, 1, 2, 3, 5, 8, 13, 21, 34]\n"
          ]
        }
      ]
    },
    {
      "cell_type": "markdown",
      "source": [
        "## Intermediate Level:\n"
      ],
      "metadata": {
        "id": "UqOKTnuafZ6k"
      }
    },
    {
      "cell_type": "markdown",
      "source": [
        "11. Write a program to check if a given list contains any duplicates using a `for` loop.\n"
      ],
      "metadata": {
        "id": "HCdmZ1pqfZ89"
      }
    },
    {
      "cell_type": "code",
      "source": [
        "lst = [10,40,10,20,40,16,50,10]\n",
        "\n",
        "dup = False\n",
        "seen = set()\n",
        "for i in lst:\n",
        "  if i in seen:\n",
        "    dup = True\n",
        "  else:\n",
        "    seen.add(i)\n",
        "\n",
        "if dup:\n",
        "  print(\"there are duplicates in list\")\n",
        "\n",
        "print(seen)"
      ],
      "metadata": {
        "colab": {
          "base_uri": "https://localhost:8080/"
        },
        "id": "jcTgdSN9EnYB",
        "outputId": "d94600c0-ca51-450c-a9e2-4e96ad278b43"
      },
      "execution_count": null,
      "outputs": [
        {
          "output_type": "stream",
          "name": "stdout",
          "text": [
            "there are duplicates in list\n",
            "{40, 10, 16, 50, 20}\n"
          ]
        }
      ]
    },
    {
      "cell_type": "markdown",
      "source": [
        "12. Create a program that prints the prime numbers in a given range using a `for` loop.\n"
      ],
      "metadata": {
        "id": "o1Nc25F1faBk"
      }
    },
    {
      "cell_type": "code",
      "source": [
        "lower = 40\n",
        "upper = 100\n",
        "\n",
        "print(\"Prime numbers between\", lower, \"and\", upper, \"are:\")\n",
        "\n",
        "for num in range(lower, upper + 1):\n",
        "   # all prime numbers are greater than 1\n",
        "   if num > 1:\n",
        "       for i in range(2, num):\n",
        "           if (num % i) == 0:\n",
        "               break\n",
        "       else:\n",
        "           print(num)"
      ],
      "metadata": {
        "colab": {
          "base_uri": "https://localhost:8080/"
        },
        "id": "rMSzYBENIAqe",
        "outputId": "e89642a2-c53a-4117-94e1-3e7c01a17f3b"
      },
      "execution_count": null,
      "outputs": [
        {
          "output_type": "stream",
          "name": "stdout",
          "text": [
            "Prime numbers between 40 and 100 are:\n",
            "41\n",
            "43\n",
            "47\n",
            "53\n",
            "59\n",
            "61\n",
            "67\n",
            "71\n",
            "73\n",
            "79\n",
            "83\n",
            "89\n",
            "97\n"
          ]
        }
      ]
    },
    {
      "cell_type": "markdown",
      "source": [
        "13. Develop a program that counts the number of vowels in a string using a `for` loop.\n"
      ],
      "metadata": {
        "id": "ksdzYPZUfaDw"
      }
    },
    {
      "cell_type": "code",
      "source": [
        "input = \"count the vowels\"\n",
        "\n",
        "vowels =  ['a','e','i','o','u']\n",
        "\n",
        "count = 0\n",
        "\n",
        "for i in input:\n",
        "  if i in vowels:\n",
        "    count +=1\n",
        "\n",
        "print(f\"number of vowels in string {count}\")"
      ],
      "metadata": {
        "colab": {
          "base_uri": "https://localhost:8080/"
        },
        "id": "RtWXA3TMNwC6",
        "outputId": "4bba515c-5a87-4b41-8a27-282f2c75c845"
      },
      "execution_count": null,
      "outputs": [
        {
          "output_type": "stream",
          "name": "stdout",
          "text": [
            "number of vowels in string 5\n"
          ]
        }
      ]
    },
    {
      "cell_type": "markdown",
      "source": [
        "14. Write a program to find the maximum element in a 2D list using a nested `for` loop.\n"
      ],
      "metadata": {
        "id": "WBxgIbOcfaGJ"
      }
    },
    {
      "cell_type": "code",
      "source": [
        "matrix = [[34,43,34],[34,36,76],[4,87,3]]\n",
        "\n",
        "max = 0\n",
        "for i in range(len(matrix)):\n",
        "  for j in range(len(matrix[i])):\n",
        "    if max <= matrix[i][j] :\n",
        "      max = matrix[i][j]\n",
        "\n",
        "print(f\"largest number of 2D matrix is {max}\")\n"
      ],
      "metadata": {
        "colab": {
          "base_uri": "https://localhost:8080/"
        },
        "id": "YDSu77XyPoqh",
        "outputId": "6fe3a24d-7952-474e-9cd6-bd2e5b514aec"
      },
      "execution_count": null,
      "outputs": [
        {
          "output_type": "stream",
          "name": "stdout",
          "text": [
            "largest number of 2D matrix is 87\n"
          ]
        }
      ]
    },
    {
      "cell_type": "markdown",
      "source": [
        "15. Create a program that removes all occurrences of a specific element from a list using a `for` loop.\n"
      ],
      "metadata": {
        "id": "AbSIjmcafaIh"
      }
    },
    {
      "cell_type": "code",
      "source": [
        "\n",
        "list = [10, 20, 10, 30, 10, 40, 10, 50]\n",
        "n = 50\n",
        "\n",
        "# print original list\n",
        "print (\"Original list:\")\n",
        "print (list)\n",
        "\n",
        "for x in list:\n",
        "    if x == n:\n",
        "        list.remove(x)\n",
        "\n",
        "print (\"list after removing elements:\")\n",
        "print (list)"
      ],
      "metadata": {
        "colab": {
          "base_uri": "https://localhost:8080/"
        },
        "id": "GFyTLy63RV5Q",
        "outputId": "b81fde4d-f197-401f-d34b-1345e85c2576"
      },
      "execution_count": null,
      "outputs": [
        {
          "output_type": "stream",
          "name": "stdout",
          "text": [
            "Original list:\n",
            "[10, 20, 10, 30, 10, 40, 10, 50]\n",
            "list after removing elements:\n",
            "[10, 20, 10, 30, 10, 40, 10]\n"
          ]
        }
      ]
    },
    {
      "cell_type": "markdown",
      "source": [
        "16. Develop a program that generates a multiplication table for numbers from 1 to 5 using a nested `for` loop.\n"
      ],
      "metadata": {
        "id": "DGniJ_bmfaK1"
      }
    },
    {
      "cell_type": "code",
      "source": [
        "for i in range(1,5+1):\n",
        "  print(f\"\\nTABLE of {i}\")\n",
        "  product = 0\n",
        "  for j in range(1, 10+1):\n",
        "    product = i * j\n",
        "    print(f\"{i} x {j} = {product}\")\n"
      ],
      "metadata": {
        "colab": {
          "base_uri": "https://localhost:8080/"
        },
        "id": "VJlTB582UQtj",
        "outputId": "256886dd-3f7e-47f3-d700-61d982a3d73a"
      },
      "execution_count": null,
      "outputs": [
        {
          "output_type": "stream",
          "name": "stdout",
          "text": [
            "\n",
            "TABLE of 1\n",
            "1 x 1 = 1\n",
            "1 x 2 = 2\n",
            "1 x 3 = 3\n",
            "1 x 4 = 4\n",
            "1 x 5 = 5\n",
            "1 x 6 = 6\n",
            "1 x 7 = 7\n",
            "1 x 8 = 8\n",
            "1 x 9 = 9\n",
            "1 x 10 = 10\n",
            "\n",
            "TABLE of 2\n",
            "2 x 1 = 2\n",
            "2 x 2 = 4\n",
            "2 x 3 = 6\n",
            "2 x 4 = 8\n",
            "2 x 5 = 10\n",
            "2 x 6 = 12\n",
            "2 x 7 = 14\n",
            "2 x 8 = 16\n",
            "2 x 9 = 18\n",
            "2 x 10 = 20\n",
            "\n",
            "TABLE of 3\n",
            "3 x 1 = 3\n",
            "3 x 2 = 6\n",
            "3 x 3 = 9\n",
            "3 x 4 = 12\n",
            "3 x 5 = 15\n",
            "3 x 6 = 18\n",
            "3 x 7 = 21\n",
            "3 x 8 = 24\n",
            "3 x 9 = 27\n",
            "3 x 10 = 30\n",
            "\n",
            "TABLE of 4\n",
            "4 x 1 = 4\n",
            "4 x 2 = 8\n",
            "4 x 3 = 12\n",
            "4 x 4 = 16\n",
            "4 x 5 = 20\n",
            "4 x 6 = 24\n",
            "4 x 7 = 28\n",
            "4 x 8 = 32\n",
            "4 x 9 = 36\n",
            "4 x 10 = 40\n",
            "\n",
            "TABLE of 5\n",
            "5 x 1 = 5\n",
            "5 x 2 = 10\n",
            "5 x 3 = 15\n",
            "5 x 4 = 20\n",
            "5 x 5 = 25\n",
            "5 x 6 = 30\n",
            "5 x 7 = 35\n",
            "5 x 8 = 40\n",
            "5 x 9 = 45\n",
            "5 x 10 = 50\n"
          ]
        }
      ]
    },
    {
      "cell_type": "markdown",
      "source": [
        "17. Write a program that converts a list of Fahrenheit temperatures to Celsius using a `for` loop.\n"
      ],
      "metadata": {
        "id": "_6UY9GMAfaNp"
      }
    },
    {
      "cell_type": "code",
      "source": [
        "# List of Fahrenheit temperatures\n",
        "fahrenheit_temp = [32, 68, 100, 212]\n",
        "\n",
        "celcius_temp = []\n",
        "for i in fahrenheit_temp:\n",
        "  celcius = (i-32) * 5/9\n",
        "  celcius_temp.append(celcius)\n",
        "\n",
        "print(\"fahrenheit_temperatures\",fahrenheit_temp)\n",
        "print(\"celcius_temperature\", celcius_temp)\n"
      ],
      "metadata": {
        "colab": {
          "base_uri": "https://localhost:8080/"
        },
        "id": "qcA7V3sLV8vI",
        "outputId": "ebd181b1-9ac9-4798-ec33-a7a267d312ca"
      },
      "execution_count": null,
      "outputs": [
        {
          "output_type": "stream",
          "name": "stdout",
          "text": [
            "fahrenheit_temperatures [32, 68, 100, 212]\n",
            "celcius_temperature [0.0, 20.0, 37.77777777777778, 100.0]\n"
          ]
        }
      ]
    },
    {
      "cell_type": "markdown",
      "source": [
        "18. Create a program to print the common elements from two lists using a `for` loop.\n"
      ],
      "metadata": {
        "id": "qWX_gTOEfaQN"
      }
    },
    {
      "cell_type": "code",
      "source": [
        "lst1 = [10,30,60,90]\n",
        "lst2 = [80,10,90,100,200]\n",
        "\n",
        "common = []\n",
        "for i in lst1:\n",
        "  if i in lst2:\n",
        "    common.append(i)\n",
        "\n",
        "print(common)"
      ],
      "metadata": {
        "colab": {
          "base_uri": "https://localhost:8080/"
        },
        "id": "JqY8n0deXnHr",
        "outputId": "a8614315-c31f-4ce6-eb63-ea700cceadc9"
      },
      "execution_count": null,
      "outputs": [
        {
          "output_type": "stream",
          "name": "stdout",
          "text": [
            "[10, 90]\n"
          ]
        }
      ]
    },
    {
      "cell_type": "markdown",
      "source": [
        "19. Develop a program that prints the pattern of right-angled triangles using a `for` loop. Use ‘*’ to draw the\n",
        "pattern\n"
      ],
      "metadata": {
        "id": "2WOrZYqKfaSu"
      }
    },
    {
      "cell_type": "code",
      "source": [
        "for i in range(1, 5+1):\n",
        "  for j in range(1, i+1):\n",
        "    print(\"*\", end=\" \")\n",
        "  print()"
      ],
      "metadata": {
        "colab": {
          "base_uri": "https://localhost:8080/"
        },
        "id": "iCfxZVCIZCzS",
        "outputId": "54d6ed0c-611c-4374-fbc9-baa5ca46344b"
      },
      "execution_count": null,
      "outputs": [
        {
          "output_type": "stream",
          "name": "stdout",
          "text": [
            "* \n",
            "* * \n",
            "* * * \n",
            "* * * * \n",
            "* * * * * \n"
          ]
        }
      ]
    },
    {
      "cell_type": "markdown",
      "source": [
        "20. Write a program to find the greatest common divisor (GCD) of two numbers using a `for` loop.\n"
      ],
      "metadata": {
        "id": "Jx9LfobofaVT"
      }
    },
    {
      "cell_type": "code",
      "source": [
        "# Input two numbers from the user\n",
        "num1 = int(input(\"Enter the first number: \"))\n",
        "num2 = int(input(\"Enter the second number: \"))\n",
        "\n",
        "a = num1\n",
        "b = num2\n",
        "while b:\n",
        "    a, b = b, a % b\n",
        "\n",
        "print(f\"the GCD for {num1} and {num2} is {a}\")\n"
      ],
      "metadata": {
        "colab": {
          "base_uri": "https://localhost:8080/"
        },
        "id": "f7DfwspQa20L",
        "outputId": "5c3fad5a-d423-433b-925b-1b79e7214376"
      },
      "execution_count": null,
      "outputs": [
        {
          "output_type": "stream",
          "name": "stdout",
          "text": [
            "Enter the first number: 10\n",
            "Enter the second number: 20\n",
            "the GCD for 10 and 20 is 10\n"
          ]
        }
      ]
    },
    {
      "cell_type": "markdown",
      "source": [
        "## Advanced Level:\n"
      ],
      "metadata": {
        "id": "IT1RLSsFfaXk"
      }
    },
    {
      "cell_type": "markdown",
      "source": [
        "21. Create a program that calculates the sum of the digits of numbers in a list using a list comprehension.\n"
      ],
      "metadata": {
        "id": "03njIdBxfaaH"
      }
    },
    {
      "cell_type": "code",
      "source": [
        "# List of numbers\n",
        "numbers = [123, 456, 789]\n",
        "\n",
        "\n",
        "# printing original list\n",
        "print(\"The original list is : \" + str(numbers))\n",
        "\n",
        "# Sum of number digits in List\n",
        "# using sum() + list comprehension\n",
        "res = list(map(lambda ele: sum(int(sub) for sub in str(ele)), numbers))\n",
        "\n",
        "# printing result\n",
        "print (\"List Integer Summation : \" + str(res))"
      ],
      "metadata": {
        "colab": {
          "base_uri": "https://localhost:8080/"
        },
        "id": "hKwlHtcmyfSv",
        "outputId": "ed6517ff-0e1c-4469-d644-7fc44565a6b4"
      },
      "execution_count": null,
      "outputs": [
        {
          "output_type": "stream",
          "name": "stdout",
          "text": [
            "The original list is : [123, 456, 789]\n",
            "List Integer Summation : [6, 15, 24]\n"
          ]
        }
      ]
    },
    {
      "cell_type": "markdown",
      "source": [
        "22. Write a program to find the prime factors of a given number using a `for` loop and list comprehension.\n"
      ],
      "metadata": {
        "id": "niJvYUSUfacQ"
      }
    },
    {
      "cell_type": "markdown",
      "source": [
        "using normal for and while loop"
      ],
      "metadata": {
        "id": "uzSOIQjLpQiM"
      }
    },
    {
      "cell_type": "code",
      "source": [
        "# prime factors of given number\n",
        "import math\n",
        "\n",
        "input_number = int(input(\"enter the number : \"))\n",
        "\n",
        "n = input_number\n",
        "\n",
        "# Print the number of two's that divide n\n",
        "while n % 2 == 0:\n",
        "    print(2)\n",
        "    n = n / 2\n",
        "\n",
        "#print(n)\n",
        "\n",
        "# now check prime factors from 3 with increment of 2 as number will be odd now\n",
        "for i in range(3,int(math.sqrt(n))+1,2):\n",
        "    #print(\"i = \", i)\n",
        "    # while i divides n , print i and divide n\n",
        "    while n % i== 0:\n",
        "        print(i)\n",
        "        n = n / i\n",
        "\n",
        "\n",
        "# Condition if n is a prime\n",
        "# number greater than 2\n",
        "if n > 2:\n",
        "  print(n)"
      ],
      "metadata": {
        "colab": {
          "base_uri": "https://localhost:8080/"
        },
        "id": "vzGm00KXOoB9",
        "outputId": "4497eed2-3580-4e2c-e57c-0b70bcb34153"
      },
      "execution_count": 21,
      "outputs": [
        {
          "output_type": "stream",
          "name": "stdout",
          "text": [
            "enter the number : 91\n",
            "7\n",
            "13.0\n"
          ]
        }
      ]
    },
    {
      "cell_type": "code",
      "source": [
        "import math\n",
        "def primes(number,n):\n",
        "  # 1  compute divisors of 2\n",
        "  # lets say n = 30  then lst will get [2] and loop will end as 15 is not divisible by 2\n",
        "  lst = [2 for _ in iter(lambda: n % 2 == 0, False) if not n % (n:= n / 2)]\n",
        "  # above loop will also  updating n\n",
        "  # so now we have value of 15\n",
        "\n",
        "  # this loop will now check odd values starting with 3 and increment of 2\n",
        "  # for every value value of i it would check n%i==0 or not then update n=n/i and check whether i now divides or not\n",
        "  primes = [i for i in range(3,int(math.sqrt(n))+1,2) for _ in iter(lambda : n % i == 0, False) if not n % (n:=n/i)]\n",
        "\n",
        "  lst.extend(primes)\n",
        "  lst.append(n)\n",
        "  print(f\"prime factors of {number} are {lst} \")\n",
        "\n"
      ],
      "metadata": {
        "id": "siYgv-jHdkr0"
      },
      "execution_count": 25,
      "outputs": []
    },
    {
      "cell_type": "code",
      "source": [
        "number = int(input(\"enter the number \"))\n",
        "n = number\n",
        "primes(number,n)"
      ],
      "metadata": {
        "colab": {
          "base_uri": "https://localhost:8080/"
        },
        "id": "HS-o4ihEsW_C",
        "outputId": "4d3b4348-1b89-49cf-c07a-27ad2cbbb0a7"
      },
      "execution_count": 26,
      "outputs": [
        {
          "output_type": "stream",
          "name": "stdout",
          "text": [
            "enter the number 91\n",
            "prime factors of 91 are [7, 13.0] \n"
          ]
        }
      ]
    },
    {
      "cell_type": "code",
      "source": [
        "number = int(input(\"enter the number \"))\n",
        "n = number\n",
        "primes(number,n)"
      ],
      "metadata": {
        "colab": {
          "base_uri": "https://localhost:8080/"
        },
        "id": "nXwA-xXJsXm9",
        "outputId": "8575ba18-62d5-4f8a-c999-0f312e560ccc"
      },
      "execution_count": 28,
      "outputs": [
        {
          "output_type": "stream",
          "name": "stdout",
          "text": [
            "enter the number 100\n",
            "prime factors of 100 are [2, 2, 5, 5, 1.0] \n"
          ]
        }
      ]
    },
    {
      "cell_type": "code",
      "source": [
        "number = int(input(\"enter the number \"))\n",
        "n = number\n",
        "primes(number,n)"
      ],
      "metadata": {
        "colab": {
          "base_uri": "https://localhost:8080/"
        },
        "id": "SajfkRY2sYOJ",
        "outputId": "a0bd7e75-4841-4b64-efe5-11879f69d3af"
      },
      "execution_count": 29,
      "outputs": [
        {
          "output_type": "stream",
          "name": "stdout",
          "text": [
            "enter the number 1\n",
            "prime factors of 1 are [1] \n"
          ]
        }
      ]
    },
    {
      "cell_type": "markdown",
      "source": [
        "23. Develop a program that extracts unique elements from a list and stores them in a new list using a list\n",
        "comprehension.\n"
      ],
      "metadata": {
        "id": "tJ67ZiJ0fae0"
      }
    },
    {
      "cell_type": "code",
      "source": [
        "# for loop code\n",
        "original_list = [99,1, 2, 2, 3, 4, 4, 5, 6, 6, 4,99]\n",
        "for i, x in enumerate(original_list):\n",
        "  print(i,x)\n",
        "  if x not in original_list[:i]:\n",
        "    print(x)\n"
      ],
      "metadata": {
        "id": "14MAd_oRubh0"
      },
      "execution_count": null,
      "outputs": []
    },
    {
      "cell_type": "code",
      "source": [
        "# list comprehension\n",
        "# Original list\n",
        "original_list = [99,1, 2, 2, 3, 4, 4, 5, 6, 6, 4,99]\n",
        "\n",
        "unique_list = [x for i, x in enumerate(original_list) if x not in original_list[:i]]\n",
        "\n",
        "print(unique_list)"
      ],
      "metadata": {
        "colab": {
          "base_uri": "https://localhost:8080/"
        },
        "id": "WIH5g_aEs7g3",
        "outputId": "94702776-1384-4c02-fb7e-861166be8ae4"
      },
      "execution_count": 37,
      "outputs": [
        {
          "output_type": "stream",
          "name": "stdout",
          "text": [
            "[99, 1, 2, 3, 4, 5, 6]\n"
          ]
        }
      ]
    },
    {
      "cell_type": "markdown",
      "source": [
        "24. Create a program that generates a list of all palindromic numbers up to a specified limit using a list\n",
        "comprehension.\n"
      ],
      "metadata": {
        "id": "DXJCrayKfaha"
      }
    },
    {
      "cell_type": "code",
      "source": [
        "# normal with reversal method\n",
        "for i in range(90,112+1):\n",
        "  num=i\n",
        "  r=0\n",
        "  digit=0\n",
        "  while num != 0:\n",
        "    digit = num%10\n",
        "    r = r*10+digit\n",
        "    num //=10\n",
        "  if i == r:\n",
        "    print(\"palindromic \",i,r)\n"
      ],
      "metadata": {
        "colab": {
          "base_uri": "https://localhost:8080/"
        },
        "id": "nDeCs1r-ulyk",
        "outputId": "f84b0612-a1c9-4d91-f279-5e9a2b9a069e"
      },
      "execution_count": 54,
      "outputs": [
        {
          "output_type": "stream",
          "name": "stdout",
          "text": [
            "palindromic  99 99\n",
            "palindromic  101 101\n",
            "palindromic  111 111\n"
          ]
        }
      ]
    },
    {
      "cell_type": "code",
      "source": [
        "# palindromic numbers in give method using list comprehension\n",
        "lst = [i for i in range(90,112+1) if str(i)==str(i)[::-1]]"
      ],
      "metadata": {
        "colab": {
          "base_uri": "https://localhost:8080/"
        },
        "id": "yfGbY9um27m9",
        "outputId": "b0b8562b-5038-4e27-e911-577d31a0f5ee"
      },
      "execution_count": 56,
      "outputs": [
        {
          "output_type": "execute_result",
          "data": {
            "text/plain": [
              "[99, 101, 111]"
            ]
          },
          "metadata": {},
          "execution_count": 56
        }
      ]
    },
    {
      "cell_type": "markdown",
      "source": [
        "25. Write a program to flatten a nested list using list comprehension.\n"
      ],
      "metadata": {
        "id": "2NXtnNG0famK"
      }
    },
    {
      "cell_type": "code",
      "source": [
        "lst = [[1,2,3],[4,5,6],[7,8,9]]\n",
        "flatten_lst = [element for i in lst for element in i]\n",
        "flatten_lst\n"
      ],
      "metadata": {
        "colab": {
          "base_uri": "https://localhost:8080/"
        },
        "id": "CSpiuyhV5Cji",
        "outputId": "71238d84-4dfb-4df7-f862-fbd0fdd5deab"
      },
      "execution_count": 62,
      "outputs": [
        {
          "output_type": "execute_result",
          "data": {
            "text/plain": [
              "[1, 2, 3, 4, 5, 6, 7, 8, 9]"
            ]
          },
          "metadata": {},
          "execution_count": 62
        }
      ]
    },
    {
      "cell_type": "markdown",
      "source": [
        "26. Develop a program that computes the sum of even and odd numbers in a list separately using list\n",
        "comprehension.\n"
      ],
      "metadata": {
        "id": "3yliOSMVfao-"
      }
    },
    {
      "cell_type": "code",
      "source": [
        "import numpy as np\n",
        "lst = [39,22,34,55,77,2,3,4,5,7,8,2]\n",
        "even_sum = np.sum([even for even in lst if even%2 == 0])\n",
        "odd_sum = np.sum([even for even in lst if even%2 == 1])\n",
        "print(f\"sum of even numbers is {even_sum}, sum of odd numbers is {odd_sum}\")"
      ],
      "metadata": {
        "colab": {
          "base_uri": "https://localhost:8080/"
        },
        "id": "u4unhlS76Zuu",
        "outputId": "e900d9a6-99ec-4bad-a918-46bd47c62b4f"
      },
      "execution_count": 63,
      "outputs": [
        {
          "output_type": "stream",
          "name": "stdout",
          "text": [
            "sum of even numbers is 72, sum of odd numbers is 186\n"
          ]
        }
      ]
    },
    {
      "cell_type": "markdown",
      "source": [
        "27. Create a program that generates a list of squares of odd numbers between 1 and 10 using list\n",
        "comprehension.\n"
      ],
      "metadata": {
        "id": "bW2tMABefarc"
      }
    },
    {
      "cell_type": "code",
      "source": [
        "# square of numbers from 1 to 10\n",
        " [(lambda sqr : sqr**2 )(sqr) for sqr in range(1,10+1)]"
      ],
      "metadata": {
        "colab": {
          "base_uri": "https://localhost:8080/"
        },
        "id": "bAej1rSk7JG5",
        "outputId": "3501c104-6024-4934-9438-c305c94a2c4e"
      },
      "execution_count": 67,
      "outputs": [
        {
          "output_type": "execute_result",
          "data": {
            "text/plain": [
              "[1, 4, 9, 16, 25, 36, 49, 64, 81, 100]"
            ]
          },
          "metadata": {},
          "execution_count": 67
        }
      ]
    },
    {
      "cell_type": "markdown",
      "source": [
        "28. Write a program that combines two lists into a dictionary using list comprehension.\n"
      ],
      "metadata": {
        "id": "Mg6wi2U5fauI"
      }
    },
    {
      "cell_type": "code",
      "source": [
        "\n",
        "lst1 = ['a','b','c','d','e']\n",
        "lst2 = [1,2,3,4,5]\n",
        "\n",
        "dict = {}\n",
        "dict = {lst1[i]:lst2[i] for i in range(len(lst1) ) }\n",
        "dict"
      ],
      "metadata": {
        "colab": {
          "base_uri": "https://localhost:8080/"
        },
        "id": "4sWge3dj78uN",
        "outputId": "290a17dd-c05f-4b7b-c0e5-bccc8b081f43"
      },
      "execution_count": 73,
      "outputs": [
        {
          "output_type": "execute_result",
          "data": {
            "text/plain": [
              "{'a': 1, 'b': 2, 'c': 3, 'd': 4, 'e': 5}"
            ]
          },
          "metadata": {},
          "execution_count": 73
        }
      ]
    },
    {
      "cell_type": "markdown",
      "source": [
        "29. Develop a program that extracts the vowels from a string and stores them in a list using list comprehension.\n"
      ],
      "metadata": {
        "id": "lUxTp4Dyfawo"
      }
    },
    {
      "cell_type": "code",
      "source": [
        "input = input(\"enter the string: \")\n",
        "vowels = ['a','e','i','o','u']\n",
        "\n",
        "vowels_sent = [letter for letter in input if letter.lower() in vowels]\n",
        "vowels_sent"
      ],
      "metadata": {
        "colab": {
          "base_uri": "https://localhost:8080/"
        },
        "id": "C8eY90sA-bHp",
        "outputId": "9393f330-e8b6-498f-aab9-beb009719d28"
      },
      "execution_count": 1,
      "outputs": [
        {
          "name": "stdout",
          "output_type": "stream",
          "text": [
            "enter the string: find vowels in the string\n"
          ]
        },
        {
          "output_type": "execute_result",
          "data": {
            "text/plain": [
              "['i', 'o', 'e', 'i', 'e', 'i']"
            ]
          },
          "metadata": {},
          "execution_count": 1
        }
      ]
    },
    {
      "cell_type": "markdown",
      "source": [
        "30. Create a program that removes all non-numeric characters from a list of strings using list comprehension.\n"
      ],
      "metadata": {
        "id": "8vdG-18mfay8"
      }
    },
    {
      "cell_type": "code",
      "source": [
        "# List of strings\n",
        "string_list = [\"abc123\", \"456def\", \"ghi789\", \"jkl\"]\n",
        "\n",
        "# Remove non-numeric characters using list comprehension\n",
        "numeric_strings = [''.join(char for char in s if char.isdigit()) for s in string_list]\n",
        "\n",
        "# Print the resulting list of numeric strings\n",
        "print(\"List of numeric strings:\", numeric_strings)"
      ],
      "metadata": {
        "colab": {
          "base_uri": "https://localhost:8080/"
        },
        "id": "FG8iExxz_OtI",
        "outputId": "4d9922ff-3207-4ed7-cef5-b484c23582dc"
      },
      "execution_count": 2,
      "outputs": [
        {
          "output_type": "stream",
          "name": "stdout",
          "text": [
            "List of numeric strings: ['123', '456', '789', '']\n"
          ]
        }
      ]
    },
    {
      "cell_type": "markdown",
      "source": [
        "## Challenge Level:\n"
      ],
      "metadata": {
        "id": "c-M1TQjyfa1T"
      }
    },
    {
      "cell_type": "markdown",
      "source": [
        "31. Write a program to generate a list of prime numbers using the Sieve of Eratosthenes algorithm and list\n",
        "comprehension.\n"
      ],
      "metadata": {
        "id": "NXJqHRMFfa4E"
      }
    },
    {
      "cell_type": "code",
      "source": [
        "def SieveOfEratosthenes(num):\n",
        "    prime = [True for i in range(num+1)]\n",
        "# boolean array\n",
        "    p = 2\n",
        "    while (p * p <= num):\n",
        "\n",
        "        # If prime[p] is not\n",
        "        # changed, then it is a prime\n",
        "        if (prime[p] == True):\n",
        "\n",
        "            # Updating all multiples of p\n",
        "            for i in range(p * p, num+1, p):\n",
        "                prime[i] = False\n",
        "        p += 1\n",
        "\n",
        "    # Print all prime numbers\n",
        "    for p in range(2, num+1):\n",
        "        if prime[p]:\n",
        "            print(p)"
      ],
      "metadata": {
        "id": "gXY4OhTzE0sP"
      },
      "execution_count": 3,
      "outputs": []
    },
    {
      "cell_type": "code",
      "source": [
        "SieveOfEratosthenes(30)"
      ],
      "metadata": {
        "colab": {
          "base_uri": "https://localhost:8080/"
        },
        "id": "hTmh-v5JE1-w",
        "outputId": "f8b24be6-5bd5-4aef-9442-0dd862b5e618"
      },
      "execution_count": 4,
      "outputs": [
        {
          "output_type": "stream",
          "name": "stdout",
          "text": [
            "2\n",
            "3\n",
            "5\n",
            "7\n",
            "11\n",
            "13\n",
            "17\n",
            "19\n",
            "23\n",
            "29\n"
          ]
        }
      ]
    },
    {
      "cell_type": "code",
      "source": [
        "num = 30\n",
        "\n",
        "prime = [True for _ in range(num + 1)]\n",
        "p = 2\n",
        "\n",
        "# check if the square < num\n",
        "while p * p <= num:\n",
        "    if prime[p]:\n",
        "        # We use slicing prime[p * p::p] to efficiently mark all multiples of p as False\n",
        "        prime[p * p::p] = [False] * len(range(p * p, num + 1, p))\n",
        "    p += 1\n",
        "\n",
        "prime_numbers = [p for p in range(2, num + 1) if prime[p]]\n",
        "print(\"Prime numbers:\", prime_numbers)"
      ],
      "metadata": {
        "colab": {
          "base_uri": "https://localhost:8080/"
        },
        "id": "oSo4chXwFMw7",
        "outputId": "023a7f4e-a4cf-4bb7-f010-0a7a678ba3df"
      },
      "execution_count": 6,
      "outputs": [
        {
          "output_type": "stream",
          "name": "stdout",
          "text": [
            "Prime numbers: [2, 3, 5, 7, 11, 13, 17, 19, 23, 29]\n"
          ]
        }
      ]
    },
    {
      "cell_type": "code",
      "source": [
        "prime"
      ],
      "metadata": {
        "colab": {
          "base_uri": "https://localhost:8080/"
        },
        "id": "9uOv-wobF6uU",
        "outputId": "d582a67b-865b-4dc0-ee9b-d9eafb1178c2"
      },
      "execution_count": 7,
      "outputs": [
        {
          "output_type": "execute_result",
          "data": {
            "text/plain": [
              "[True,\n",
              " True,\n",
              " True,\n",
              " True,\n",
              " False,\n",
              " True,\n",
              " False,\n",
              " True,\n",
              " False,\n",
              " False,\n",
              " False,\n",
              " True,\n",
              " False,\n",
              " True,\n",
              " False,\n",
              " False,\n",
              " False,\n",
              " True,\n",
              " False,\n",
              " True,\n",
              " False,\n",
              " False,\n",
              " False,\n",
              " True,\n",
              " False,\n",
              " False,\n",
              " False,\n",
              " False,\n",
              " False,\n",
              " True,\n",
              " False]"
            ]
          },
          "metadata": {},
          "execution_count": 7
        }
      ]
    },
    {
      "cell_type": "markdown",
      "source": [
        "32. Create a program that generates a list of all Pythagorean triplets up to a specified limit using list\n",
        "comprehension"
      ],
      "metadata": {
        "id": "jSnZScJ4fa6f"
      }
    },
    {
      "cell_type": "markdown",
      "source": [
        "A Pythagorean triplet is a set of three positive integers a, b and c such that a2 + b2 = c2. Given a limit, generate all Pythagorean Triples with values smaller than given limit.\n",
        "\n",
        "- Input : limit = 20\n",
        "\n",
        "- Output :\n",
        "         3 4 5   -> 3**2 + 4**2 = 5**2\n",
        "         8 6 10   -> 8**2  + 6**2 = 10**2\n",
        "         5 12 13   -> ..\n",
        "         15 8 17   -> ..\n",
        "         12 16 20  -> ..\n",
        "\n",
        "Pythogorean formula for time complexity of O(k)\n",
        "- formula :\n",
        "        a = m**2 - n**2\n",
        "        b = 2 * m * n\n",
        "        c  = m**2 + n**2\n",
        "\n",
        "The idea is to use square sum relation of Pythagorean triplet, i.e., addition of squares of a and b is equal to square of c, we can write these number in terms of m and n such that\n",
        "\n",
        "this will work till the limit which we have set\n"
      ],
      "metadata": {
        "id": "HtoW7-4wLiEO"
      }
    },
    {
      "cell_type": "code",
      "source": [
        "limit= 20\n",
        "c=0\n",
        "m=2\n",
        "while(c<limit):\n",
        "    for n in range(1,m+1):\n",
        "        a=m*m-n*n\n",
        "        b=2*m*n\n",
        "        c=m*m+n*n\n",
        "        if(c>limit):\n",
        "            break\n",
        "        if(a==0 or b==0 or c==0):\n",
        "            break\n",
        "\n",
        "        print(a,b,c)\n",
        "    m=m+1"
      ],
      "metadata": {
        "colab": {
          "base_uri": "https://localhost:8080/"
        },
        "id": "dxpQUJwaFy-2",
        "outputId": "8745c1d2-cb52-4453-9ef0-50604fba50e4"
      },
      "execution_count": 9,
      "outputs": [
        {
          "output_type": "stream",
          "name": "stdout",
          "text": [
            "3 4 5\n",
            "8 6 10\n",
            "5 12 13\n",
            "15 8 17\n",
            "12 16 20\n"
          ]
        }
      ]
    },
    {
      "cell_type": "code",
      "source": [
        "limit = 20\n",
        "triplets = []\n",
        "\n",
        "m = 2\n",
        "\n",
        "while True:\n",
        "    triplets.extend([(m * m - n * n, 2 * m * n, m * m + n * n) for n in range(1, m + 1) if (m * m + n * n) <= limit and not (m * m - n * n == 0 or 2 * m * n == 0 or m * m + n * n == 0)])\n",
        "\n",
        "    m += 1\n",
        "    if m >= limit:\n",
        "        break\n",
        "\n",
        "# Print the generated triplets\n",
        "for triplet in triplets:\n",
        "    print(triplet)\n"
      ],
      "metadata": {
        "colab": {
          "base_uri": "https://localhost:8080/"
        },
        "id": "ManWpYU0NxA3",
        "outputId": "3b1e859c-a44e-4b6e-9873-93fc44eca893"
      },
      "execution_count": 10,
      "outputs": [
        {
          "output_type": "stream",
          "name": "stdout",
          "text": [
            "(3, 4, 5)\n",
            "(8, 6, 10)\n",
            "(5, 12, 13)\n",
            "(15, 8, 17)\n",
            "(12, 16, 20)\n"
          ]
        }
      ]
    },
    {
      "cell_type": "markdown",
      "source": [
        "33. Develop a program that generates a list of all possible combinations of two lists using list comprehension.\n"
      ],
      "metadata": {
        "id": "W2jATQcffa_2"
      }
    },
    {
      "cell_type": "code",
      "source": [
        "# Two example lists\n",
        "list1 = [1, 2]\n",
        "list2 = ['a', 'b', 'c']\n",
        "\n",
        "# Generate all possible combinations using list comprehensions\n",
        "combinations = [(x, y) for x in list1 for y in list2]\n",
        "\n",
        "# Print the list of combinations\n",
        "print(\"All possible combinations:\")\n",
        "print(combinations)"
      ],
      "metadata": {
        "colab": {
          "base_uri": "https://localhost:8080/"
        },
        "id": "63siwV-pOdWq",
        "outputId": "94475f74-0fc3-4af7-870e-ef2691ae61cd"
      },
      "execution_count": 11,
      "outputs": [
        {
          "output_type": "stream",
          "name": "stdout",
          "text": [
            "All possible combinations:\n",
            "[(1, 'a'), (1, 'b'), (1, 'c'), (2, 'a'), (2, 'b'), (2, 'c')]\n"
          ]
        }
      ]
    },
    {
      "cell_type": "markdown",
      "source": [
        "34. Write a program that calculates the mean, median, and mode of a list of numbers using list\n",
        "comprehension.\n"
      ],
      "metadata": {
        "id": "CfTI12MYfbCe"
      }
    },
    {
      "cell_type": "code",
      "source": [
        "# MEDIAN\n",
        "def median(lst):\n",
        "  # Sort the list\n",
        "  sorted_lst = sorted(lst)\n",
        "\n",
        "  # Find the median using list comprehension\n",
        "  n = len(sorted_lst)\n",
        "\n",
        "  if n % 2 == 1:\n",
        "      median = sorted_lst[n // 2]\n",
        "  else:\n",
        "      middle1 = sorted_lst[(n // 2) - 1]\n",
        "      middle2 = sorted_lst[n // 2]\n",
        "      median = (middle1 + middle2) / 2\n",
        "\n",
        "  # Print the median\n",
        "  print(\"Median:\", median)\n",
        "\n",
        "# MODE\n",
        "def mode(lst):\n",
        "  # Create a dictionary to count occurrences using list comprehension\n",
        "  count_dict = {x: lst.count(x) for x in lst}\n",
        "\n",
        "  # Find the number(s) with the maximum count using list comprehension\n",
        "  max_count = max(count_dict.values())\n",
        "  mode = [num for num, count in count_dict.items() if count == max_count]\n",
        "\n",
        "  # Print the mode\n",
        "  print(\"Mode:\", mode)\n",
        "\n"
      ],
      "metadata": {
        "id": "8g0B9ARRO21M"
      },
      "execution_count": 13,
      "outputs": []
    },
    {
      "cell_type": "code",
      "source": [
        "lst = [10,2,30,40,50,40]\n",
        "\n",
        "# MEAN\n",
        "mean = sum([x for x in lst ])/len(lst)\n",
        "print(mean)\n",
        "median(lst)\n",
        "mode(lst)"
      ],
      "metadata": {
        "colab": {
          "base_uri": "https://localhost:8080/"
        },
        "id": "_rquDMUCRG-M",
        "outputId": "9f115747-4668-4551-8fd7-cd125cbeaef5"
      },
      "execution_count": 16,
      "outputs": [
        {
          "output_type": "stream",
          "name": "stdout",
          "text": [
            "28.666666666666668\n",
            "Median: 35.0\n",
            "Mode: [40]\n"
          ]
        }
      ]
    },
    {
      "cell_type": "markdown",
      "source": [
        "35. Create a program that generates Pascal's triangle up to a specified number of rows using list\n",
        "comprehension.\n"
      ],
      "metadata": {
        "id": "ZCnDY4vEfbFF"
      }
    },
    {
      "cell_type": "code",
      "source": [
        "def pascal_triangle(n):\n",
        "   for i in range(n+1):\n",
        "      for j in range(n-i):\n",
        "         print(' ', end='')\n",
        "\n",
        "      C = 1\n",
        "      for j in range(1, i+1):\n",
        "         print(C, ' ', sep='', end='')\n",
        "         C = C * (i - j) // j\n",
        "      print()\n",
        "\n",
        "n = 5\n",
        "pascal_triangle(n)"
      ],
      "metadata": {
        "colab": {
          "base_uri": "https://localhost:8080/"
        },
        "id": "tSG6ON12TXS0",
        "outputId": "252ba046-ba8a-48bf-e171-df8cbb9e0aa7"
      },
      "execution_count": 17,
      "outputs": [
        {
          "output_type": "stream",
          "name": "stdout",
          "text": [
            "     \n",
            "    1 \n",
            "   1 1 \n",
            "  1 2 1 \n",
            " 1 3 3 1 \n",
            "1 4 6 4 1 \n"
          ]
        }
      ]
    },
    {
      "cell_type": "markdown",
      "source": [
        "36. Develop a program that calculates the sum of the digits of a factorial of numbers from 1 to 5 using list\n",
        "comprehension.\n"
      ],
      "metadata": {
        "id": "_JGlEv63fbH5"
      }
    },
    {
      "cell_type": "code",
      "source": [
        "# Function to calculate factorial\n",
        "def factorial(n):\n",
        "    if n == 0:\n",
        "        return 1\n",
        "    else:\n",
        "        return n * factorial(n - 1)\n",
        "\n",
        "# Calculate the sum of digits of factorial for numbers from 1 to 5 using list comprehension\n",
        "sums_of_digits = [sum(map(int, str(factorial(i)))) for i in range(1, 5+1)]\n",
        "\n",
        "# Print the results\n",
        "for i, sum_digits in enumerate(sums_of_digits, start=1):\n",
        "    print(f\"Sum of digits of {i}! = {sum_digits}\")"
      ],
      "metadata": {
        "colab": {
          "base_uri": "https://localhost:8080/"
        },
        "id": "f5Z35bhts1Tm",
        "outputId": "6994b0bc-6c1e-49ef-d69f-e4bd0f1263c4"
      },
      "execution_count": 22,
      "outputs": [
        {
          "output_type": "stream",
          "name": "stdout",
          "text": [
            "Sum of digits of 1! = 1\n",
            "Sum of digits of 2! = 2\n",
            "Sum of digits of 3! = 6\n",
            "Sum of digits of 4! = 6\n",
            "Sum of digits of 5! = 3\n"
          ]
        }
      ]
    },
    {
      "cell_type": "markdown",
      "source": [
        "37. Write a program that finds the longest word in a sentence using list comprehension.\n"
      ],
      "metadata": {
        "id": "ck6_SYZufbNG"
      }
    },
    {
      "cell_type": "code",
      "source": [
        "# Input sentence\n",
        "sentence = input(\"Enter a sentence: \")\n",
        "\n",
        "# Split the sentence into words\n",
        "words = sentence.split()\n",
        "\n",
        "# Find the longest word using list comprehension\n",
        "longest_word = max(words, key=lambda word: len(word))\n",
        "\n",
        "# Print the longest word\n",
        "print(\"Longest word:\", longest_word)"
      ],
      "metadata": {
        "colab": {
          "base_uri": "https://localhost:8080/"
        },
        "id": "fgRcrTtktCDt",
        "outputId": "1ebf42bd-713f-464c-a818-a7326bd85d3c"
      },
      "execution_count": 1,
      "outputs": [
        {
          "output_type": "stream",
          "name": "stdout",
          "text": [
            "Enter a sentence: find the longest word\n",
            "Longest word: longest\n"
          ]
        }
      ]
    },
    {
      "cell_type": "markdown",
      "source": [
        "38. Create a program that filters a list of strings to include only those with more than three vowels using list\n",
        "comprehension.\n"
      ],
      "metadata": {
        "id": "zb6ImvGifbP_"
      }
    },
    {
      "cell_type": "code",
      "source": [
        "sentence = \"this is sentence to find the string which contains more than three vowels aeiou\"\n",
        "string_list = sentence.split()\n",
        "\n",
        "\n",
        "# Function to count vowels in a string\n",
        "def count_vowels(s):\n",
        "    vowels = \"aeiou\"\n",
        "    return sum(1 for char in s if char.lower() in vowels)\n",
        "\n",
        "# Filter strings with more than three vowels using list comprehension\n",
        "filtered_list = [s for s in string_list if count_vowels(s) > 3]\n",
        "\n",
        "# Print the filtered list\n",
        "print(\"Strings with more than three vowels:\", filtered_list)"
      ],
      "metadata": {
        "colab": {
          "base_uri": "https://localhost:8080/"
        },
        "id": "7-13QtQLtsNo",
        "outputId": "64d0f016-be00-407e-bd17-275e81636c0f"
      },
      "execution_count": 3,
      "outputs": [
        {
          "output_type": "stream",
          "name": "stdout",
          "text": [
            "Strings with more than three vowels: ['aeiou']\n"
          ]
        }
      ]
    },
    {
      "cell_type": "markdown",
      "source": [
        "39. Develop a program that calculates the sum of the digits of numbers from 1 to 1000 using list\n",
        "comprehension.\n"
      ],
      "metadata": {
        "id": "z5w4IlhffbS0"
      }
    },
    {
      "cell_type": "code",
      "source": [
        "\n",
        "\n",
        "# Calculate the sum of digits for numbers from 1 to 1000 using list comprehension\n",
        "sums_of_digits = [sum(int(digit) for digit in str(i)) for i in range(1, 1001)]\n",
        "\n",
        "# Calculate the total sum of the sums_of_digits list\n",
        "total_sum = sum(sums_of_digits)\n",
        "\n",
        "# Print the total sum\n",
        "print(\"Total Sum of Digits for Numbers 1 to 1000:\", total_sum)"
      ],
      "metadata": {
        "colab": {
          "base_uri": "https://localhost:8080/"
        },
        "id": "wR7AXVn3vOmt",
        "outputId": "2a70d548-b3aa-452f-8268-179afddda0df"
      },
      "execution_count": 4,
      "outputs": [
        {
          "output_type": "stream",
          "name": "stdout",
          "text": [
            "Total Sum of Digits for Numbers 1 to 1000: 13501\n"
          ]
        }
      ]
    },
    {
      "cell_type": "markdown",
      "source": [
        "40. Write a program that generates a list of prime palindromic numbers using list comprehension."
      ],
      "metadata": {
        "id": "HOfT3UsnfbVZ"
      }
    },
    {
      "cell_type": "code",
      "source": [
        "# Function to check if a number is prime\n",
        "def is_prime(n):\n",
        "    if n <= 1:\n",
        "        return False\n",
        "    if n == 2:\n",
        "        return True\n",
        "    if n % 2 == 0:\n",
        "        return False\n",
        "    for i in range(3, int(n**0.5) + 1, 2):\n",
        "        if n % i == 0:\n",
        "            return False\n",
        "    return True\n",
        "\n",
        "# Function to check if a number is palindromic\n",
        "def is_palindrome(n):\n",
        "    return str(n) == str(n)[::-1]\n",
        "\n",
        "# Generate a list of prime palindromic numbers using list comprehension\n",
        "prime_palindromes = [n for n in range(1, 1001) if is_prime(n) and is_palindrome(n)]\n",
        "\n",
        "# Print the list of prime palindromic numbers\n",
        "print(\"Prime Palindromic Numbers:\")\n",
        "print(prime_palindromes)"
      ],
      "metadata": {
        "colab": {
          "base_uri": "https://localhost:8080/"
        },
        "id": "9cMpLs8I1ZZI",
        "outputId": "ff34ccde-b28c-4df8-94fc-7dfc33b2fb69"
      },
      "execution_count": 5,
      "outputs": [
        {
          "output_type": "stream",
          "name": "stdout",
          "text": [
            "Prime Palindromic Numbers:\n",
            "[2, 3, 5, 7, 11, 101, 131, 151, 181, 191, 313, 353, 373, 383, 727, 757, 787, 797, 919, 929]\n"
          ]
        }
      ]
    }
  ]
}