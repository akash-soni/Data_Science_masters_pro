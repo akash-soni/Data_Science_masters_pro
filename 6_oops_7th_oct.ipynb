{
  "cells": [
    {
      "cell_type": "markdown",
      "metadata": {
        "id": "view-in-github",
        "colab_type": "text"
      },
      "source": [
        "<a href=\"https://colab.research.google.com/github/akash-soni/Data_Science_masters_pro/blob/python/6_oops_7th_oct.ipynb\" target=\"_parent\"><img src=\"https://colab.research.google.com/assets/colab-badge.svg\" alt=\"Open In Colab\"/></a>"
      ]
    },
    {
      "cell_type": "markdown",
      "id": "86b47d4f-860e-4702-83a0-0145887ab41a",
      "metadata": {
        "id": "86b47d4f-860e-4702-83a0-0145887ab41a"
      },
      "source": [
        "Problem 1: Bank Account Create a class representing a bank account with attributes like account number, account holder name, and balance. Implement methods to deposit and withdraw money from the account.\n",
        "\n"
      ]
    },
    {
      "cell_type": "code",
      "execution_count": null,
      "id": "fef1683a-faa4-4d27-a0a6-7a742e512e9b",
      "metadata": {
        "id": "fef1683a-faa4-4d27-a0a6-7a742e512e9b"
      },
      "outputs": [],
      "source": [
        "class BankAccount:\n",
        "    def __init__(self, account_number, account_holder_name, balance=0):\n",
        "        self.account_number = account_number\n",
        "        self.account_holder_name = account_holder_name\n",
        "        self.balance = balance\n",
        "\n",
        "    def deposit(self, amount):\n",
        "        if amount > 0:\n",
        "            self.balance += amount\n",
        "            return True\n",
        "        else:\n",
        "            print(\"Invalid deposit amount. Please enter a positive value.\")\n",
        "            return False\n",
        "\n",
        "    def withdraw(self, amount):\n",
        "        if 0 < amount <= self.balance:\n",
        "            self.balance -= amount\n",
        "            return True\n",
        "        else:\n",
        "            print(\"Insufficient balance.\")\n",
        "            return False\n",
        "\n",
        "    def get_balance(self):\n",
        "        return self.balance\n",
        "\n",
        "    def get_account_details(self):\n",
        "        return f\"Account Number: {self.account_number}, Account Holder Name: {self.account_holder_name}, Balance: {self.balance}\"\n"
      ]
    },
    {
      "cell_type": "code",
      "source": [
        "account = BankAccount(\"4503\", \"Akash\", 10000)\n",
        "\n",
        "print(account.get_account_details())\n"
      ],
      "metadata": {
        "colab": {
          "base_uri": "https://localhost:8080/"
        },
        "id": "rmbFrJ6wkDsA",
        "outputId": "b17467d9-6a23-4398-e6f2-d405484d5b66"
      },
      "id": "rmbFrJ6wkDsA",
      "execution_count": null,
      "outputs": [
        {
          "output_type": "stream",
          "name": "stdout",
          "text": [
            "Account Number: 4503, Account Holder Name: Akash, Balance: 10000\n"
          ]
        }
      ]
    },
    {
      "cell_type": "code",
      "source": [
        "account.deposit(15000)\n",
        "print(account.get_balance())\n",
        "\n"
      ],
      "metadata": {
        "colab": {
          "base_uri": "https://localhost:8080/"
        },
        "id": "uY82p6PRkjEK",
        "outputId": "c37eda8f-e94b-4e0f-b3a5-7bb1ef9c6278"
      },
      "id": "uY82p6PRkjEK",
      "execution_count": null,
      "outputs": [
        {
          "output_type": "stream",
          "name": "stdout",
          "text": [
            "25000\n"
          ]
        }
      ]
    },
    {
      "cell_type": "code",
      "source": [
        "account.withdraw(200)\n",
        "print(account.get_balance())  # 1300\n",
        "\n"
      ],
      "metadata": {
        "id": "Kf6lScY7koe7"
      },
      "id": "Kf6lScY7koe7",
      "execution_count": null,
      "outputs": []
    },
    {
      "cell_type": "code",
      "source": [
        "account.withdraw(35000)"
      ],
      "metadata": {
        "colab": {
          "base_uri": "https://localhost:8080/"
        },
        "id": "y0568gQAkzgZ",
        "outputId": "485425f5-01fd-4ebc-d397-6d694deea16e"
      },
      "id": "y0568gQAkzgZ",
      "execution_count": null,
      "outputs": [
        {
          "output_type": "stream",
          "name": "stdout",
          "text": [
            "Insufficient balance.\n"
          ]
        },
        {
          "output_type": "execute_result",
          "data": {
            "text/plain": [
              "False"
            ]
          },
          "metadata": {},
          "execution_count": 5
        }
      ]
    },
    {
      "cell_type": "markdown",
      "source": [
        "Problem 2: Employee Management Create a class representing an employee with attributes like employee ID, name, and salary. Implement methods to calculate the yearly bonus and display employee details.\n",
        "\n"
      ],
      "metadata": {
        "id": "SMXO-V0rVteU"
      },
      "id": "SMXO-V0rVteU"
    },
    {
      "cell_type": "code",
      "source": [
        "class Employee:\n",
        "    def __init__(self, employee_id, name, salary):\n",
        "        self.employee_id = employee_id\n",
        "        self.name = name\n",
        "        self.salary = salary\n",
        "\n",
        "    def calculate_yearly_bonus(self, bonus_percentage):\n",
        "        if bonus_percentage > 0:\n",
        "            bonus_amount = (bonus_percentage / 100) * self.salary\n",
        "            return bonus_amount\n",
        "        else:\n",
        "            return 0\n",
        "\n",
        "    def display_employee_details(self):\n",
        "        return f\"Employee ID: {self.employee_id}, Name: {self.name}, Salary: {self.salary}\"\n",
        "\n"
      ],
      "metadata": {
        "id": "BV5SpHBtaOfU"
      },
      "id": "BV5SpHBtaOfU",
      "execution_count": null,
      "outputs": []
    },
    {
      "cell_type": "code",
      "source": [
        "emp = Employee(101, \"Akash\", 50000)"
      ],
      "metadata": {
        "id": "YLfDd8MFo_vv"
      },
      "id": "YLfDd8MFo_vv",
      "execution_count": null,
      "outputs": []
    },
    {
      "cell_type": "code",
      "source": [
        "emp.calculate_yearly_bonus(10)"
      ],
      "metadata": {
        "colab": {
          "base_uri": "https://localhost:8080/"
        },
        "id": "3Ue0IHA_pLt-",
        "outputId": "194c6480-eb25-4392-a7f2-a33e1b66ec2c"
      },
      "id": "3Ue0IHA_pLt-",
      "execution_count": null,
      "outputs": [
        {
          "output_type": "execute_result",
          "data": {
            "text/plain": [
              "5000.0"
            ]
          },
          "metadata": {},
          "execution_count": 9
        }
      ]
    },
    {
      "cell_type": "code",
      "source": [
        "emp.display_employee_details()"
      ],
      "metadata": {
        "colab": {
          "base_uri": "https://localhost:8080/",
          "height": 35
        },
        "id": "JiZJhXC6plV1",
        "outputId": "0976cbda-605c-43bf-ddd2-ffec62635831"
      },
      "id": "JiZJhXC6plV1",
      "execution_count": null,
      "outputs": [
        {
          "output_type": "execute_result",
          "data": {
            "text/plain": [
              "'Employee ID: 101, Name: Akash, Salary: 50000'"
            ],
            "application/vnd.google.colaboratory.intrinsic+json": {
              "type": "string"
            }
          },
          "metadata": {},
          "execution_count": 10
        }
      ]
    },
    {
      "cell_type": "markdown",
      "source": [
        "Problem 3: Vehicle Rental Create a class representing a vehicle rental system. Implement methods to rent a vehicle, return a vehicle, and display available vehicles.\n",
        "\n"
      ],
      "metadata": {
        "id": "lpsTAgAsaGsB"
      },
      "id": "lpsTAgAsaGsB"
    },
    {
      "cell_type": "code",
      "source": [
        "class VehicleRentalSystem:\n",
        "    def __init__(self, vehicles):\n",
        "        self.available_vehicles = vehicles\n",
        "        self.rented_vehicles = []\n",
        "\n",
        "    def rent_vehicle(self, vehicle_id):\n",
        "        for vehicle in self.available_vehicles:\n",
        "            if vehicle['id'] == vehicle_id:\n",
        "                rented_vehicle = self.available_vehicles.pop(self.available_vehicles.index(vehicle))\n",
        "                self.rented_vehicles.append(rented_vehicle)\n",
        "                print(f\"Vehicle with ID {vehicle_id} has been rented.\")\n",
        "                break\n",
        "        else:\n",
        "            print(f\"No vehicle with ID {vehicle_id} is available for rent.\")\n",
        "\n",
        "    def return_vehicle(self, vehicle_id):\n",
        "        for vehicle in self.rented_vehicles:\n",
        "            if vehicle['id'] == vehicle_id:\n",
        "                returned_vehicle = self.rented_vehicles.pop(self.rented_vehicles.index(vehicle))\n",
        "                self.available_vehicles.append(returned_vehicle)\n",
        "                print(f\"Vehicle with ID {vehicle_id} has been returned.\")\n",
        "                break\n",
        "        else:\n",
        "            print(f\"No rented vehicle with ID {vehicle_id} found.\")\n",
        "\n",
        "    def display_available_vehicles(self):\n",
        "        print(\"Available Vehicles:\")\n",
        "        for vehicle in self.available_vehicles:\n",
        "            print(f\"ID: {vehicle['id']}, Type: {vehicle['type']}, Model: {vehicle['model']}\")"
      ],
      "metadata": {
        "id": "DflEAGOwVuuK"
      },
      "id": "DflEAGOwVuuK",
      "execution_count": null,
      "outputs": []
    },
    {
      "cell_type": "code",
      "source": [
        "vehicles = [\n",
        "    {'id': 1, 'type': 'Car', 'model': 'Toyota'},\n",
        "    {'id': 2, 'type': 'Motorcycle', 'model': 'Honda'},\n",
        "    {'id': 3, 'type': 'Bicycle', 'model': 'Trek'},\n",
        "]\n",
        "\n",
        "rental_system = VehicleRentalSystem(vehicles)\n",
        "# Display initial available vehicles\n",
        "rental_system.display_available_vehicles()\n",
        "\n"
      ],
      "metadata": {
        "colab": {
          "base_uri": "https://localhost:8080/"
        },
        "id": "aT9jsPpB0hQU",
        "outputId": "8c943a95-fa77-4a81-f427-cc20e771ceaf"
      },
      "id": "aT9jsPpB0hQU",
      "execution_count": null,
      "outputs": [
        {
          "output_type": "stream",
          "name": "stdout",
          "text": [
            "Available Vehicles:\n",
            "ID: 1, Type: Car, Model: Toyota\n",
            "ID: 2, Type: Motorcycle, Model: Honda\n",
            "ID: 3, Type: Bicycle, Model: Trek\n"
          ]
        }
      ]
    },
    {
      "cell_type": "code",
      "source": [
        "# Rent a vehicle with ID 2\n",
        "rental_system.rent_vehicle(2)"
      ],
      "metadata": {
        "colab": {
          "base_uri": "https://localhost:8080/"
        },
        "id": "Dg3XWVH11aZq",
        "outputId": "52236434-9347-4b7e-ed40-3ff848fabe4a"
      },
      "id": "Dg3XWVH11aZq",
      "execution_count": null,
      "outputs": [
        {
          "output_type": "stream",
          "name": "stdout",
          "text": [
            "Vehicle with ID 2 has been rented.\n"
          ]
        }
      ]
    },
    {
      "cell_type": "code",
      "source": [
        "# Display updated available vehicles\n",
        "rental_system.display_available_vehicles()\n",
        "\n"
      ],
      "metadata": {
        "colab": {
          "base_uri": "https://localhost:8080/"
        },
        "id": "yXYoJZML1k3T",
        "outputId": "5e28012d-5068-4bb5-ac6f-2f38f586a2d3"
      },
      "id": "yXYoJZML1k3T",
      "execution_count": null,
      "outputs": [
        {
          "output_type": "stream",
          "name": "stdout",
          "text": [
            "Available Vehicles:\n",
            "ID: 1, Type: Car, Model: Toyota\n",
            "ID: 3, Type: Bicycle, Model: Trek\n"
          ]
        }
      ]
    },
    {
      "cell_type": "code",
      "source": [
        "# Return the rented vehicle with ID 2\n",
        "rental_system.return_vehicle(2)\n"
      ],
      "metadata": {
        "colab": {
          "base_uri": "https://localhost:8080/"
        },
        "id": "VBSa72di1ljB",
        "outputId": "7e504291-bdbb-4ec1-9ac4-0362a0b69451"
      },
      "id": "VBSa72di1ljB",
      "execution_count": null,
      "outputs": [
        {
          "output_type": "stream",
          "name": "stdout",
          "text": [
            "Vehicle with ID 2 has been returned.\n"
          ]
        }
      ]
    },
    {
      "cell_type": "code",
      "source": [
        "# Display available vehicles after return\n",
        "rental_system.display_available_vehicles()"
      ],
      "metadata": {
        "colab": {
          "base_uri": "https://localhost:8080/"
        },
        "id": "Zb0gTkyP2J-W",
        "outputId": "273c9eea-ce3f-4e12-e96f-8d1c0b520091"
      },
      "id": "Zb0gTkyP2J-W",
      "execution_count": null,
      "outputs": [
        {
          "output_type": "stream",
          "name": "stdout",
          "text": [
            "Available Vehicles:\n",
            "ID: 1, Type: Car, Model: Toyota\n",
            "ID: 3, Type: Bicycle, Model: Trek\n",
            "ID: 2, Type: Motorcycle, Model: Honda\n"
          ]
        }
      ]
    },
    {
      "cell_type": "markdown",
      "source": [
        "Problem 4: Library Catalog Create classes representing a library and a book. Implement methods to add books to the library, borrow books, and display available books.\n",
        "\n"
      ],
      "metadata": {
        "id": "ZGsmYIWGaRU7"
      },
      "id": "ZGsmYIWGaRU7"
    },
    {
      "cell_type": "code",
      "source": [
        "class Book:\n",
        "    def __init__(self, title, author, book_id):\n",
        "        self.title = title\n",
        "        self.author = author\n",
        "        self.book_id = book_id\n",
        "        self.is_borrowed = False\n",
        "\n",
        "    def __str__(self):\n",
        "        return f\"Title: {self.title} - Author: {self.author} - Book ID: {self.book_id}\"\n",
        "\n",
        "\n",
        "class Library:\n",
        "    def __init__(self):\n",
        "        self.books = []\n",
        "\n",
        "    def add_book(self, book):\n",
        "        self.books.append(book)\n",
        "\n",
        "    def borrow_book(self, book_id):\n",
        "        for book in self.books:\n",
        "            if book.book_id == book_id:\n",
        "                if not book.is_borrowed:\n",
        "                    book.is_borrowed = True\n",
        "                    print(f\"Book with ID {book_id} has been borrowed.\")\n",
        "                else:\n",
        "                    print(f\"Book with ID {book_id} is already borrowed.\")\n",
        "                break\n",
        "        else:\n",
        "            print(f\"No book with ID {book_id} found in the library.\")\n",
        "\n",
        "    def display_available_books(self):\n",
        "        available_books = [book for book in self.books if not book.is_borrowed]\n",
        "        if available_books:\n",
        "            for book in available_books:\n",
        "                print(book)\n",
        "        else:\n",
        "            print(\"No available books in the library.\")"
      ],
      "metadata": {
        "id": "R3CbEy3WaRsv"
      },
      "id": "R3CbEy3WaRsv",
      "execution_count": null,
      "outputs": []
    },
    {
      "cell_type": "code",
      "source": [
        "book1 = Book(\"You Can\", \"George Matthew Adams\", 1)\n",
        "book2 = Book(\"Hands-On Machine Learning\", \"Aureline geron\", 2)\n",
        "book3 = Book(\"The Power of Your Subconscious Mind\", \"Joseph Murphy\", 3)\n",
        "\n",
        "library = Library()\n",
        "library.add_book(book1)\n",
        "library.add_book(book2)\n",
        "library.add_book(book3)\n"
      ],
      "metadata": {
        "id": "LtS_hLHU7kvx"
      },
      "id": "LtS_hLHU7kvx",
      "execution_count": null,
      "outputs": []
    },
    {
      "cell_type": "code",
      "source": [
        "library.display_available_books()"
      ],
      "metadata": {
        "colab": {
          "base_uri": "https://localhost:8080/"
        },
        "id": "owMs_V9q7k4z",
        "outputId": "8fedbb35-e450-43ae-bff9-cc96f77de44f"
      },
      "id": "owMs_V9q7k4z",
      "execution_count": null,
      "outputs": [
        {
          "output_type": "stream",
          "name": "stdout",
          "text": [
            "Title: You Can - Author: George Matthew Adams - Book ID: 1\n",
            "Title: Hands-On Machine Learning - Author: Aureline geron - Book ID: 2\n",
            "Title: The Power of Your Subconscious Mind - Author: Joseph Murphy - Book ID: 3\n"
          ]
        }
      ]
    },
    {
      "cell_type": "code",
      "source": [
        "library.borrow_book(2)\n",
        "library.borrow_book(3)\n",
        "library.borrow_book(4)\n",
        "\n"
      ],
      "metadata": {
        "colab": {
          "base_uri": "https://localhost:8080/"
        },
        "id": "TQ_vJFfG9Aec",
        "outputId": "f9e265da-47a4-4a51-d4db-1062e2ff0145"
      },
      "id": "TQ_vJFfG9Aec",
      "execution_count": null,
      "outputs": [
        {
          "output_type": "stream",
          "name": "stdout",
          "text": [
            "Book with ID 2 has been borrowed.\n",
            "Book with ID 3 has been borrowed.\n",
            "No book with ID 4 found in the library.\n"
          ]
        }
      ]
    },
    {
      "cell_type": "code",
      "source": [
        "library.display_available_books()"
      ],
      "metadata": {
        "colab": {
          "base_uri": "https://localhost:8080/"
        },
        "id": "ddYzYMs-9DV-",
        "outputId": "885a74b6-d81d-47e9-f000-deaff2e6e384"
      },
      "id": "ddYzYMs-9DV-",
      "execution_count": null,
      "outputs": [
        {
          "output_type": "stream",
          "name": "stdout",
          "text": [
            "Title: You Can - Author: George Matthew Adams - Book ID: 1\n"
          ]
        }
      ]
    },
    {
      "cell_type": "markdown",
      "source": [
        "Problem 5: Product Inventory Create classes representing a product and an inventory system. Implement methods to add products to the inventory, update product quantity, and display available products.\n",
        "\n"
      ],
      "metadata": {
        "id": "8HjYjzP1aUll"
      },
      "id": "8HjYjzP1aUll"
    },
    {
      "cell_type": "code",
      "source": [
        "class Product:\n",
        "    def __init__(self, product_id, name, price, quantity):\n",
        "        self.product_id = product_id\n",
        "        self.name = name\n",
        "        self.price = price\n",
        "        self.quantity = quantity\n",
        "\n",
        "    def __str__(self):\n",
        "        return f\"Product ID: {self.product_id}, Name: {self.name}, Price: {self.price}, Quantity: {self.quantity}\"\n",
        "\n",
        "\n",
        "class Inventory:\n",
        "    def __init__(self):\n",
        "        self.products = []\n",
        "\n",
        "    def add_product(self, product):\n",
        "        self.products.append(product)\n",
        "\n",
        "    def update_product_quantity(self, product_id, quantity):\n",
        "        for product in self.products:\n",
        "            if product.product_id == product_id:\n",
        "                product.quantity += quantity\n",
        "                print(f\"Product quantity updated for Product ID {product_id}.\")\n",
        "                break\n",
        "        else:\n",
        "            print(f\"No product with ID {product_id} found in the inventory.\")\n",
        "\n",
        "    def display_available_products(self):\n",
        "        if self.products:\n",
        "            for product in self.products:\n",
        "                print(product)\n",
        "        else:\n",
        "            print(\"No products in the inventory.\")"
      ],
      "metadata": {
        "id": "Bn78sa4XaUyh"
      },
      "id": "Bn78sa4XaUyh",
      "execution_count": null,
      "outputs": []
    },
    {
      "cell_type": "code",
      "source": [
        "product1 = Product(1, \"Keyboard\", 20, 50)\n",
        "product2 = Product(2, \"Mouse\", 10, 100)\n",
        "product3 = Product(3, \"Monitor\", 100, 20)\n",
        "\n",
        "inventory = Inventory()\n",
        "inventory.add_product(product1)\n",
        "inventory.add_product(product2)\n",
        "inventory.add_product(product3)\n",
        "\n"
      ],
      "metadata": {
        "id": "f7ifMqZk9jae"
      },
      "id": "f7ifMqZk9jae",
      "execution_count": null,
      "outputs": []
    },
    {
      "cell_type": "code",
      "source": [
        "inventory.display_available_products()"
      ],
      "metadata": {
        "colab": {
          "base_uri": "https://localhost:8080/"
        },
        "id": "iXHm8AN3-gDt",
        "outputId": "797cb420-c722-4f73-8d3d-59f6cb88daae"
      },
      "id": "iXHm8AN3-gDt",
      "execution_count": null,
      "outputs": [
        {
          "output_type": "stream",
          "name": "stdout",
          "text": [
            "Product ID: 1, Name: Keyboard, Price: 20, Quantity: 50\n",
            "Product ID: 2, Name: Mouse, Price: 10, Quantity: 100\n",
            "Product ID: 3, Name: Monitor, Price: 100, Quantity: 20\n"
          ]
        }
      ]
    },
    {
      "cell_type": "code",
      "source": [
        "inventory.update_product_quantity(2, -50)\n",
        "inventory.update_product_quantity(3, 10)"
      ],
      "metadata": {
        "colab": {
          "base_uri": "https://localhost:8080/"
        },
        "id": "2DQUMcWR-mjF",
        "outputId": "a060c5ce-a7a7-40ae-eb46-8615b88da8fe"
      },
      "id": "2DQUMcWR-mjF",
      "execution_count": null,
      "outputs": [
        {
          "output_type": "stream",
          "name": "stdout",
          "text": [
            "Product quantity updated for Product ID 2.\n",
            "Product quantity updated for Product ID 3.\n"
          ]
        }
      ]
    },
    {
      "cell_type": "code",
      "source": [
        "inventory.display_available_products()"
      ],
      "metadata": {
        "colab": {
          "base_uri": "https://localhost:8080/"
        },
        "id": "EBCQI8zH-sWi",
        "outputId": "767b6e1b-1d41-4629-aca8-722b8fa31430"
      },
      "id": "EBCQI8zH-sWi",
      "execution_count": null,
      "outputs": [
        {
          "output_type": "stream",
          "name": "stdout",
          "text": [
            "Product ID: 1, Name: Keyboard, Price: 20, Quantity: 50\n",
            "Product ID: 2, Name: Mouse, Price: 10, Quantity: 50\n",
            "Product ID: 3, Name: Monitor, Price: 100, Quantity: 30\n"
          ]
        }
      ]
    },
    {
      "cell_type": "markdown",
      "source": [
        "Problem 6: Shape Calculation Create a class representing a shape with attributes like length, width, and height. Implement methods to calculate the area and perimeter of the shape.\n",
        "\n"
      ],
      "metadata": {
        "id": "W4fnqjGuaX98"
      },
      "id": "W4fnqjGuaX98"
    },
    {
      "cell_type": "code",
      "source": [
        "class Shape:\n",
        "    def __init__(self, length, width=None, height=None):\n",
        "        self.length = length\n",
        "        self.width = width\n",
        "        self.height = height\n",
        "\n",
        "    def calculate_area(self):\n",
        "        pass\n",
        "\n",
        "    def calculate_perimeter(self):\n",
        "        pass\n",
        "\n",
        "\n",
        "class Rectangle(Shape):\n",
        "    def calculate_area(self):\n",
        "        return self.length * self.width\n",
        "\n",
        "    def calculate_perimeter(self):\n",
        "        return 2 * (self.length + self.width)\n",
        "\n",
        "\n",
        "class Square(Shape):\n",
        "    def calculate_area(self):\n",
        "        return self.length * self.length\n",
        "\n",
        "    def calculate_perimeter(self):\n",
        "        return 4 * self.length\n",
        "\n",
        "\n",
        "class Triangle(Shape):\n",
        "    def calculate_area(self):\n",
        "        base = self.length\n",
        "        return 0.5 * base * self.height\n",
        "\n",
        "    def calculate_perimeter(self):\n",
        "        side1 = self.length\n",
        "        side2 = self.height\n",
        "        side3 = self.width\n",
        "        return side1 + side2 + side3"
      ],
      "metadata": {
        "id": "m02CpqODaYII"
      },
      "id": "m02CpqODaYII",
      "execution_count": null,
      "outputs": []
    },
    {
      "cell_type": "code",
      "source": [
        "rectangle = Rectangle(5, 3)\n",
        "print(f\"Rectangle Area: {rectangle.calculate_area()}\")\n",
        "print(f\"Rectangle Perimeter: {rectangle.calculate_perimeter()}\")\n",
        "\n",
        "square = Square(4)\n",
        "print(f\"Square Area: {square.calculate_area()}\")\n",
        "print(f\"Square Perimeter: {square.calculate_perimeter()}\")\n",
        "\n",
        "triangle = Triangle(5, 4, 3)\n",
        "print(f\"Triangle Area: {triangle.calculate_area()}\")\n",
        "print(f\"Triangle Perimeter: {triangle.calculate_perimeter()}\")"
      ],
      "metadata": {
        "colab": {
          "base_uri": "https://localhost:8080/"
        },
        "id": "jn97IKQYAkG0",
        "outputId": "8ec30c61-2fb4-4630-ff33-40c9ef8d3f2d"
      },
      "id": "jn97IKQYAkG0",
      "execution_count": null,
      "outputs": [
        {
          "output_type": "stream",
          "name": "stdout",
          "text": [
            "Rectangle Area: 15\n",
            "Rectangle Perimeter: 16\n",
            "Square Area: 16\n",
            "Square Perimeter: 16\n",
            "Triangle Area: 7.5\n",
            "Triangle Perimeter: 12\n"
          ]
        }
      ]
    },
    {
      "cell_type": "markdown",
      "source": [
        "Problem 7: Student Management Create a class representing a student with attributes like student ID, name, and grades. Implement methods to calculate the average grade and display student details.\n",
        "\n"
      ],
      "metadata": {
        "id": "sFDkq1m0aah_"
      },
      "id": "sFDkq1m0aah_"
    },
    {
      "cell_type": "code",
      "source": [
        "class Student:\n",
        "    def __init__(self, student_id, name, grades):\n",
        "        self.student_id = student_id\n",
        "        self.name = name\n",
        "        self.grades = grades\n",
        "\n",
        "    def calculate_average_grade(self):\n",
        "        if self.grades:\n",
        "            return sum(self.grades) / len(self.grades)\n",
        "        else:\n",
        "            return 0\n",
        "\n",
        "    def display_student_details(self):\n",
        "        print(f\"Student ID: {self.student_id}, Name: {self.name}\")\n",
        "        if self.grades:\n",
        "            print(f\"Grades: {', '.join(str(grade) for grade in self.grades)}\")\n",
        "            print(f\"Average Grade: {self.calculate_average_grade()}\")\n",
        "        else:\n",
        "            print(\"No grades available for this student.\")"
      ],
      "metadata": {
        "id": "a9L9PK0haauk"
      },
      "id": "a9L9PK0haauk",
      "execution_count": null,
      "outputs": []
    },
    {
      "cell_type": "code",
      "source": [
        "student1 = Student(1, \"Akash soni\", [85, 90, 92, 88, 75])\n",
        "student2 = Student(2, \"Abhishek Mathur\", [78, 86, 80, 92, 88])\n",
        "student3 = Student(3, \"Sunny\", [])"
      ],
      "metadata": {
        "id": "U5fBqv7BDTTr"
      },
      "id": "U5fBqv7BDTTr",
      "execution_count": null,
      "outputs": []
    },
    {
      "cell_type": "code",
      "source": [
        "student1.display_student_details()\n",
        "student2.display_student_details()\n",
        "student3.display_student_details()"
      ],
      "metadata": {
        "colab": {
          "base_uri": "https://localhost:8080/"
        },
        "id": "qvq74SSQDXp3",
        "outputId": "cac45685-ed06-4076-c316-016fc9fa4012"
      },
      "id": "qvq74SSQDXp3",
      "execution_count": null,
      "outputs": [
        {
          "output_type": "stream",
          "name": "stdout",
          "text": [
            "Student ID: 1, Name: Akash soni\n",
            "Grades: 85, 90, 92, 88, 75\n",
            "Average Grade: 86.0\n",
            "Student ID: 2, Name: Abhishek Mathur\n",
            "Grades: 78, 86, 80, 92, 88\n",
            "Average Grade: 84.8\n",
            "Student ID: 3, Name: Sunny\n",
            "No grades available for this student.\n"
          ]
        }
      ]
    },
    {
      "cell_type": "markdown",
      "source": [
        "Problem 8: Email Management Create a class representing an email with attributes like sender, recipient, and subject. Implement methods to send an email and display email details.\n",
        "\n"
      ],
      "metadata": {
        "id": "j1DmbkOQadpZ"
      },
      "id": "j1DmbkOQadpZ"
    },
    {
      "cell_type": "code",
      "source": [
        "class Email:\n",
        "    def __init__(self, sender, recipient, subject, message):\n",
        "        self.sender = sender\n",
        "        self.recipient = recipient\n",
        "        self.subject = subject\n",
        "        self.message = message\n",
        "\n",
        "    def send_email(self):\n",
        "        print(f\"Email sent from {self.sender} to {self.recipient}\")\n",
        "\n",
        "    def display_email_details(self):\n",
        "        print(f\"Sender: {self.sender}\")\n",
        "        print(f\"Recipient: {self.recipient}\")\n",
        "        print(f\"Subject: {self.subject}\")\n",
        "        print(f\"Message: {self.message}\")\n"
      ],
      "metadata": {
        "id": "qMGQnl1Bad7Q"
      },
      "id": "qMGQnl1Bad7Q",
      "execution_count": 2,
      "outputs": []
    },
    {
      "cell_type": "code",
      "source": [
        "email = Email(\"abcd@gmail.com\", \"wxyz@gmail.com\", \"Hello\", \"This is a test email.\")\n",
        "\n",
        "email.send_email()\n",
        "email.display_email_details()"
      ],
      "metadata": {
        "colab": {
          "base_uri": "https://localhost:8080/"
        },
        "id": "9lhF5-yzolzv",
        "outputId": "cf433224-4a01-45be-dd11-0b85b596575e"
      },
      "id": "9lhF5-yzolzv",
      "execution_count": 3,
      "outputs": [
        {
          "output_type": "stream",
          "name": "stdout",
          "text": [
            "Email sent from abcd@gmail.com to wxyz@gmail.com\n",
            "Sender: abcd@gmail.com\n",
            "Recipient: wxyz@gmail.com\n",
            "Subject: Hello\n",
            "Message: This is a test email.\n"
          ]
        }
      ]
    },
    {
      "cell_type": "markdown",
      "source": [
        "Problem 9: Social Media Profile Create a class representing a social media profile with attributes like username and posts. Implement methods to add posts, display posts, and search for posts by keyword.\n",
        "\n"
      ],
      "metadata": {
        "id": "WqxCo26XagbU"
      },
      "id": "WqxCo26XagbU"
    },
    {
      "cell_type": "code",
      "source": [
        "class SocialMediaProfile:\n",
        "    def __init__(self, username):\n",
        "        self.username = username\n",
        "        self.posts = []\n",
        "\n",
        "    def add_post(self, post_content):\n",
        "        self.posts.append(post_content)\n",
        "\n",
        "    def display_posts(self):\n",
        "        if self.posts:\n",
        "            print(f\"Posts for {self.username}:\")\n",
        "            for i, post in enumerate(self.posts, start=1):\n",
        "                print(f\"Post {i}: {post}\")\n",
        "        else:\n",
        "            print(\"No posts to display.\")\n",
        "\n",
        "    def search_posts(self, keyword):\n",
        "        matching_posts = [post for post in self.posts if keyword in post]\n",
        "        if matching_posts:\n",
        "            print(f\"Matching posts for keyword '{keyword}':\")\n",
        "            for i, post in enumerate(matching_posts, start=1):\n",
        "                print(f\"Matching Post {i}: {post}\")\n",
        "        else:\n",
        "            print(f\"No posts found containing the keyword '{keyword}'.\")\n"
      ],
      "metadata": {
        "id": "OkFct93oaiKK"
      },
      "id": "OkFct93oaiKK",
      "execution_count": 4,
      "outputs": []
    },
    {
      "cell_type": "code",
      "source": [
        "profile = SocialMediaProfile(\"john_doe\")\n",
        "profile.add_post(\"Just had a great day at the beach!\")\n",
        "profile.add_post(\"Enjoying my vacation in the mountains.\")\n",
        "profile.add_post(\"Trying out new adventurous sports.\")"
      ],
      "metadata": {
        "id": "5zWZImLwppaR"
      },
      "id": "5zWZImLwppaR",
      "execution_count": 5,
      "outputs": []
    },
    {
      "cell_type": "code",
      "source": [
        "profile.display_posts()\n"
      ],
      "metadata": {
        "colab": {
          "base_uri": "https://localhost:8080/"
        },
        "id": "1u8tVi2DptiM",
        "outputId": "00740808-16de-48ab-a1fd-472733cb3edc"
      },
      "id": "1u8tVi2DptiM",
      "execution_count": 6,
      "outputs": [
        {
          "output_type": "stream",
          "name": "stdout",
          "text": [
            "Posts for john_doe:\n",
            "Post 1: Just had a great day at the beach!\n",
            "Post 2: Enjoying my vacation in the mountains.\n",
            "Post 3: Trying out new adventurous sports.\n"
          ]
        }
      ]
    },
    {
      "cell_type": "code",
      "source": [
        "\n",
        "profile.search_posts(\"vacation\")"
      ],
      "metadata": {
        "colab": {
          "base_uri": "https://localhost:8080/"
        },
        "id": "20qjOqhCpvxK",
        "outputId": "ea7bb418-9fed-4c21-f837-6b052542ba47"
      },
      "id": "20qjOqhCpvxK",
      "execution_count": 7,
      "outputs": [
        {
          "output_type": "stream",
          "name": "stdout",
          "text": [
            "Matching posts for keyword 'vacation':\n",
            "Matching Post 1: Enjoying my vacation in the mountains.\n"
          ]
        }
      ]
    },
    {
      "cell_type": "markdown",
      "source": [
        "Problem 10: ToDo List Create a class representing a ToDo list with attributes like tasks and due dates. Implement methods to add tasks, mark tasks as completed, and display pending tasks."
      ],
      "metadata": {
        "id": "lihe6qyraiux"
      },
      "id": "lihe6qyraiux"
    },
    {
      "cell_type": "code",
      "source": [
        "class ToDoList:\n",
        "    def __init__(self):\n",
        "        self.tasks = {}\n",
        "\n",
        "    def add_task(self, task, due_date):\n",
        "        self.tasks[task] = due_date\n",
        "\n",
        "    def mark_task_completed(self, task):\n",
        "        if task in self.tasks:\n",
        "            del self.tasks[task]\n",
        "            print(f\"Task '{task}' marked as completed.\")\n",
        "        else:\n",
        "            print(f\"Task '{task}' not found.\")\n",
        "\n",
        "    def display_pending_tasks(self):\n",
        "        if self.tasks:\n",
        "            print(\"Pending tasks:\")\n",
        "            for task, due_date in self.tasks.items():\n",
        "                print(f\"Task: {task}, Due Date: {due_date}\")\n",
        "        else:\n",
        "            print(\"No pending tasks.\")"
      ],
      "metadata": {
        "id": "5-gJZFvpai-f"
      },
      "id": "5-gJZFvpai-f",
      "execution_count": 8,
      "outputs": []
    },
    {
      "cell_type": "code",
      "source": [
        "todo_list = ToDoList()\n",
        "todo_list.add_task(\"Complete report\", \"2023-10-31\")\n",
        "todo_list.add_task(\"Buy groceries\", \"2023-10-20\")\n",
        "todo_list.add_task(\"Call mom\", \"2023-10-25\")\n",
        "\n"
      ],
      "metadata": {
        "id": "QomCTe7sq2Ln"
      },
      "id": "QomCTe7sq2Ln",
      "execution_count": 9,
      "outputs": []
    },
    {
      "cell_type": "code",
      "source": [
        "todo_list.display_pending_tasks()\n"
      ],
      "metadata": {
        "colab": {
          "base_uri": "https://localhost:8080/"
        },
        "id": "TYxQ9jlmq4u9",
        "outputId": "20c54a6d-c7a3-4789-9c0c-8c591e791a3d"
      },
      "id": "TYxQ9jlmq4u9",
      "execution_count": 10,
      "outputs": [
        {
          "output_type": "stream",
          "name": "stdout",
          "text": [
            "Pending tasks:\n",
            "Task: Complete report, Due Date: 2023-10-31\n",
            "Task: Buy groceries, Due Date: 2023-10-20\n",
            "Task: Call mom, Due Date: 2023-10-25\n"
          ]
        }
      ]
    },
    {
      "cell_type": "code",
      "source": [
        "todo_list.mark_task_completed(\"Buy groceries\")\n",
        "\n"
      ],
      "metadata": {
        "colab": {
          "base_uri": "https://localhost:8080/"
        },
        "id": "9D1p50hmq6gY",
        "outputId": "c4a84f8d-41b2-4845-c632-be80eef63f6a"
      },
      "id": "9D1p50hmq6gY",
      "execution_count": 11,
      "outputs": [
        {
          "output_type": "stream",
          "name": "stdout",
          "text": [
            "Task 'Buy groceries' marked as completed.\n"
          ]
        }
      ]
    },
    {
      "cell_type": "code",
      "source": [
        "todo_list.display_pending_tasks()"
      ],
      "metadata": {
        "colab": {
          "base_uri": "https://localhost:8080/"
        },
        "id": "6mWf-BQUq9Mt",
        "outputId": "7dd415be-21fb-45cd-9607-d0d5db4fcc16"
      },
      "id": "6mWf-BQUq9Mt",
      "execution_count": 12,
      "outputs": [
        {
          "output_type": "stream",
          "name": "stdout",
          "text": [
            "Pending tasks:\n",
            "Task: Complete report, Due Date: 2023-10-31\n",
            "Task: Call mom, Due Date: 2023-10-25\n"
          ]
        }
      ]
    }
  ],
  "metadata": {
    "kernelspec": {
      "display_name": "Python 3 (ipykernel)",
      "language": "python",
      "name": "python3"
    },
    "language_info": {
      "codemirror_mode": {
        "name": "ipython",
        "version": 3
      },
      "file_extension": ".py",
      "mimetype": "text/x-python",
      "name": "python",
      "nbconvert_exporter": "python",
      "pygments_lexer": "ipython3",
      "version": "3.10.8"
    },
    "colab": {
      "provenance": [],
      "include_colab_link": true
    }
  },
  "nbformat": 4,
  "nbformat_minor": 5
}