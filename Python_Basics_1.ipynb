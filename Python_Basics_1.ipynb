{
  "nbformat": 4,
  "nbformat_minor": 0,
  "metadata": {
    "colab": {
      "provenance": [],
      "authorship_tag": "ABX9TyOAbdW8r2xj/lfd3u4j3iKj",
      "include_colab_link": true
    },
    "kernelspec": {
      "name": "python3",
      "display_name": "Python 3"
    },
    "language_info": {
      "name": "python"
    }
  },
  "cells": [
    {
      "cell_type": "markdown",
      "metadata": {
        "id": "view-in-github",
        "colab_type": "text"
      },
      "source": [
        "<a href=\"https://colab.research.google.com/github/akash-soni/Data_Science_masters_pro/blob/python/Python_Basics_1.ipynb\" target=\"_parent\"><img src=\"https://colab.research.google.com/assets/colab-badge.svg\" alt=\"Open In Colab\"/></a>"
      ]
    },
    {
      "cell_type": "markdown",
      "source": [
        "## TOPIC: Python Basics Variable"
      ],
      "metadata": {
        "id": "YBKKjH8XJAfn"
      }
    },
    {
      "cell_type": "markdown",
      "source": [
        "1. Declare two variables, `x` and `y`, and assign them integer values.\n",
        "Swap the values of these variables without using any temporary\n",
        "variable."
      ],
      "metadata": {
        "id": "YUY26HwnJGHt"
      }
    },
    {
      "cell_type": "code",
      "execution_count": 1,
      "metadata": {
        "colab": {
          "base_uri": "https://localhost:8080/"
        },
        "id": "knY3LAD5I1NH",
        "outputId": "f83646eb-7166-4017-8906-7c29be9dbe57"
      },
      "outputs": [
        {
          "output_type": "stream",
          "name": "stdout",
          "text": [
            "initial values of x = 10 and y = 20\n",
            "swapped values of x = 20 and y = 10\n"
          ]
        }
      ],
      "source": [
        "x = 10\n",
        "y = 20\n",
        "print(\"initial values of x = {} and y = {}\".format(x,y))\n",
        "x = x + y   # 10 + 20 = 30\n",
        "y = x - y   # 30 - 20 = 10 <-- value of y\n",
        "x = x - y   # 30 - 10 = 20 <-- value of x\n",
        "print(\"swapped values of x = {} and y = {}\".format(x,y))"
      ]
    },
    {
      "cell_type": "markdown",
      "source": [
        "2. Create a program that calculates the area of a rectangle. Take the\n",
        "length and width as inputs from the user and store them in variables.\n",
        "Calculate and display the area."
      ],
      "metadata": {
        "id": "DlhXwq54KYnq"
      }
    },
    {
      "cell_type": "code",
      "source": [
        "# get parameters\n",
        "length = eval(input(\"enter lenght of rectangle \"))\n",
        "width = eval(input(\"enter width of rectangle \"))\n",
        "\n",
        "# calculate area\n",
        "area = length * width\n",
        "\n",
        "# after calculating, simple print it in string\n",
        "print(\"Area of rectangle = \" + str(area))\n"
      ],
      "metadata": {
        "colab": {
          "base_uri": "https://localhost:8080/"
        },
        "id": "nFXH1h5SKX8K",
        "outputId": "5bda3998-8d1c-4387-8d27-a852fc69a004"
      },
      "execution_count": 5,
      "outputs": [
        {
          "output_type": "stream",
          "name": "stdout",
          "text": [
            "enter lenght of rectangle 45.7\n",
            "enter width of rectangle 4\n",
            "Area of rectangle = 182.8\n"
          ]
        }
      ]
    },
    {
      "cell_type": "markdown",
      "source": [
        "3. Write a Python program that converts temperature from Celsius to\n",
        "Fahrenheit. Take the temperature in Celsius as input, store it in a\n",
        "variable, convert it to Fahrenheit, and display the result."
      ],
      "metadata": {
        "id": "Ih1trfppL2Z4"
      }
    },
    {
      "cell_type": "code",
      "source": [
        "# Input temperature in Celsius\n",
        "celsius_temperature = float(input(\"Enter temperature in Celsius: \"))\n",
        "\n",
        "# Convert Celsius to Fahrenheit\n",
        "fahrenheit_temperature = (celsius_temperature * 9/5) + 32\n",
        "\n",
        "# Display the result\n",
        "print(f\"{celsius_temperature} degrees Celsius is equal to {fahrenheit_temperature:.2f} degrees Fahrenheit.\")"
      ],
      "metadata": {
        "colab": {
          "base_uri": "https://localhost:8080/"
        },
        "id": "5bRm6oR4L6zW",
        "outputId": "17352ee2-a65e-4ca8-c0e0-6de0a42fe8ff"
      },
      "execution_count": 6,
      "outputs": [
        {
          "output_type": "stream",
          "name": "stdout",
          "text": [
            "Enter temperature in Celsius: 50.43\n",
            "50.43 degrees Celsius is equal to 122.77 degrees Fahrenheit.\n"
          ]
        }
      ]
    },
    {
      "cell_type": "markdown",
      "source": [
        "- 'f' at the beginning of the string indicates that it's a formatted string, allowing you to embed expressions within curly braces {}\n",
        "- {celsius_temperature}: This expression is replaced with the value of the celsius_temperature variable\n",
        "- {fahrenheit_temperature:.2f}: ':.2f' means to format the floating-point number with two decimal places."
      ],
      "metadata": {
        "id": "BXOusUJPM0U7"
      }
    },
    {
      "cell_type": "markdown",
      "source": [
        "## TOPIC: String Based Questions"
      ],
      "metadata": {
        "id": "mwH3t_NYNfK0"
      }
    },
    {
      "cell_type": "markdown",
      "source": [
        "1. Write a Python program that takes a string as input and prints the\n",
        "length of the string."
      ],
      "metadata": {
        "id": "4QUh6-DHNs_z"
      }
    },
    {
      "cell_type": "code",
      "source": [
        "# Input a string\n",
        "user_input = input(\"Enter a string: \")\n",
        "\n",
        "# Calculate and print the length of the string\n",
        "length_of_string = len(user_input)\n",
        "print(f\"The length of the string is: {length_of_string}\")"
      ],
      "metadata": {
        "colab": {
          "base_uri": "https://localhost:8080/"
        },
        "id": "RVx-C37DN8tg",
        "outputId": "b2f8e4cb-8e2d-4848-d7d0-93857cba1ad3"
      },
      "execution_count": 7,
      "outputs": [
        {
          "output_type": "stream",
          "name": "stdout",
          "text": [
            "Enter a string: Akash soni\n",
            "The length of the string is: 10\n"
          ]
        }
      ]
    },
    {
      "cell_type": "markdown",
      "source": [
        "2. Create a program that takes a sentence from the user and counts the\n",
        "number of vowels (a, e, i, o, u) in the string."
      ],
      "metadata": {
        "id": "btyk2F1NNwEx"
      }
    },
    {
      "cell_type": "code",
      "source": [
        "# Input sentence\n",
        "user_input = input(\"Enter a sentence: \")\n",
        "\n",
        "# Convert the input to lowercase for case-insensitive counting\n",
        "lowercase_input = user_input.lower()\n",
        "\n",
        "# Initialize a variable to count vowels\n",
        "vowel_count = 0\n",
        "\n",
        "# Define the set of vowels\n",
        "vowels = {'a', 'e', 'i', 'o', 'u'}\n",
        "\n",
        "# Count the vowels in the input\n",
        "for char in lowercase_input:\n",
        "    if char in vowels:\n",
        "        vowel_count += 1\n",
        "\n",
        "# Display the vowel count\n",
        "print(f\"The number of vowels in the sentence is: {vowel_count}\")"
      ],
      "metadata": {
        "colab": {
          "base_uri": "https://localhost:8080/"
        },
        "id": "63SCYfiwOKxI",
        "outputId": "a59ed46b-82b7-41d6-d785-95ebeee7a65e"
      },
      "execution_count": 8,
      "outputs": [
        {
          "output_type": "stream",
          "name": "stdout",
          "text": [
            "Enter a sentence: Akash soni\n",
            "The number of vowels in the sentence is: 4\n"
          ]
        }
      ]
    },
    {
      "cell_type": "markdown",
      "source": [
        "3. Given a string, reverse the order of characters using string slicing and\n",
        "print the reversed string."
      ],
      "metadata": {
        "id": "9Uoy33LINyLh"
      }
    },
    {
      "cell_type": "code",
      "source": [
        "# Input a sentence\n",
        "user_input = input(\"Enter a sentence: \")\n",
        "\n",
        "# Reverse the string using slicing\n",
        "reverse = user_input[::-1]\n",
        "\n",
        "print(f\"reverse of {user_input} is {reverse}\")"
      ],
      "metadata": {
        "colab": {
          "base_uri": "https://localhost:8080/"
        },
        "id": "S77PjLaKOyK0",
        "outputId": "94eede98-78e7-4e5b-f8d2-0faab56cfa2f"
      },
      "execution_count": 2,
      "outputs": [
        {
          "output_type": "stream",
          "name": "stdout",
          "text": [
            "Enter a sentence: Akash soni\n",
            "reverse of Akash soni is inos hsakA\n"
          ]
        }
      ]
    },
    {
      "cell_type": "markdown",
      "source": [
        "4. Write a program that takes a string as input and checks if it is a\n",
        "palindrome (reads the same forwards and backwards)."
      ],
      "metadata": {
        "id": "4xMAuiQKN2X2"
      }
    },
    {
      "cell_type": "code",
      "source": [
        "def palindrome(user_input):\n",
        "  # Remove spaces and convert to lowercase for comparison\n",
        "  cleaned_input = user_input.replace(\" \", \"\").lower()\n",
        "\n",
        "  # Reverse the string using slicing\n",
        "  reverse = user_input[::-1]\n",
        "\n",
        "  if cleaned_input == reverse:\n",
        "    print(f\"String is palindrome | {cleaned_input} equal {reverse}\")\n",
        "  else:\n",
        "    print(f\"String is not palindrome  | {cleaned_input} not equal {reverse}\")\n"
      ],
      "metadata": {
        "id": "teZYaYwsPbkA"
      },
      "execution_count": 6,
      "outputs": []
    },
    {
      "cell_type": "code",
      "source": [
        "  # Input a sentence\n",
        "  user_input = input(\"Enter a sentence: \")\n",
        "  palindrome(user_input)"
      ],
      "metadata": {
        "colab": {
          "base_uri": "https://localhost:8080/"
        },
        "id": "D7DdsF9EU2L5",
        "outputId": "5040263b-d914-44af-fb08-0347c7bef635"
      },
      "execution_count": 7,
      "outputs": [
        {
          "output_type": "stream",
          "name": "stdout",
          "text": [
            "Enter a sentence: madam\n",
            "String is palindrome | madam equal madam\n"
          ]
        }
      ]
    },
    {
      "cell_type": "code",
      "source": [
        "  # Input a sentence\n",
        "  user_input = input(\"Enter a sentence: \")\n",
        "  palindrome(user_input)"
      ],
      "metadata": {
        "colab": {
          "base_uri": "https://localhost:8080/"
        },
        "id": "9Iu6Y2zBVEBP",
        "outputId": "0e2d5721-1230-4e73-8586-4c81db9b6a68"
      },
      "execution_count": 9,
      "outputs": [
        {
          "output_type": "stream",
          "name": "stdout",
          "text": [
            "Enter a sentence: radar\n",
            "String is palindrome | radar equal radar\n"
          ]
        }
      ]
    },
    {
      "cell_type": "code",
      "source": [
        "  # Input a sentence\n",
        "  user_input = input(\"Enter a sentence: \")\n",
        "  palindrome(user_input)"
      ],
      "metadata": {
        "colab": {
          "base_uri": "https://localhost:8080/"
        },
        "id": "8R06JbNLVV3u",
        "outputId": "9ac827f5-1d8b-45df-942c-85bec3c88efc"
      },
      "execution_count": 10,
      "outputs": [
        {
          "output_type": "stream",
          "name": "stdout",
          "text": [
            "Enter a sentence: akash\n",
            "String is not palindrome  | akash not equal hsaka\n"
          ]
        }
      ]
    },
    {
      "cell_type": "markdown",
      "source": [
        "5. Create a program that takes a string as input and removes all the\n",
        "spaces from it. Print the modified string without spaces."
      ],
      "metadata": {
        "id": "X1op6HJqN3Ih"
      }
    },
    {
      "cell_type": "code",
      "source": [
        " # Input a sentence\n",
        "user_input = input(\"Enter a sentence: \")\n",
        "\n",
        "# Remove spaces\n",
        "no_space = user_input.replace(\" \", \"\")\n",
        "\n",
        "print(f\"original sentence -> {user_input}\")\n",
        "print(f\"no space sentence -> {no_space}\")"
      ],
      "metadata": {
        "colab": {
          "base_uri": "https://localhost:8080/"
        },
        "id": "CmUcATbfN5rN",
        "outputId": "48a21def-72cb-40f8-f04f-2303f158738e"
      },
      "execution_count": 12,
      "outputs": [
        {
          "output_type": "stream",
          "name": "stdout",
          "text": [
            "Enter a sentence: Hello my name is akash soni\n",
            "original sentence -> Hello my name is akash soni\n",
            "no space sentence -> Hellomynameisakashsoni\n"
          ]
        }
      ]
    },
    {
      "cell_type": "code",
      "source": [],
      "metadata": {
        "id": "_S1zgWlYNrZY"
      },
      "execution_count": null,
      "outputs": []
    }
  ]
}